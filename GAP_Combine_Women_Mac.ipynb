{
 "cells": [
  {
   "cell_type": "code",
   "execution_count": 1,
   "metadata": {},
   "outputs": [
    {
     "data": {
      "text/plain": [
       "['gap_men_pants.csv',\n",
       " 'gap_men_Activewears.csv',\n",
       " 'gap_men_Acc.csv',\n",
       " 'gap_women_sweaters.csv',\n",
       " 'gap_men_Tshirts.csv',\n",
       " 'recycled_fabric_care_details.csv',\n",
       " 'gap_women_Tshirts.csv',\n",
       " 'gap_women_skirts.csv',\n",
       " 'gap_men_Coats.csv',\n",
       " 'gap_women_shorts.csv',\n",
       " 'gap_women_pants.csv',\n",
       " 'gap_women_all.csv',\n",
       " 'gap_men_Graphic.csv',\n",
       " 'gap_women_underwears.csv',\n",
       " 'regenerative_fabric_care_details.csv',\n",
       " 'gap_men_Sweatshirts.csv',\n",
       " 'gap_women_bras.csv',\n",
       " 'organic_fabric_care_details.csv',\n",
       " 'gap_men_Shirts.csv',\n",
       " 'gap_women_sweatshirts.csv',\n",
       " 'gap_women_dresses_Incomplete.csv',\n",
       " 'gap_men_Sweaters.csv',\n",
       " 'gap_women_shirtstop_44.csv',\n",
       " 'gap_women_swimsuits.csv',\n",
       " 'gap_women_outerwears.csv',\n",
       " 'gap_men_UnderwearSocks.csv',\n",
       " 'gap_women_pajamas.csv',\n",
       " 'gap_men_Pajamas.csv',\n",
       " 'gap_men_Polo.csv',\n",
       " 'gap_men_shorts.csv',\n",
       " 'gap_women_Activewears.csv',\n",
       " 'gap_women_set.csv',\n",
       " 'GAP_Collected.csv',\n",
       " 'gap_women_jeans_16.csv']"
      ]
     },
     "execution_count": 1,
     "metadata": {},
     "output_type": "execute_result"
    }
   ],
   "source": [
    "import glob\n",
    " \n",
    "# list all csv files only\n",
    "csv_files = glob.glob('*.{}'.format('csv'))\n",
    "csv_files"
   ]
  },
  {
   "cell_type": "markdown",
   "metadata": {},
   "source": [
    "### Data Upload"
   ]
  },
  {
   "cell_type": "code",
   "execution_count": 2,
   "metadata": {},
   "outputs": [
    {
     "data": {
      "text/plain": [
       "['gap_women_sweaters.csv',\n",
       " 'gap_women_Tshirts.csv',\n",
       " 'gap_women_skirts.csv',\n",
       " 'gap_women_shorts.csv',\n",
       " 'gap_women_pants.csv',\n",
       " 'gap_women_all.csv',\n",
       " 'gap_women_underwears.csv',\n",
       " 'gap_women_bras.csv',\n",
       " 'gap_women_sweatshirts.csv',\n",
       " 'gap_women_dresses_Incomplete.csv',\n",
       " 'gap_women_shirtstop_44.csv',\n",
       " 'gap_women_swimsuits.csv',\n",
       " 'gap_women_outerwears.csv',\n",
       " 'gap_women_pajamas.csv',\n",
       " 'gap_women_Activewears.csv',\n",
       " 'gap_women_set.csv',\n",
       " 'gap_women_jeans_16.csv']"
      ]
     },
     "execution_count": 2,
     "metadata": {},
     "output_type": "execute_result"
    }
   ],
   "source": [
    "WOMEN = []\n",
    "for i in csv_files:\n",
    "    if \"gap_women\" in i:\n",
    "        WOMEN.append(i)\n",
    "WOMEN"
   ]
  },
  {
   "cell_type": "code",
   "execution_count": 3,
   "metadata": {},
   "outputs": [
    {
     "data": {
      "text/html": [
       "<div>\n",
       "<style scoped>\n",
       "    .dataframe tbody tr th:only-of-type {\n",
       "        vertical-align: middle;\n",
       "    }\n",
       "\n",
       "    .dataframe tbody tr th {\n",
       "        vertical-align: top;\n",
       "    }\n",
       "\n",
       "    .dataframe thead th {\n",
       "        text-align: right;\n",
       "    }\n",
       "</style>\n",
       "<table border=\"1\" class=\"dataframe\">\n",
       "  <thead>\n",
       "    <tr style=\"text-align: right;\">\n",
       "      <th></th>\n",
       "      <th>Product_URL</th>\n",
       "      <th>Product_Demographic</th>\n",
       "      <th>Product_Type</th>\n",
       "      <th>Product_Name</th>\n",
       "      <th>Selling_Price</th>\n",
       "      <th>Max_Retail_Price</th>\n",
       "      <th>Rating</th>\n",
       "      <th>Rating_Count</th>\n",
       "      <th>Color</th>\n",
       "      <th>Available_Sizes</th>\n",
       "      <th>Fit_Sizing</th>\n",
       "      <th>Product_Details</th>\n",
       "      <th>Fabric_Care</th>\n",
       "    </tr>\n",
       "  </thead>\n",
       "  <tbody>\n",
       "    <tr>\n",
       "      <th>0</th>\n",
       "      <td>https://www.gap.com/browse/product.do?pid=4651...</td>\n",
       "      <td>Women</td>\n",
       "      <td>Sweaters</td>\n",
       "      <td>Textured Sweater Jacket</td>\n",
       "      <td>78.00$98.00</td>\n",
       "      <td>78.00$98.00</td>\n",
       "      <td>0.00</td>\n",
       "      <td>Not available</td>\n",
       "      <td>ivory frost</td>\n",
       "      <td>XXS, XS, S, M, L, XL, XXL</td>\n",
       "      <td>['* Fit: Relaxed. A straight &amp; easy fit', '* S...</td>\n",
       "      <td>['Soft, textured cotton sweater jacket', 'Roun...</td>\n",
       "      <td>['Cotton 100%', 'Machine wash and lay flat to ...</td>\n",
       "    </tr>\n",
       "    <tr>\n",
       "      <th>1</th>\n",
       "      <td>https://www.gap.com/browse/product.do?pid=6612...</td>\n",
       "      <td>Women</td>\n",
       "      <td>Sweaters</td>\n",
       "      <td>24/7 Split-Hem Crewneck Sweater</td>\n",
       "      <td>55.00</td>\n",
       "      <td>55.00</td>\n",
       "      <td>4.64</td>\n",
       "      <td>337</td>\n",
       "      <td>black &amp; off white stripe</td>\n",
       "      <td>XXS, XS, S, M, L, XL, XXL</td>\n",
       "      <td>['Straight silhouette with an oversized fit', ...</td>\n",
       "      <td>['Soft knit cotton sweater', 'Crewneck', 'Long...</td>\n",
       "      <td>['Cotton 100%', 'Machine wash', 'Imported']</td>\n",
       "    </tr>\n",
       "    <tr>\n",
       "      <th>2</th>\n",
       "      <td>https://www.gap.com/browse/product.do?pid=8312...</td>\n",
       "      <td>Women</td>\n",
       "      <td>Sweaters</td>\n",
       "      <td>Lightweight CashSoft Cardigan</td>\n",
       "      <td>48.00</td>\n",
       "      <td>48.00</td>\n",
       "      <td>4.35</td>\n",
       "      <td>20</td>\n",
       "      <td>chino beige</td>\n",
       "      <td>XXS, XS, S, M, L, XL, XXL</td>\n",
       "      <td>['* Fit: Classic. A straight &amp; easy fit', 'Sli...</td>\n",
       "      <td>['Supersoft and lightweight cotton-blend, slig...</td>\n",
       "      <td>['Cotton 55%, Polyester 25%, Nylon 20%', 'Mach...</td>\n",
       "    </tr>\n",
       "    <tr>\n",
       "      <th>3</th>\n",
       "      <td>https://www.gap.com/browse/product.do?pid=5922...</td>\n",
       "      <td>Women</td>\n",
       "      <td>Sweaters</td>\n",
       "      <td>Shaker-Stitch Crewneck Sweater</td>\n",
       "      <td>41.00</td>\n",
       "      <td>41.00</td>\n",
       "      <td>4.65</td>\n",
       "      <td>313</td>\n",
       "      <td>chino beige</td>\n",
       "      <td>XXS, XS, S, M, L, XL, XXL</td>\n",
       "      <td>['Straight silhouette with a relaxed, slightly...</td>\n",
       "      <td>['Slightly cropped soft cotton shaker-stitch s...</td>\n",
       "      <td>['Cotton 100%', 'Machine wash, lay flat to dry...</td>\n",
       "    </tr>\n",
       "    <tr>\n",
       "      <th>4</th>\n",
       "      <td>https://www.gap.com/browse/product.do?pid=8547...</td>\n",
       "      <td>Women</td>\n",
       "      <td>Sweaters</td>\n",
       "      <td>24/7 Split-Hem Linen-Blend Oversized Cardigan</td>\n",
       "      <td>79.95</td>\n",
       "      <td>79.95</td>\n",
       "      <td>0.00</td>\n",
       "      <td>Not available</td>\n",
       "      <td>olive green</td>\n",
       "      <td>XXS, XS, S, M, L, XL, XXL</td>\n",
       "      <td>['* Fit: Oversized. Fits loose on the body', '...</td>\n",
       "      <td>['Soft linen-blend oversized cardigan', 'V-nec...</td>\n",
       "      <td>['Linen 55%, Polyester 45%', 'Machine wash and...</td>\n",
       "    </tr>\n",
       "    <tr>\n",
       "      <th>...</th>\n",
       "      <td>...</td>\n",
       "      <td>...</td>\n",
       "      <td>...</td>\n",
       "      <td>...</td>\n",
       "      <td>...</td>\n",
       "      <td>...</td>\n",
       "      <td>...</td>\n",
       "      <td>...</td>\n",
       "      <td>...</td>\n",
       "      <td>...</td>\n",
       "      <td>...</td>\n",
       "      <td>...</td>\n",
       "      <td>...</td>\n",
       "    </tr>\n",
       "    <tr>\n",
       "      <th>2275</th>\n",
       "      <td>https://www.gap.com/browse/product.do?pid=5704...</td>\n",
       "      <td>Women</td>\n",
       "      <td>Jeans</td>\n",
       "      <td>High Rise True Skinny Jeans</td>\n",
       "      <td>16.97$79.95</td>\n",
       "      <td>16.97$79.95</td>\n",
       "      <td>4.33</td>\n",
       "      <td>42</td>\n",
       "      <td>white</td>\n",
       "      <td>29</td>\n",
       "      <td>['Our High Rise Jean has an 11\" (28 cm) rise.\\...</td>\n",
       "      <td>['Fit: Skinny from top to bottom in the waist,...</td>\n",
       "      <td>['Cotton 94%, Elasterrell 4%, Elastane 2%', 'M...</td>\n",
       "    </tr>\n",
       "    <tr>\n",
       "      <th>2276</th>\n",
       "      <td>https://www.gap.com/browse/product.do?pid=7035...</td>\n",
       "      <td>Women</td>\n",
       "      <td>Jeans</td>\n",
       "      <td>Mid Rise Vintage Slim Jeans with Washwell</td>\n",
       "      <td>30.97$79.95</td>\n",
       "      <td>30.97$79.95</td>\n",
       "      <td>4.64</td>\n",
       "      <td>39</td>\n",
       "      <td>light indigo</td>\n",
       "      <td>30</td>\n",
       "      <td>['The Mid Rise is a 9.5 inch rise that hit at ...</td>\n",
       "      <td>['With Low Stretch. Feels like vintage denim, ...</td>\n",
       "      <td>['Machine wash', 'Imported']</td>\n",
       "    </tr>\n",
       "    <tr>\n",
       "      <th>2277</th>\n",
       "      <td>https://www.gap.com/browse/product.do?pid=7724...</td>\n",
       "      <td>Women</td>\n",
       "      <td>Jeans</td>\n",
       "      <td>Low Rise Vintage Slim Jeans</td>\n",
       "      <td>49.99$69.95</td>\n",
       "      <td>49.99$69.95</td>\n",
       "      <td>4.23</td>\n",
       "      <td>52</td>\n",
       "      <td>dark indigo</td>\n",
       "      <td>24, 25, 26, 27, 28, 29, 30, 31, 32, 33, 34, 35</td>\n",
       "      <td>['Our Low Rise Jean has a 8.75\" (22 cm) rise.\\...</td>\n",
       "      <td>['Fit: A slim, ankle-length classic. More room...</td>\n",
       "      <td>['Cotton 86%, Recycled Cotton 7%, Recycled Pol...</td>\n",
       "    </tr>\n",
       "    <tr>\n",
       "      <th>2278</th>\n",
       "      <td>https://www.gap.com/browse/product.do?pid=7407...</td>\n",
       "      <td>Women</td>\n",
       "      <td>Jeans</td>\n",
       "      <td>Everyday Mid Rise Jegging with Washwell</td>\n",
       "      <td>19.99$49.95</td>\n",
       "      <td>19.99$49.95</td>\n",
       "      <td>4.48</td>\n",
       "      <td>323</td>\n",
       "      <td>medium indigo</td>\n",
       "      <td>29</td>\n",
       "      <td>['The Mid Rise is a 9.5 inch rise that hit at ...</td>\n",
       "      <td>['With High Stretch. Our softest, stretchiest,...</td>\n",
       "      <td>['Polyester 15%, Spandex 1%, Viscose Rayon 10%...</td>\n",
       "    </tr>\n",
       "    <tr>\n",
       "      <th>2279</th>\n",
       "      <td>https://www.gap.com/browse/product.do?pid=7945...</td>\n",
       "      <td>Women</td>\n",
       "      <td>Jeans</td>\n",
       "      <td>Mid Rise Classic Straight Jeans</td>\n",
       "      <td>59.99$79.95</td>\n",
       "      <td>59.99$79.95</td>\n",
       "      <td>4.23</td>\n",
       "      <td>217</td>\n",
       "      <td>dark wash</td>\n",
       "      <td>24, 26</td>\n",
       "      <td>['Our Mid Rise Jean has a 10\" (25 cm) rise.\\u2...</td>\n",
       "      <td>['Fit: Skinny through the hip &amp; thigh with a t...</td>\n",
       "      <td>['Elasterrell 4%, Recycled Cotton 13%, Cotton ...</td>\n",
       "    </tr>\n",
       "  </tbody>\n",
       "</table>\n",
       "<p>2280 rows × 13 columns</p>\n",
       "</div>"
      ],
      "text/plain": [
       "                                            Product_URL Product_Demographic  \\\n",
       "0     https://www.gap.com/browse/product.do?pid=4651...               Women   \n",
       "1     https://www.gap.com/browse/product.do?pid=6612...               Women   \n",
       "2     https://www.gap.com/browse/product.do?pid=8312...               Women   \n",
       "3     https://www.gap.com/browse/product.do?pid=5922...               Women   \n",
       "4     https://www.gap.com/browse/product.do?pid=8547...               Women   \n",
       "...                                                 ...                 ...   \n",
       "2275  https://www.gap.com/browse/product.do?pid=5704...               Women   \n",
       "2276  https://www.gap.com/browse/product.do?pid=7035...               Women   \n",
       "2277  https://www.gap.com/browse/product.do?pid=7724...               Women   \n",
       "2278  https://www.gap.com/browse/product.do?pid=7407...               Women   \n",
       "2279  https://www.gap.com/browse/product.do?pid=7945...               Women   \n",
       "\n",
       "     Product_Type                                   Product_Name  \\\n",
       "0        Sweaters                        Textured Sweater Jacket   \n",
       "1        Sweaters                24/7 Split-Hem Crewneck Sweater   \n",
       "2        Sweaters                  Lightweight CashSoft Cardigan   \n",
       "3        Sweaters                 Shaker-Stitch Crewneck Sweater   \n",
       "4        Sweaters  24/7 Split-Hem Linen-Blend Oversized Cardigan   \n",
       "...           ...                                            ...   \n",
       "2275        Jeans                    High Rise True Skinny Jeans   \n",
       "2276        Jeans      Mid Rise Vintage Slim Jeans with Washwell   \n",
       "2277        Jeans                    Low Rise Vintage Slim Jeans   \n",
       "2278        Jeans        Everyday Mid Rise Jegging with Washwell   \n",
       "2279        Jeans                Mid Rise Classic Straight Jeans   \n",
       "\n",
       "     Selling_Price Max_Retail_Price  Rating   Rating_Count  \\\n",
       "0      78.00$98.00      78.00$98.00    0.00  Not available   \n",
       "1            55.00            55.00    4.64            337   \n",
       "2            48.00            48.00    4.35             20   \n",
       "3            41.00            41.00    4.65            313   \n",
       "4            79.95            79.95    0.00  Not available   \n",
       "...            ...              ...     ...            ...   \n",
       "2275   16.97$79.95      16.97$79.95    4.33             42   \n",
       "2276   30.97$79.95      30.97$79.95    4.64             39   \n",
       "2277   49.99$69.95      49.99$69.95    4.23             52   \n",
       "2278   19.99$49.95      19.99$49.95    4.48            323   \n",
       "2279   59.99$79.95      59.99$79.95    4.23            217   \n",
       "\n",
       "                         Color  \\\n",
       "0                  ivory frost   \n",
       "1     black & off white stripe   \n",
       "2                  chino beige   \n",
       "3                  chino beige   \n",
       "4                  olive green   \n",
       "...                        ...   \n",
       "2275                     white   \n",
       "2276              light indigo   \n",
       "2277               dark indigo   \n",
       "2278             medium indigo   \n",
       "2279                 dark wash   \n",
       "\n",
       "                                     Available_Sizes  \\\n",
       "0                          XXS, XS, S, M, L, XL, XXL   \n",
       "1                          XXS, XS, S, M, L, XL, XXL   \n",
       "2                          XXS, XS, S, M, L, XL, XXL   \n",
       "3                          XXS, XS, S, M, L, XL, XXL   \n",
       "4                          XXS, XS, S, M, L, XL, XXL   \n",
       "...                                              ...   \n",
       "2275                                              29   \n",
       "2276                                              30   \n",
       "2277  24, 25, 26, 27, 28, 29, 30, 31, 32, 33, 34, 35   \n",
       "2278                                              29   \n",
       "2279                                          24, 26   \n",
       "\n",
       "                                             Fit_Sizing  \\\n",
       "0     ['* Fit: Relaxed. A straight & easy fit', '* S...   \n",
       "1     ['Straight silhouette with an oversized fit', ...   \n",
       "2     ['* Fit: Classic. A straight & easy fit', 'Sli...   \n",
       "3     ['Straight silhouette with a relaxed, slightly...   \n",
       "4     ['* Fit: Oversized. Fits loose on the body', '...   \n",
       "...                                                 ...   \n",
       "2275  ['Our High Rise Jean has an 11\" (28 cm) rise.\\...   \n",
       "2276  ['The Mid Rise is a 9.5 inch rise that hit at ...   \n",
       "2277  ['Our Low Rise Jean has a 8.75\" (22 cm) rise.\\...   \n",
       "2278  ['The Mid Rise is a 9.5 inch rise that hit at ...   \n",
       "2279  ['Our Mid Rise Jean has a 10\" (25 cm) rise.\\u2...   \n",
       "\n",
       "                                        Product_Details  \\\n",
       "0     ['Soft, textured cotton sweater jacket', 'Roun...   \n",
       "1     ['Soft knit cotton sweater', 'Crewneck', 'Long...   \n",
       "2     ['Supersoft and lightweight cotton-blend, slig...   \n",
       "3     ['Slightly cropped soft cotton shaker-stitch s...   \n",
       "4     ['Soft linen-blend oversized cardigan', 'V-nec...   \n",
       "...                                                 ...   \n",
       "2275  ['Fit: Skinny from top to bottom in the waist,...   \n",
       "2276  ['With Low Stretch. Feels like vintage denim, ...   \n",
       "2277  ['Fit: A slim, ankle-length classic. More room...   \n",
       "2278  ['With High Stretch. Our softest, stretchiest,...   \n",
       "2279  ['Fit: Skinny through the hip & thigh with a t...   \n",
       "\n",
       "                                            Fabric_Care  \n",
       "0     ['Cotton 100%', 'Machine wash and lay flat to ...  \n",
       "1           ['Cotton 100%', 'Machine wash', 'Imported']  \n",
       "2     ['Cotton 55%, Polyester 25%, Nylon 20%', 'Mach...  \n",
       "3     ['Cotton 100%', 'Machine wash, lay flat to dry...  \n",
       "4     ['Linen 55%, Polyester 45%', 'Machine wash and...  \n",
       "...                                                 ...  \n",
       "2275  ['Cotton 94%, Elasterrell 4%, Elastane 2%', 'M...  \n",
       "2276                       ['Machine wash', 'Imported']  \n",
       "2277  ['Cotton 86%, Recycled Cotton 7%, Recycled Pol...  \n",
       "2278  ['Polyester 15%, Spandex 1%, Viscose Rayon 10%...  \n",
       "2279  ['Elasterrell 4%, Recycled Cotton 13%, Cotton ...  \n",
       "\n",
       "[2280 rows x 13 columns]"
      ]
     },
     "execution_count": 3,
     "metadata": {},
     "output_type": "execute_result"
    }
   ],
   "source": [
    "import pandas as pd\n",
    " \n",
    "women_append = pd.DataFrame()\n",
    "for file in WOMEN:\n",
    "    df = pd.read_csv(file)\n",
    "    women_append = pd.concat([women_append, df], ignore_index=True)\n",
    "women_append\n",
    " "
   ]
  },
  {
   "cell_type": "code",
   "execution_count": 4,
   "metadata": {},
   "outputs": [
    {
     "name": "stdout",
     "output_type": "stream",
     "text": [
      "<class 'pandas.core.frame.DataFrame'>\n",
      "RangeIndex: 2280 entries, 0 to 2279\n",
      "Data columns (total 13 columns):\n",
      " #   Column               Non-Null Count  Dtype  \n",
      "---  ------               --------------  -----  \n",
      " 0   Product_URL          2280 non-null   object \n",
      " 1   Product_Demographic  2280 non-null   object \n",
      " 2   Product_Type         2280 non-null   object \n",
      " 3   Product_Name         2280 non-null   object \n",
      " 4   Selling_Price        2280 non-null   object \n",
      " 5   Max_Retail_Price     2280 non-null   object \n",
      " 6   Rating               2280 non-null   float64\n",
      " 7   Rating_Count         2280 non-null   object \n",
      " 8   Color                2280 non-null   object \n",
      " 9   Available_Sizes      2280 non-null   object \n",
      " 10  Fit_Sizing           2280 non-null   object \n",
      " 11  Product_Details      2280 non-null   object \n",
      " 12  Fabric_Care          2280 non-null   object \n",
      "dtypes: float64(1), object(12)\n",
      "memory usage: 231.7+ KB\n"
     ]
    }
   ],
   "source": [
    "women_append.info()"
   ]
  },
  {
   "cell_type": "markdown",
   "metadata": {},
   "source": [
    "### Data Preprocessing (general)"
   ]
  },
  {
   "cell_type": "code",
   "execution_count": 5,
   "metadata": {},
   "outputs": [],
   "source": [
    "# Replace 'Not Available' with 0 \n",
    "women_append['Rating_Count'] = women_append['Rating_Count'].replace('Not available', 0)"
   ]
  },
  {
   "cell_type": "code",
   "execution_count": 6,
   "metadata": {},
   "outputs": [],
   "source": [
    "# Convert 'Rating_Count' column to integers\n",
    "women_append['Rating_Count'] = women_append['Rating_Count'].astype(int)"
   ]
  },
  {
   "cell_type": "code",
   "execution_count": 7,
   "metadata": {},
   "outputs": [],
   "source": [
    "import numpy as np\n",
    "\n",
    "women_append['Product_Demographic'] = women_append['Product_Demographic'].replace('Not available', 'Women')"
   ]
  },
  {
   "cell_type": "code",
   "execution_count": 8,
   "metadata": {},
   "outputs": [
    {
     "data": {
      "text/html": [
       "<div>\n",
       "<style scoped>\n",
       "    .dataframe tbody tr th:only-of-type {\n",
       "        vertical-align: middle;\n",
       "    }\n",
       "\n",
       "    .dataframe tbody tr th {\n",
       "        vertical-align: top;\n",
       "    }\n",
       "\n",
       "    .dataframe thead th {\n",
       "        text-align: right;\n",
       "    }\n",
       "</style>\n",
       "<table border=\"1\" class=\"dataframe\">\n",
       "  <thead>\n",
       "    <tr style=\"text-align: right;\">\n",
       "      <th></th>\n",
       "      <th>Product_URL</th>\n",
       "      <th>Product_Demographic</th>\n",
       "      <th>Product_Type</th>\n",
       "      <th>Product_Name</th>\n",
       "      <th>Selling_Price</th>\n",
       "      <th>Max_Retail_Price</th>\n",
       "      <th>Rating</th>\n",
       "      <th>Rating_Count</th>\n",
       "      <th>Color</th>\n",
       "      <th>Available_Sizes</th>\n",
       "      <th>Fit_Sizing</th>\n",
       "      <th>Product_Details</th>\n",
       "      <th>Fabric_Care</th>\n",
       "    </tr>\n",
       "  </thead>\n",
       "  <tbody>\n",
       "    <tr>\n",
       "      <th>500</th>\n",
       "      <td>https://www.gap.com/browse/product.do?pid=7296...</td>\n",
       "      <td>Women</td>\n",
       "      <td>Sweatshirts &amp; Sweatpants</td>\n",
       "      <td>Vintage Soft Eyelet Sleeve Sweatshirt</td>\n",
       "      <td>44.99</td>\n",
       "      <td>44.99</td>\n",
       "      <td>4.73</td>\n",
       "      <td>122</td>\n",
       "      <td>iconic tan khaki tan</td>\n",
       "      <td>XXS, XS, S, M, L, XL, XXL</td>\n",
       "      <td>['Straight silhouette with a relaxed fit', 'Hi...</td>\n",
       "      <td>['Soft cotton-blend sweatshirt', 'Crewneck', '...</td>\n",
       "      <td>['Cotton 77%, Polyester 23%', 'Normal Wash', '...</td>\n",
       "    </tr>\n",
       "    <tr>\n",
       "      <th>501</th>\n",
       "      <td>https://www.gap.com/browse/product.do?pid=8195...</td>\n",
       "      <td>Women</td>\n",
       "      <td>Shirts &amp; Tops</td>\n",
       "      <td>Eyelet Perfect Shirt</td>\n",
       "      <td>49.99</td>\n",
       "      <td>49.99</td>\n",
       "      <td>4.47</td>\n",
       "      <td>15</td>\n",
       "      <td>new off white</td>\n",
       "      <td>XXS, XS, S, M, L, XL, XXL</td>\n",
       "      <td>['* Fit: Classic. A straight &amp; easy fit', 'Hit...</td>\n",
       "      <td>['Soft cotton shirt with allover eyelet lace d...</td>\n",
       "      <td>['Cotton 100%', 'Machine wash', 'Imported']</td>\n",
       "    </tr>\n",
       "    <tr>\n",
       "      <th>502</th>\n",
       "      <td>https://www.gap.com/browse/product.do?pid=8703...</td>\n",
       "      <td>Women</td>\n",
       "      <td>Outerwear &amp; Jackets</td>\n",
       "      <td>Belted Denim Shirt Jacket</td>\n",
       "      <td>Not available</td>\n",
       "      <td>Not available</td>\n",
       "      <td>4.00</td>\n",
       "      <td>12</td>\n",
       "      <td>medium indigo</td>\n",
       "      <td>XXS, XS, S, M, L, XL, XXL</td>\n",
       "      <td>['Not applicable']</td>\n",
       "      <td>['This denim jacket made with 5% recycled cott...</td>\n",
       "      <td>['Cotton 95%, Recycled Cotton 5%', 'Cotton 95%...</td>\n",
       "    </tr>\n",
       "    <tr>\n",
       "      <th>503</th>\n",
       "      <td>https://www.gap.com/browse/product.do?pid=7953...</td>\n",
       "      <td>Women</td>\n",
       "      <td>T-Shirts &amp; Tanks</td>\n",
       "      <td>Cotton Vintage Crewneck T-Shirt</td>\n",
       "      <td>23</td>\n",
       "      <td>23</td>\n",
       "      <td>4.35</td>\n",
       "      <td>3403</td>\n",
       "      <td>fresh white</td>\n",
       "      <td>XXS, XS, S, M, L, XL, XXL</td>\n",
       "      <td>['Straight silhouette with a relaxed fit', 'Hi...</td>\n",
       "      <td>['Made with 100% organically grown cotton. Org...</td>\n",
       "      <td>['Organic Cotton 100%', 'Machine wash cold', '...</td>\n",
       "    </tr>\n",
       "    <tr>\n",
       "      <th>504</th>\n",
       "      <td>https://www.gap.com/browse/product.do?pid=5407...</td>\n",
       "      <td>Women</td>\n",
       "      <td>T-Shirts &amp; Tanks</td>\n",
       "      <td>Modern Shell Tank Top</td>\n",
       "      <td>24.95</td>\n",
       "      <td>24.95</td>\n",
       "      <td>4.58</td>\n",
       "      <td>515</td>\n",
       "      <td>fresh white</td>\n",
       "      <td>XXS, XS, S, M, L, XL, XXL</td>\n",
       "      <td>['Straight silhouette with a slim, slightly cr...</td>\n",
       "      <td>['Slightly cropped soft knit tank top', 'Crewn...</td>\n",
       "      <td>['Cotton 58%, Modal 39%, Spandex 3%', 'Machine...</td>\n",
       "    </tr>\n",
       "    <tr>\n",
       "      <th>505</th>\n",
       "      <td>https://www.gap.com/browse/product.do?pid=6605...</td>\n",
       "      <td>Women</td>\n",
       "      <td>Jeans</td>\n",
       "      <td>High Rise Cheeky Straight Jeans</td>\n",
       "      <td>71</td>\n",
       "      <td>71</td>\n",
       "      <td>4.07</td>\n",
       "      <td>1092</td>\n",
       "      <td>dark indigo v2</td>\n",
       "      <td>23, 24, 25, 26, 27, 28, 29, 30, 31, 32, 33, 34...</td>\n",
       "      <td>['Our High Rise Jean has an 11\" (28 cm) rise.\\...</td>\n",
       "      <td>['Fit: Hugs your hips, holds you in &amp; ends wit...</td>\n",
       "      <td>['Cotton 94%, Recycled Cotton 5%, Elastane 1%'...</td>\n",
       "    </tr>\n",
       "    <tr>\n",
       "      <th>506</th>\n",
       "      <td>https://www.gap.com/browse/product.do?pid=5406...</td>\n",
       "      <td>Women</td>\n",
       "      <td>T-Shirts &amp; Tanks</td>\n",
       "      <td>Modern Crewneck T-Shirt</td>\n",
       "      <td>23</td>\n",
       "      <td>23</td>\n",
       "      <td>4.60</td>\n",
       "      <td>1809</td>\n",
       "      <td>fresh white</td>\n",
       "      <td>XXS, XS, S, M, L, XL, XXL</td>\n",
       "      <td>['Straight silhouette with a loose fit', 'Hits...</td>\n",
       "      <td>['Soft knit stretch cotton and modal t-shirt',...</td>\n",
       "      <td>['Cotton 58%, Modal 39%, Spandex 3%', 'Machine...</td>\n",
       "    </tr>\n",
       "    <tr>\n",
       "      <th>507</th>\n",
       "      <td>https://www.gap.com/browse/product.do?pid=5406...</td>\n",
       "      <td>Women</td>\n",
       "      <td>T-Shirts &amp; Tanks</td>\n",
       "      <td>Modern Tank Top</td>\n",
       "      <td>19.95</td>\n",
       "      <td>19.95</td>\n",
       "      <td>4.68</td>\n",
       "      <td>621</td>\n",
       "      <td>fresh white</td>\n",
       "      <td>XXS, XS, S, M, L, XL, XXL</td>\n",
       "      <td>['Straight silhouette with a slim fit', 'Hits ...</td>\n",
       "      <td>['Soft knit stretch cotton and modal tank top'...</td>\n",
       "      <td>['Cotton 58%, Modal 39%, Spandex 3%', 'Machine...</td>\n",
       "    </tr>\n",
       "    <tr>\n",
       "      <th>508</th>\n",
       "      <td>https://www.gap.com/browse/product.do?pid=5406...</td>\n",
       "      <td>Women</td>\n",
       "      <td>T-Shirts &amp; Tanks</td>\n",
       "      <td>Modern Crewneck T-Shirt</td>\n",
       "      <td>29.95</td>\n",
       "      <td>29.95</td>\n",
       "      <td>4.46</td>\n",
       "      <td>1140</td>\n",
       "      <td>black</td>\n",
       "      <td>XXS, XS, S, M, L, XL, XXL</td>\n",
       "      <td>['Straight silhouette with a loose fit', 'Hits...</td>\n",
       "      <td>['Soft knit stretch cotton and modal t-shirt',...</td>\n",
       "      <td>['Cotton 58%, Modal 39%, Spandex 3%', 'Machine...</td>\n",
       "    </tr>\n",
       "    <tr>\n",
       "      <th>509</th>\n",
       "      <td>https://www.gap.com/browse/product.do?pid=5407...</td>\n",
       "      <td>Women</td>\n",
       "      <td>T-Shirts &amp; Tanks</td>\n",
       "      <td>Modern Shell Tank Top</td>\n",
       "      <td>24.95</td>\n",
       "      <td>24.95</td>\n",
       "      <td>4.58</td>\n",
       "      <td>515</td>\n",
       "      <td>black</td>\n",
       "      <td>XXS, XS, S, M, L, XL, XXL</td>\n",
       "      <td>['Straight silhouette with a slim, slightly cr...</td>\n",
       "      <td>['Slightly cropped soft knit tank top', 'Crewn...</td>\n",
       "      <td>['Cotton 58%, Modal 39%, Spandex 3%', 'Machine...</td>\n",
       "    </tr>\n",
       "    <tr>\n",
       "      <th>510</th>\n",
       "      <td>https://www.gap.com/browse/product.do?pid=8735...</td>\n",
       "      <td>Women</td>\n",
       "      <td>Dresses</td>\n",
       "      <td>Crochet Mini Dress</td>\n",
       "      <td>89.95</td>\n",
       "      <td>89.95</td>\n",
       "      <td>0.00</td>\n",
       "      <td>0</td>\n",
       "      <td>navy blue</td>\n",
       "      <td>XXS, XS, S, M, L, XL, XXL</td>\n",
       "      <td>['* Fit: Classic. A shift silhouette with a st...</td>\n",
       "      <td>['Soft crochet mini dress', 'Crewneck', 'Short...</td>\n",
       "      <td>['Cotton 100%', 'Machine wash and lay flat to ...</td>\n",
       "    </tr>\n",
       "    <tr>\n",
       "      <th>511</th>\n",
       "      <td>https://www.gap.com/browse/product.do?pid=8551...</td>\n",
       "      <td>Women</td>\n",
       "      <td>Swimsuits</td>\n",
       "      <td>Scoop Neck Swimsuit</td>\n",
       "      <td>Not available</td>\n",
       "      <td>Not available</td>\n",
       "      <td>0.00</td>\n",
       "      <td>0</td>\n",
       "      <td>multi color floral</td>\n",
       "      <td>XXS, XS, S, M, L, XL, XXL</td>\n",
       "      <td>['Fitted silhouette hugs the body']</td>\n",
       "      <td>['Soft, stretch one-piece swimsuit', 'Scoop ne...</td>\n",
       "      <td>['Body: 83% Polyamide, 17% Spandex', 'Lining: ...</td>\n",
       "    </tr>\n",
       "    <tr>\n",
       "      <th>512</th>\n",
       "      <td>https://www.gap.com/browse/product.do?pid=8559...</td>\n",
       "      <td>Women</td>\n",
       "      <td>Pants</td>\n",
       "      <td>365 High Rise Pleated Trousers</td>\n",
       "      <td>Not available</td>\n",
       "      <td>Not available</td>\n",
       "      <td>5.00</td>\n",
       "      <td>4</td>\n",
       "      <td>black</td>\n",
       "      <td>00, 0, 2, 4, 6, 8, 10, 12, 14, 16, 18, 20</td>\n",
       "      <td>['* Fit: Classic. An easy silhouette that fits...</td>\n",
       "      <td>['Soft woven trousers', 'E-waist with conceale...</td>\n",
       "      <td>['Polyester 100%', 'Machine wash', 'Imported']</td>\n",
       "    </tr>\n",
       "    <tr>\n",
       "      <th>513</th>\n",
       "      <td>https://www.gap.com/browse/product.do?pid=8550...</td>\n",
       "      <td>Women</td>\n",
       "      <td>Dresses</td>\n",
       "      <td>Apron Denim Midi Dress</td>\n",
       "      <td>Not available</td>\n",
       "      <td>Not available</td>\n",
       "      <td>0.00</td>\n",
       "      <td>0</td>\n",
       "      <td>medium indigo</td>\n",
       "      <td>00, 0, 2, 4, 6, 8, 10, 12, 14, 16, 18, 20</td>\n",
       "      <td>['* Fit: Slim. A slim silhouette that fits clo...</td>\n",
       "      <td>['Soft, stretch denim midi dress', 'Apron neck...</td>\n",
       "      <td>['Cotton 94%, Recycled Cotton 5%, Spandex 1%',...</td>\n",
       "    </tr>\n",
       "    <tr>\n",
       "      <th>514</th>\n",
       "      <td>https://www.gap.com/browse/product.do?pid=8735...</td>\n",
       "      <td>Women</td>\n",
       "      <td>Dresses</td>\n",
       "      <td>Crochet Mini Dress</td>\n",
       "      <td>89.95</td>\n",
       "      <td>89.95</td>\n",
       "      <td>0.00</td>\n",
       "      <td>0</td>\n",
       "      <td>new off white</td>\n",
       "      <td>XXS, XS, S, M, L, XL, XXL</td>\n",
       "      <td>['* Fit: Classic. A shift silhouette with a st...</td>\n",
       "      <td>['Soft crochet mini dress', 'Crewneck', 'Short...</td>\n",
       "      <td>['Cotton 100%', 'Machine wash and lay flat to ...</td>\n",
       "    </tr>\n",
       "    <tr>\n",
       "      <th>515</th>\n",
       "      <td>https://www.gap.com/browse/product.do?pid=8918...</td>\n",
       "      <td>Women</td>\n",
       "      <td>Dresses</td>\n",
       "      <td>Linen-Blend Button Mini Dress</td>\n",
       "      <td>Not available</td>\n",
       "      <td>Not available</td>\n",
       "      <td>0.00</td>\n",
       "      <td>0</td>\n",
       "      <td>white with black polka dot</td>\n",
       "      <td>XXS, XS, S, M, L, XL, XXL</td>\n",
       "      <td>['*Fit: Slim. An A-line silhouette that sits c...</td>\n",
       "      <td>['Soft linen-rayon blend mini dress', 'V-neck'...</td>\n",
       "      <td>['Linen 55%, Viscose Rayon 45%', 'Machine wash...</td>\n",
       "    </tr>\n",
       "    <tr>\n",
       "      <th>516</th>\n",
       "      <td>https://www.gap.com/browse/product.do?pid=8735...</td>\n",
       "      <td>Women</td>\n",
       "      <td>Dresses</td>\n",
       "      <td>Crochet Mini Dress</td>\n",
       "      <td>89.95</td>\n",
       "      <td>89.95</td>\n",
       "      <td>0.00</td>\n",
       "      <td>0</td>\n",
       "      <td>maize yellow</td>\n",
       "      <td>XXS, XS, S, M, L, XL, XXL</td>\n",
       "      <td>['* Fit: Classic. A shift silhouette with a st...</td>\n",
       "      <td>['Soft crochet mini dress', 'Crewneck', 'Short...</td>\n",
       "      <td>['Cotton 100%', 'Machine wash and lay flat to ...</td>\n",
       "    </tr>\n",
       "    <tr>\n",
       "      <th>517</th>\n",
       "      <td>https://www.gap.com/browse/product.do?pid=8761...</td>\n",
       "      <td>Women</td>\n",
       "      <td>Shirts &amp; Tops</td>\n",
       "      <td>Linen-Cotton Vest</td>\n",
       "      <td>Not available</td>\n",
       "      <td>Not available</td>\n",
       "      <td>0.00</td>\n",
       "      <td>0</td>\n",
       "      <td>new off white</td>\n",
       "      <td>XXS, XS, S, M, L, XL, XXL</td>\n",
       "      <td>['* Fit: Slightly fitted. Sits close to the bo...</td>\n",
       "      <td>['Soft linen-cotton vest', 'V-neck', 'Sleevele...</td>\n",
       "      <td>['Linen 55%, Cotton 45%', 'Machine wash', 'Imp...</td>\n",
       "    </tr>\n",
       "    <tr>\n",
       "      <th>518</th>\n",
       "      <td>https://www.gap.com/browse/product.do?pid=8735...</td>\n",
       "      <td>Women</td>\n",
       "      <td>Dresses</td>\n",
       "      <td>Crochet Mini Dress</td>\n",
       "      <td>89.95</td>\n",
       "      <td>89.95</td>\n",
       "      <td>0.00</td>\n",
       "      <td>0</td>\n",
       "      <td>black &amp; white stripe</td>\n",
       "      <td>XXS, XS, S, M, L, XL, XXL</td>\n",
       "      <td>['* Fit: Classic. A shift silhouette with a st...</td>\n",
       "      <td>['Soft crochet mini dress', 'Crewneck', 'Short...</td>\n",
       "      <td>['Cotton 100%', 'Machine wash and lay flat to ...</td>\n",
       "    </tr>\n",
       "    <tr>\n",
       "      <th>519</th>\n",
       "      <td>https://www.gap.com/browse/product.do?pid=4166...</td>\n",
       "      <td>Women</td>\n",
       "      <td>Shorts</td>\n",
       "      <td>365 High Rise Linen-Blend Shorts</td>\n",
       "      <td>Not available</td>\n",
       "      <td>Not available</td>\n",
       "      <td>0.00</td>\n",
       "      <td>0</td>\n",
       "      <td>new off white</td>\n",
       "      <td>XXS, XS, S, M, L, XL, XXL</td>\n",
       "      <td>['* Fit: Classic. An easy silhouette that fits...</td>\n",
       "      <td>['Soft linen-blend trouser shorts', 'E-waist w...</td>\n",
       "      <td>['Linen 55%, Rayon 45%', 'Machine wash', 'Impo...</td>\n",
       "    </tr>\n",
       "    <tr>\n",
       "      <th>520</th>\n",
       "      <td>https://www.gap.com/browse/product.do?pid=8547...</td>\n",
       "      <td>Women</td>\n",
       "      <td>Sweaters</td>\n",
       "      <td>Lightweight CashSoft Polo Sweater</td>\n",
       "      <td>Not available</td>\n",
       "      <td>Not available</td>\n",
       "      <td>0.00</td>\n",
       "      <td>0</td>\n",
       "      <td>heather grey</td>\n",
       "      <td>XXS, XS, S, M, L, XL, XXL</td>\n",
       "      <td>['* Fit: Stretch-to-Fit. Slim &amp; stretchy that ...</td>\n",
       "      <td>['Supersoft polo sweater', 'Polo collar with b...</td>\n",
       "      <td>['Cotton 55%, Polyester 25%, Nylon 20%', 'Mach...</td>\n",
       "    </tr>\n",
       "    <tr>\n",
       "      <th>521</th>\n",
       "      <td>https://www.gap.com/browse/product.do?pid=7946...</td>\n",
       "      <td>Women</td>\n",
       "      <td>Jeans</td>\n",
       "      <td>Mid Rise Girlfriend Jeans</td>\n",
       "      <td>63</td>\n",
       "      <td>63</td>\n",
       "      <td>3.96</td>\n",
       "      <td>121</td>\n",
       "      <td>dark wash</td>\n",
       "      <td>24, 25, 26, 27, 28, 29, 30, 31, 32, 33, 34, 35</td>\n",
       "      <td>['Our Mid Rise Jean has a 10\" (25cm) rise', 'E...</td>\n",
       "      <td>['Fit: Easy from hip to thigh with a slightly ...</td>\n",
       "      <td>['Cotton 99%, Spandex 1%', 'Machine wash', 'Im...</td>\n",
       "    </tr>\n",
       "    <tr>\n",
       "      <th>522</th>\n",
       "      <td>https://www.gap.com/browse/product.do?pid=8750...</td>\n",
       "      <td>Women</td>\n",
       "      <td>Skirts</td>\n",
       "      <td>Linen-Blend Cargo Midi Skirt</td>\n",
       "      <td>Not available</td>\n",
       "      <td>Not available</td>\n",
       "      <td>0.00</td>\n",
       "      <td>0</td>\n",
       "      <td>olive green</td>\n",
       "      <td>XXS, XS, S, M, L, XL, XXL</td>\n",
       "      <td>[\"* Fit: Classic. An A-line silhouette that's ...</td>\n",
       "      <td>['Soft linen-rayon blend midi skirt', 'Elastic...</td>\n",
       "      <td>['Linen 55%, Viscose Rayon 45%', 'Machine wash...</td>\n",
       "    </tr>\n",
       "    <tr>\n",
       "      <th>523</th>\n",
       "      <td>https://www.gap.com/browse/product.do?pid=8761...</td>\n",
       "      <td>Women</td>\n",
       "      <td>Shirts &amp; Tops</td>\n",
       "      <td>Linen-Cotton Vest</td>\n",
       "      <td>Not available</td>\n",
       "      <td>Not available</td>\n",
       "      <td>0.00</td>\n",
       "      <td>0</td>\n",
       "      <td>black</td>\n",
       "      <td>XXS, XS, S, M, L, XL, XXL</td>\n",
       "      <td>['* Fit: Slightly fitted. Sits close to the bo...</td>\n",
       "      <td>['Soft linen-cotton vest', 'V-neck', 'Sleevele...</td>\n",
       "      <td>['Linen 55%, Cotton 45%', 'Machine wash', 'Imp...</td>\n",
       "    </tr>\n",
       "    <tr>\n",
       "      <th>524</th>\n",
       "      <td>https://www.gap.com/browse/product.do?pid=8733...</td>\n",
       "      <td>Women</td>\n",
       "      <td>Dresses</td>\n",
       "      <td>Ruffle Sleeve Tiered Mini Dress</td>\n",
       "      <td>Not available</td>\n",
       "      <td>Not available</td>\n",
       "      <td>0.00</td>\n",
       "      <td>0</td>\n",
       "      <td>laurel wreath green</td>\n",
       "      <td>XXS, XS, S, M, L, XL, XXL</td>\n",
       "      <td>['* Fit: Classic. A fit &amp; flare silhouette wit...</td>\n",
       "      <td>['Soft cotton-modal blend mini dress', 'Round ...</td>\n",
       "      <td>['Cotton 58%, Modal 38%, Spandex 4%', 'Machine...</td>\n",
       "    </tr>\n",
       "    <tr>\n",
       "      <th>525</th>\n",
       "      <td>https://www.gap.com/browse/product.do?pid=8761...</td>\n",
       "      <td>Women</td>\n",
       "      <td>Shirts &amp; Tops</td>\n",
       "      <td>Linen-Cotton Vest</td>\n",
       "      <td>Not available</td>\n",
       "      <td>Not available</td>\n",
       "      <td>0.00</td>\n",
       "      <td>0</td>\n",
       "      <td>white and navy blue stripe</td>\n",
       "      <td>XXS, XS, S, M, L, XL, XXL</td>\n",
       "      <td>['* Fit: Slightly fitted. Sits close to the bo...</td>\n",
       "      <td>['Soft linen-cotton vest', 'V-neck', 'Sleevele...</td>\n",
       "      <td>['Linen 55%, Cotton 45%', 'Machine wash', 'Imp...</td>\n",
       "    </tr>\n",
       "    <tr>\n",
       "      <th>526</th>\n",
       "      <td>https://www.gap.com/browse/product.do?pid=8576...</td>\n",
       "      <td>Women</td>\n",
       "      <td>Dresses</td>\n",
       "      <td>Linen-Blend Midi Shirtdress</td>\n",
       "      <td>Not available</td>\n",
       "      <td>Not available</td>\n",
       "      <td>0.00</td>\n",
       "      <td>0</td>\n",
       "      <td>new off white</td>\n",
       "      <td>XXS, XS, S, M, L, XL, XXL</td>\n",
       "      <td>['*Fit: Slim. An A-line silhouette that sits c...</td>\n",
       "      <td>['Soft linen-blend midi shirtdress', 'Point co...</td>\n",
       "      <td>['Linen 55%, Viscose Rayon 45%', 'Machine wash...</td>\n",
       "    </tr>\n",
       "    <tr>\n",
       "      <th>527</th>\n",
       "      <td>https://www.gap.com/browse/product.do?pid=5406...</td>\n",
       "      <td>Women</td>\n",
       "      <td>T-Shirts &amp; Tanks</td>\n",
       "      <td>Modern Crewneck T-Shirt</td>\n",
       "      <td>29.95</td>\n",
       "      <td>29.95</td>\n",
       "      <td>4.46</td>\n",
       "      <td>1140</td>\n",
       "      <td>light heather grey</td>\n",
       "      <td>XXS, XS, S, M, L, XL, XXL</td>\n",
       "      <td>['Straight silhouette with a loose fit', 'Hits...</td>\n",
       "      <td>['Soft knit stretch cotton and modal t-shirt',...</td>\n",
       "      <td>['Cotton 58%, Modal 39%, Spandex 3%', 'Machine...</td>\n",
       "    </tr>\n",
       "    <tr>\n",
       "      <th>528</th>\n",
       "      <td>https://www.gap.com/browse/product.do?pid=8853...</td>\n",
       "      <td>Women</td>\n",
       "      <td>GapFit Activewear</td>\n",
       "      <td>GapFit High Rise Runaround Pants</td>\n",
       "      <td>Not available</td>\n",
       "      <td>Not available</td>\n",
       "      <td>0.00</td>\n",
       "      <td>0</td>\n",
       "      <td>true black</td>\n",
       "      <td>XXS, XS, S, M, L, XL, XXL</td>\n",
       "      <td>['* Fit: Slim. A semi-fitted silhouette that f...</td>\n",
       "      <td>['Soft stretch woven lightweight pants', 'E-wa...</td>\n",
       "      <td>['Recycled Polyester 86%, Spandex 14%', 'Machi...</td>\n",
       "    </tr>\n",
       "    <tr>\n",
       "      <th>529</th>\n",
       "      <td>https://www.gap.com/browse/product.do?pid=7117...</td>\n",
       "      <td>Women</td>\n",
       "      <td>Skirts</td>\n",
       "      <td>Denim Maxi Skirt</td>\n",
       "      <td>Not available</td>\n",
       "      <td>Not available</td>\n",
       "      <td>4.04</td>\n",
       "      <td>255</td>\n",
       "      <td>medium indigo</td>\n",
       "      <td>24, 25, 26, 27, 28, 29, 30, 31, 32, 33, 34, 35</td>\n",
       "      <td>['Fitted on the waist and hip', 'Hits below th...</td>\n",
       "      <td>['Fit: Fitted on the waist, snug on the hip', ...</td>\n",
       "      <td>['Cotton 95%, Recycled Cotton 5%', 'Machine wa...</td>\n",
       "    </tr>\n",
       "  </tbody>\n",
       "</table>\n",
       "</div>"
      ],
      "text/plain": [
       "                                           Product_URL Product_Demographic  \\\n",
       "500  https://www.gap.com/browse/product.do?pid=7296...               Women   \n",
       "501  https://www.gap.com/browse/product.do?pid=8195...               Women   \n",
       "502  https://www.gap.com/browse/product.do?pid=8703...               Women   \n",
       "503  https://www.gap.com/browse/product.do?pid=7953...               Women   \n",
       "504  https://www.gap.com/browse/product.do?pid=5407...               Women   \n",
       "505  https://www.gap.com/browse/product.do?pid=6605...               Women   \n",
       "506  https://www.gap.com/browse/product.do?pid=5406...               Women   \n",
       "507  https://www.gap.com/browse/product.do?pid=5406...               Women   \n",
       "508  https://www.gap.com/browse/product.do?pid=5406...               Women   \n",
       "509  https://www.gap.com/browse/product.do?pid=5407...               Women   \n",
       "510  https://www.gap.com/browse/product.do?pid=8735...               Women   \n",
       "511  https://www.gap.com/browse/product.do?pid=8551...               Women   \n",
       "512  https://www.gap.com/browse/product.do?pid=8559...               Women   \n",
       "513  https://www.gap.com/browse/product.do?pid=8550...               Women   \n",
       "514  https://www.gap.com/browse/product.do?pid=8735...               Women   \n",
       "515  https://www.gap.com/browse/product.do?pid=8918...               Women   \n",
       "516  https://www.gap.com/browse/product.do?pid=8735...               Women   \n",
       "517  https://www.gap.com/browse/product.do?pid=8761...               Women   \n",
       "518  https://www.gap.com/browse/product.do?pid=8735...               Women   \n",
       "519  https://www.gap.com/browse/product.do?pid=4166...               Women   \n",
       "520  https://www.gap.com/browse/product.do?pid=8547...               Women   \n",
       "521  https://www.gap.com/browse/product.do?pid=7946...               Women   \n",
       "522  https://www.gap.com/browse/product.do?pid=8750...               Women   \n",
       "523  https://www.gap.com/browse/product.do?pid=8761...               Women   \n",
       "524  https://www.gap.com/browse/product.do?pid=8733...               Women   \n",
       "525  https://www.gap.com/browse/product.do?pid=8761...               Women   \n",
       "526  https://www.gap.com/browse/product.do?pid=8576...               Women   \n",
       "527  https://www.gap.com/browse/product.do?pid=5406...               Women   \n",
       "528  https://www.gap.com/browse/product.do?pid=8853...               Women   \n",
       "529  https://www.gap.com/browse/product.do?pid=7117...               Women   \n",
       "\n",
       "                 Product_Type                           Product_Name  \\\n",
       "500  Sweatshirts & Sweatpants  Vintage Soft Eyelet Sleeve Sweatshirt   \n",
       "501             Shirts & Tops                   Eyelet Perfect Shirt   \n",
       "502       Outerwear & Jackets              Belted Denim Shirt Jacket   \n",
       "503          T-Shirts & Tanks        Cotton Vintage Crewneck T-Shirt   \n",
       "504          T-Shirts & Tanks                  Modern Shell Tank Top   \n",
       "505                     Jeans        High Rise Cheeky Straight Jeans   \n",
       "506          T-Shirts & Tanks                Modern Crewneck T-Shirt   \n",
       "507          T-Shirts & Tanks                        Modern Tank Top   \n",
       "508          T-Shirts & Tanks                Modern Crewneck T-Shirt   \n",
       "509          T-Shirts & Tanks                  Modern Shell Tank Top   \n",
       "510                   Dresses                     Crochet Mini Dress   \n",
       "511                 Swimsuits                    Scoop Neck Swimsuit   \n",
       "512                     Pants         365 High Rise Pleated Trousers   \n",
       "513                   Dresses                 Apron Denim Midi Dress   \n",
       "514                   Dresses                     Crochet Mini Dress   \n",
       "515                   Dresses          Linen-Blend Button Mini Dress   \n",
       "516                   Dresses                     Crochet Mini Dress   \n",
       "517             Shirts & Tops                      Linen-Cotton Vest   \n",
       "518                   Dresses                     Crochet Mini Dress   \n",
       "519                    Shorts       365 High Rise Linen-Blend Shorts   \n",
       "520                  Sweaters      Lightweight CashSoft Polo Sweater   \n",
       "521                     Jeans              Mid Rise Girlfriend Jeans   \n",
       "522                    Skirts           Linen-Blend Cargo Midi Skirt   \n",
       "523             Shirts & Tops                      Linen-Cotton Vest   \n",
       "524                   Dresses        Ruffle Sleeve Tiered Mini Dress   \n",
       "525             Shirts & Tops                      Linen-Cotton Vest   \n",
       "526                   Dresses            Linen-Blend Midi Shirtdress   \n",
       "527          T-Shirts & Tanks                Modern Crewneck T-Shirt   \n",
       "528         GapFit Activewear       GapFit High Rise Runaround Pants   \n",
       "529                    Skirts                       Denim Maxi Skirt   \n",
       "\n",
       "     Selling_Price Max_Retail_Price  Rating  Rating_Count  \\\n",
       "500          44.99            44.99    4.73           122   \n",
       "501          49.99            49.99    4.47            15   \n",
       "502  Not available    Not available    4.00            12   \n",
       "503             23               23    4.35          3403   \n",
       "504          24.95            24.95    4.58           515   \n",
       "505             71               71    4.07          1092   \n",
       "506             23               23    4.60          1809   \n",
       "507          19.95            19.95    4.68           621   \n",
       "508          29.95            29.95    4.46          1140   \n",
       "509          24.95            24.95    4.58           515   \n",
       "510          89.95            89.95    0.00             0   \n",
       "511  Not available    Not available    0.00             0   \n",
       "512  Not available    Not available    5.00             4   \n",
       "513  Not available    Not available    0.00             0   \n",
       "514          89.95            89.95    0.00             0   \n",
       "515  Not available    Not available    0.00             0   \n",
       "516          89.95            89.95    0.00             0   \n",
       "517  Not available    Not available    0.00             0   \n",
       "518          89.95            89.95    0.00             0   \n",
       "519  Not available    Not available    0.00             0   \n",
       "520  Not available    Not available    0.00             0   \n",
       "521             63               63    3.96           121   \n",
       "522  Not available    Not available    0.00             0   \n",
       "523  Not available    Not available    0.00             0   \n",
       "524  Not available    Not available    0.00             0   \n",
       "525  Not available    Not available    0.00             0   \n",
       "526  Not available    Not available    0.00             0   \n",
       "527          29.95            29.95    4.46          1140   \n",
       "528  Not available    Not available    0.00             0   \n",
       "529  Not available    Not available    4.04           255   \n",
       "\n",
       "                          Color  \\\n",
       "500        iconic tan khaki tan   \n",
       "501               new off white   \n",
       "502               medium indigo   \n",
       "503                 fresh white   \n",
       "504                 fresh white   \n",
       "505              dark indigo v2   \n",
       "506                 fresh white   \n",
       "507                 fresh white   \n",
       "508                       black   \n",
       "509                       black   \n",
       "510                   navy blue   \n",
       "511          multi color floral   \n",
       "512                       black   \n",
       "513               medium indigo   \n",
       "514               new off white   \n",
       "515  white with black polka dot   \n",
       "516                maize yellow   \n",
       "517               new off white   \n",
       "518        black & white stripe   \n",
       "519               new off white   \n",
       "520                heather grey   \n",
       "521                   dark wash   \n",
       "522                 olive green   \n",
       "523                       black   \n",
       "524         laurel wreath green   \n",
       "525  white and navy blue stripe   \n",
       "526               new off white   \n",
       "527          light heather grey   \n",
       "528                  true black   \n",
       "529               medium indigo   \n",
       "\n",
       "                                       Available_Sizes  \\\n",
       "500                          XXS, XS, S, M, L, XL, XXL   \n",
       "501                          XXS, XS, S, M, L, XL, XXL   \n",
       "502                          XXS, XS, S, M, L, XL, XXL   \n",
       "503                          XXS, XS, S, M, L, XL, XXL   \n",
       "504                          XXS, XS, S, M, L, XL, XXL   \n",
       "505  23, 24, 25, 26, 27, 28, 29, 30, 31, 32, 33, 34...   \n",
       "506                          XXS, XS, S, M, L, XL, XXL   \n",
       "507                          XXS, XS, S, M, L, XL, XXL   \n",
       "508                          XXS, XS, S, M, L, XL, XXL   \n",
       "509                          XXS, XS, S, M, L, XL, XXL   \n",
       "510                          XXS, XS, S, M, L, XL, XXL   \n",
       "511                          XXS, XS, S, M, L, XL, XXL   \n",
       "512          00, 0, 2, 4, 6, 8, 10, 12, 14, 16, 18, 20   \n",
       "513          00, 0, 2, 4, 6, 8, 10, 12, 14, 16, 18, 20   \n",
       "514                          XXS, XS, S, M, L, XL, XXL   \n",
       "515                          XXS, XS, S, M, L, XL, XXL   \n",
       "516                          XXS, XS, S, M, L, XL, XXL   \n",
       "517                          XXS, XS, S, M, L, XL, XXL   \n",
       "518                          XXS, XS, S, M, L, XL, XXL   \n",
       "519                          XXS, XS, S, M, L, XL, XXL   \n",
       "520                          XXS, XS, S, M, L, XL, XXL   \n",
       "521     24, 25, 26, 27, 28, 29, 30, 31, 32, 33, 34, 35   \n",
       "522                          XXS, XS, S, M, L, XL, XXL   \n",
       "523                          XXS, XS, S, M, L, XL, XXL   \n",
       "524                          XXS, XS, S, M, L, XL, XXL   \n",
       "525                          XXS, XS, S, M, L, XL, XXL   \n",
       "526                          XXS, XS, S, M, L, XL, XXL   \n",
       "527                          XXS, XS, S, M, L, XL, XXL   \n",
       "528                          XXS, XS, S, M, L, XL, XXL   \n",
       "529     24, 25, 26, 27, 28, 29, 30, 31, 32, 33, 34, 35   \n",
       "\n",
       "                                            Fit_Sizing  \\\n",
       "500  ['Straight silhouette with a relaxed fit', 'Hi...   \n",
       "501  ['* Fit: Classic. A straight & easy fit', 'Hit...   \n",
       "502                                 ['Not applicable']   \n",
       "503  ['Straight silhouette with a relaxed fit', 'Hi...   \n",
       "504  ['Straight silhouette with a slim, slightly cr...   \n",
       "505  ['Our High Rise Jean has an 11\" (28 cm) rise.\\...   \n",
       "506  ['Straight silhouette with a loose fit', 'Hits...   \n",
       "507  ['Straight silhouette with a slim fit', 'Hits ...   \n",
       "508  ['Straight silhouette with a loose fit', 'Hits...   \n",
       "509  ['Straight silhouette with a slim, slightly cr...   \n",
       "510  ['* Fit: Classic. A shift silhouette with a st...   \n",
       "511                ['Fitted silhouette hugs the body']   \n",
       "512  ['* Fit: Classic. An easy silhouette that fits...   \n",
       "513  ['* Fit: Slim. A slim silhouette that fits clo...   \n",
       "514  ['* Fit: Classic. A shift silhouette with a st...   \n",
       "515  ['*Fit: Slim. An A-line silhouette that sits c...   \n",
       "516  ['* Fit: Classic. A shift silhouette with a st...   \n",
       "517  ['* Fit: Slightly fitted. Sits close to the bo...   \n",
       "518  ['* Fit: Classic. A shift silhouette with a st...   \n",
       "519  ['* Fit: Classic. An easy silhouette that fits...   \n",
       "520  ['* Fit: Stretch-to-Fit. Slim & stretchy that ...   \n",
       "521  ['Our Mid Rise Jean has a 10\" (25cm) rise', 'E...   \n",
       "522  [\"* Fit: Classic. An A-line silhouette that's ...   \n",
       "523  ['* Fit: Slightly fitted. Sits close to the bo...   \n",
       "524  ['* Fit: Classic. A fit & flare silhouette wit...   \n",
       "525  ['* Fit: Slightly fitted. Sits close to the bo...   \n",
       "526  ['*Fit: Slim. An A-line silhouette that sits c...   \n",
       "527  ['Straight silhouette with a loose fit', 'Hits...   \n",
       "528  ['* Fit: Slim. A semi-fitted silhouette that f...   \n",
       "529  ['Fitted on the waist and hip', 'Hits below th...   \n",
       "\n",
       "                                       Product_Details  \\\n",
       "500  ['Soft cotton-blend sweatshirt', 'Crewneck', '...   \n",
       "501  ['Soft cotton shirt with allover eyelet lace d...   \n",
       "502  ['This denim jacket made with 5% recycled cott...   \n",
       "503  ['Made with 100% organically grown cotton. Org...   \n",
       "504  ['Slightly cropped soft knit tank top', 'Crewn...   \n",
       "505  ['Fit: Hugs your hips, holds you in & ends wit...   \n",
       "506  ['Soft knit stretch cotton and modal t-shirt',...   \n",
       "507  ['Soft knit stretch cotton and modal tank top'...   \n",
       "508  ['Soft knit stretch cotton and modal t-shirt',...   \n",
       "509  ['Slightly cropped soft knit tank top', 'Crewn...   \n",
       "510  ['Soft crochet mini dress', 'Crewneck', 'Short...   \n",
       "511  ['Soft, stretch one-piece swimsuit', 'Scoop ne...   \n",
       "512  ['Soft woven trousers', 'E-waist with conceale...   \n",
       "513  ['Soft, stretch denim midi dress', 'Apron neck...   \n",
       "514  ['Soft crochet mini dress', 'Crewneck', 'Short...   \n",
       "515  ['Soft linen-rayon blend mini dress', 'V-neck'...   \n",
       "516  ['Soft crochet mini dress', 'Crewneck', 'Short...   \n",
       "517  ['Soft linen-cotton vest', 'V-neck', 'Sleevele...   \n",
       "518  ['Soft crochet mini dress', 'Crewneck', 'Short...   \n",
       "519  ['Soft linen-blend trouser shorts', 'E-waist w...   \n",
       "520  ['Supersoft polo sweater', 'Polo collar with b...   \n",
       "521  ['Fit: Easy from hip to thigh with a slightly ...   \n",
       "522  ['Soft linen-rayon blend midi skirt', 'Elastic...   \n",
       "523  ['Soft linen-cotton vest', 'V-neck', 'Sleevele...   \n",
       "524  ['Soft cotton-modal blend mini dress', 'Round ...   \n",
       "525  ['Soft linen-cotton vest', 'V-neck', 'Sleevele...   \n",
       "526  ['Soft linen-blend midi shirtdress', 'Point co...   \n",
       "527  ['Soft knit stretch cotton and modal t-shirt',...   \n",
       "528  ['Soft stretch woven lightweight pants', 'E-wa...   \n",
       "529  ['Fit: Fitted on the waist, snug on the hip', ...   \n",
       "\n",
       "                                           Fabric_Care  \n",
       "500  ['Cotton 77%, Polyester 23%', 'Normal Wash', '...  \n",
       "501        ['Cotton 100%', 'Machine wash', 'Imported']  \n",
       "502  ['Cotton 95%, Recycled Cotton 5%', 'Cotton 95%...  \n",
       "503  ['Organic Cotton 100%', 'Machine wash cold', '...  \n",
       "504  ['Cotton 58%, Modal 39%, Spandex 3%', 'Machine...  \n",
       "505  ['Cotton 94%, Recycled Cotton 5%, Elastane 1%'...  \n",
       "506  ['Cotton 58%, Modal 39%, Spandex 3%', 'Machine...  \n",
       "507  ['Cotton 58%, Modal 39%, Spandex 3%', 'Machine...  \n",
       "508  ['Cotton 58%, Modal 39%, Spandex 3%', 'Machine...  \n",
       "509  ['Cotton 58%, Modal 39%, Spandex 3%', 'Machine...  \n",
       "510  ['Cotton 100%', 'Machine wash and lay flat to ...  \n",
       "511  ['Body: 83% Polyamide, 17% Spandex', 'Lining: ...  \n",
       "512     ['Polyester 100%', 'Machine wash', 'Imported']  \n",
       "513  ['Cotton 94%, Recycled Cotton 5%, Spandex 1%',...  \n",
       "514  ['Cotton 100%', 'Machine wash and lay flat to ...  \n",
       "515  ['Linen 55%, Viscose Rayon 45%', 'Machine wash...  \n",
       "516  ['Cotton 100%', 'Machine wash and lay flat to ...  \n",
       "517  ['Linen 55%, Cotton 45%', 'Machine wash', 'Imp...  \n",
       "518  ['Cotton 100%', 'Machine wash and lay flat to ...  \n",
       "519  ['Linen 55%, Rayon 45%', 'Machine wash', 'Impo...  \n",
       "520  ['Cotton 55%, Polyester 25%, Nylon 20%', 'Mach...  \n",
       "521  ['Cotton 99%, Spandex 1%', 'Machine wash', 'Im...  \n",
       "522  ['Linen 55%, Viscose Rayon 45%', 'Machine wash...  \n",
       "523  ['Linen 55%, Cotton 45%', 'Machine wash', 'Imp...  \n",
       "524  ['Cotton 58%, Modal 38%, Spandex 4%', 'Machine...  \n",
       "525  ['Linen 55%, Cotton 45%', 'Machine wash', 'Imp...  \n",
       "526  ['Linen 55%, Viscose Rayon 45%', 'Machine wash...  \n",
       "527  ['Cotton 58%, Modal 39%, Spandex 3%', 'Machine...  \n",
       "528  ['Recycled Polyester 86%, Spandex 14%', 'Machi...  \n",
       "529  ['Cotton 95%, Recycled Cotton 5%', 'Machine wa...  "
      ]
     },
     "execution_count": 8,
     "metadata": {},
     "output_type": "execute_result"
    }
   ],
   "source": [
    "women_append[500:530]"
   ]
  },
  {
   "cell_type": "code",
   "execution_count": 9,
   "metadata": {},
   "outputs": [
    {
     "name": "stdout",
     "output_type": "stream",
     "text": [
      "       Max_Retail_Price  Selling_Price\n",
      "count              2280           2280\n",
      "unique              326            326\n",
      "top       Not available  Not available\n",
      "freq                 86             86\n"
     ]
    }
   ],
   "source": [
    "# Summary statistics\n",
    "print(women_append[['Max_Retail_Price', 'Selling_Price']].describe())"
   ]
  },
  {
   "cell_type": "code",
   "execution_count": 10,
   "metadata": {},
   "outputs": [],
   "source": [
    "def handle_price(price_range):\n",
    "    # Check if the price range is a string and contains the '$' character\n",
    "    if isinstance(price_range, str) and '$' in price_range:\n",
    "        prices = price_range.split('$')\n",
    "        try:\n",
    "            return [float(price) for price in prices]\n",
    "        except ValueError:\n",
    "            return [None, None]\n",
    "    else:\n",
    "        return [None, None]"
   ]
  },
  {
   "cell_type": "markdown",
   "metadata": {},
   "source": [
    "### EDA Analysis"
   ]
  },
  {
   "cell_type": "markdown",
   "metadata": {},
   "source": [
    "#### Price"
   ]
  },
  {
   "cell_type": "code",
   "execution_count": 11,
   "metadata": {},
   "outputs": [],
   "source": [
    "women_append[['Min_Price', 'Max_Price']] = women_append.apply(\n",
    "    lambda row: pd.Series(handle_price(row['Selling_Price'])),\n",
    "    axis=1\n",
    ")"
   ]
  },
  {
   "cell_type": "code",
   "execution_count": 12,
   "metadata": {},
   "outputs": [
    {
     "name": "stdout",
     "output_type": "stream",
     "text": [
      "   Min_Selling_Price  Max_Retail_Price\n",
      "0              78.00             98.00\n",
      "1              55.00             55.00\n",
      "2              48.00             48.00\n",
      "3              41.00             41.00\n",
      "4              79.95             79.95\n"
     ]
    }
   ],
   "source": [
    "# Fill them with the original Selling_Price if cause \n",
    "women_append['Min_Price'].fillna(women_append['Selling_Price'], inplace=True)\n",
    "women_append['Max_Price'].fillna(women_append['Selling_Price'], inplace=True)\n",
    "\n",
    "# Convert the new columns to numeric type, coercing any errors into NaNs\n",
    "women_append['Min_Price'] = pd.to_numeric(women_append['Min_Price'], errors='coerce')\n",
    "women_append['Max_price'] = pd.to_numeric(women_append['Max_Price'], errors='coerce')\n",
    "# Display the DataFrame to check the new columns\n",
    "print(women_append[['Min_Price', 'Max_Price']].head())"
   ]
  },
  {
   "cell_type": "code",
   "execution_count": 13,
   "metadata": {},
   "outputs": [
    {
     "name": "stdout",
     "output_type": "stream",
     "text": [
      "Descriptive statistics for minimum selling price:\n",
      "count    2194.000000\n",
      "mean       42.382639\n",
      "std        24.896689\n",
      "min         2.970000\n",
      "25%        24.000000\n",
      "50%        39.000000\n",
      "75%        55.000000\n",
      "max       179.990000\n",
      "Name: Min_Selling_Price, dtype: float64\n",
      "\n",
      "Descriptive statistics for maximum retail price:\n",
      "count    2194.000000\n",
      "mean       52.366404\n",
      "std        29.281097\n",
      "min         2.970000\n",
      "25%        29.950000\n",
      "50%        49.950000\n",
      "75%        69.950000\n",
      "max       188.000000\n",
      "Name: Max_Retail_Price, dtype: float64\n"
     ]
    }
   ],
   "source": [
    "# Calculate descriptive statistics for Min_Selling_Price and Max_Retail_Price\n",
    "print(\"Descriptive statistics for minimum selling price:\")\n",
    "print(women_append['Min_Price'].describe())\n",
    "\n",
    "print(\"\\nDescriptive statistics for maximum retail price:\")\n",
    "print(women_append['Max_Price'].describe())"
   ]
  },
  {
   "cell_type": "code",
   "execution_count": 14,
   "metadata": {},
   "outputs": [
    {
     "data": {
      "text/html": [
       "<div>\n",
       "<style scoped>\n",
       "    .dataframe tbody tr th:only-of-type {\n",
       "        vertical-align: middle;\n",
       "    }\n",
       "\n",
       "    .dataframe tbody tr th {\n",
       "        vertical-align: top;\n",
       "    }\n",
       "\n",
       "    .dataframe thead th {\n",
       "        text-align: right;\n",
       "    }\n",
       "</style>\n",
       "<table border=\"1\" class=\"dataframe\">\n",
       "  <thead>\n",
       "    <tr style=\"text-align: right;\">\n",
       "      <th></th>\n",
       "      <th>Product_URL</th>\n",
       "      <th>Product_Demographic</th>\n",
       "      <th>Product_Type</th>\n",
       "      <th>Product_Name</th>\n",
       "      <th>Selling_Price</th>\n",
       "      <th>Max_Retail_Price</th>\n",
       "      <th>Rating</th>\n",
       "      <th>Rating_Count</th>\n",
       "      <th>Color</th>\n",
       "      <th>Available_Sizes</th>\n",
       "      <th>Fit_Sizing</th>\n",
       "      <th>Product_Details</th>\n",
       "      <th>Fabric_Care</th>\n",
       "      <th>Min_Selling_Price</th>\n",
       "    </tr>\n",
       "  </thead>\n",
       "  <tbody>\n",
       "    <tr>\n",
       "      <th>0</th>\n",
       "      <td>https://www.gap.com/browse/product.do?pid=4651...</td>\n",
       "      <td>Women</td>\n",
       "      <td>Sweaters</td>\n",
       "      <td>Textured Sweater Jacket</td>\n",
       "      <td>78.00$98.00</td>\n",
       "      <td>98.0</td>\n",
       "      <td>0.0</td>\n",
       "      <td>0</td>\n",
       "      <td>ivory frost</td>\n",
       "      <td>XXS, XS, S, M, L, XL, XXL</td>\n",
       "      <td>['* Fit: Relaxed. A straight &amp; easy fit', '* S...</td>\n",
       "      <td>['Soft, textured cotton sweater jacket', 'Roun...</td>\n",
       "      <td>['Cotton 100%', 'Machine wash and lay flat to ...</td>\n",
       "      <td>78.0</td>\n",
       "    </tr>\n",
       "  </tbody>\n",
       "</table>\n",
       "</div>"
      ],
      "text/plain": [
       "                                         Product_URL Product_Demographic  \\\n",
       "0  https://www.gap.com/browse/product.do?pid=4651...               Women   \n",
       "\n",
       "  Product_Type             Product_Name Selling_Price  Max_Retail_Price  \\\n",
       "0     Sweaters  Textured Sweater Jacket   78.00$98.00              98.0   \n",
       "\n",
       "   Rating  Rating_Count        Color            Available_Sizes  \\\n",
       "0     0.0             0  ivory frost  XXS, XS, S, M, L, XL, XXL   \n",
       "\n",
       "                                          Fit_Sizing  \\\n",
       "0  ['* Fit: Relaxed. A straight & easy fit', '* S...   \n",
       "\n",
       "                                     Product_Details  \\\n",
       "0  ['Soft, textured cotton sweater jacket', 'Roun...   \n",
       "\n",
       "                                         Fabric_Care  Min_Selling_Price  \n",
       "0  ['Cotton 100%', 'Machine wash and lay flat to ...               78.0  "
      ]
     },
     "execution_count": 14,
     "metadata": {},
     "output_type": "execute_result"
    }
   ],
   "source": [
    "women_append[:1]"
   ]
  },
  {
   "cell_type": "markdown",
   "metadata": {},
   "source": [
    "#### Categories of Product (manual categorization involves)"
   ]
  },
  {
   "cell_type": "code",
   "execution_count": 15,
   "metadata": {},
   "outputs": [
    {
     "name": "stdout",
     "output_type": "stream",
     "text": [
      "Product_Type\n",
      "Dresses                     249\n",
      "Underwear                   205\n",
      "Jeans                       195\n",
      "Shirts & Tops               188\n",
      "T-Shirts & Tanks            179\n",
      "Sweatshirts & Sweatpants    176\n",
      "Sweaters                    174\n",
      "GapFit Activewear           157\n",
      "Bras                        148\n",
      "Pajamas & Loungewear        129\n",
      "Pants                       123\n",
      "Outerwear & Jackets          89\n",
      "Swimsuits                    67\n",
      "Shorts                       63\n",
      "Skirts                       57\n",
      "GapFit Active Tops           49\n",
      "Sweatshirts & Hoodies        19\n",
      "Not available                 6\n",
      "PROJECT GAP                   4\n",
      "Bags, Scarves, & More         2\n",
      "Jumpsuits & Rompers           1\n",
      "Name: count, dtype: int64\n"
     ]
    }
   ],
   "source": [
    "value_counts = women_append['Product_Type'].value_counts()\n",
    "print(value_counts)"
   ]
  },
  {
   "cell_type": "code",
   "execution_count": 16,
   "metadata": {},
   "outputs": [
    {
     "data": {
      "text/html": [
       "<div>\n",
       "<style scoped>\n",
       "    .dataframe tbody tr th:only-of-type {\n",
       "        vertical-align: middle;\n",
       "    }\n",
       "\n",
       "    .dataframe tbody tr th {\n",
       "        vertical-align: top;\n",
       "    }\n",
       "\n",
       "    .dataframe thead th {\n",
       "        text-align: right;\n",
       "    }\n",
       "</style>\n",
       "<table border=\"1\" class=\"dataframe\">\n",
       "  <thead>\n",
       "    <tr style=\"text-align: right;\">\n",
       "      <th></th>\n",
       "      <th>Product_URL</th>\n",
       "      <th>Product_Demographic</th>\n",
       "      <th>Product_Type</th>\n",
       "      <th>Product_Name</th>\n",
       "      <th>Selling_Price</th>\n",
       "      <th>Max_Retail_Price</th>\n",
       "      <th>Rating</th>\n",
       "      <th>Rating_Count</th>\n",
       "      <th>Color</th>\n",
       "      <th>Available_Sizes</th>\n",
       "      <th>Fit_Sizing</th>\n",
       "      <th>Product_Details</th>\n",
       "      <th>Fabric_Care</th>\n",
       "      <th>Min_Selling_Price</th>\n",
       "    </tr>\n",
       "  </thead>\n",
       "  <tbody>\n",
       "    <tr>\n",
       "      <th>124</th>\n",
       "      <td>https://www.gap.com/browse/product.do?pid=7921...</td>\n",
       "      <td>Women</td>\n",
       "      <td>Not available</td>\n",
       "      <td>Blanket Boyfriend Cardigan</td>\n",
       "      <td>69.99</td>\n",
       "      <td>69.99</td>\n",
       "      <td>4.15</td>\n",
       "      <td>85</td>\n",
       "      <td>pale taupe beige</td>\n",
       "      <td>Not applicable</td>\n",
       "      <td>['Not available']</td>\n",
       "      <td>['Not available']</td>\n",
       "      <td>['Not available']</td>\n",
       "      <td>69.99</td>\n",
       "    </tr>\n",
       "    <tr>\n",
       "      <th>1673</th>\n",
       "      <td>https://www.gap.com/browse/product.do?pid=5135...</td>\n",
       "      <td>Women</td>\n",
       "      <td>Not available</td>\n",
       "      <td>GapFit Jacquard Full-Zip Jacket</td>\n",
       "      <td>59.99</td>\n",
       "      <td>59.99</td>\n",
       "      <td>4.11</td>\n",
       "      <td>95</td>\n",
       "      <td>true black</td>\n",
       "      <td>Not applicable</td>\n",
       "      <td>['Not available']</td>\n",
       "      <td>['Not available']</td>\n",
       "      <td>['Not available']</td>\n",
       "      <td>59.99</td>\n",
       "    </tr>\n",
       "    <tr>\n",
       "      <th>1675</th>\n",
       "      <td>https://www.gap.com/browse/product.do?pid=7420...</td>\n",
       "      <td>Women</td>\n",
       "      <td>Not available</td>\n",
       "      <td>Duvet Wrap Puffer Vest</td>\n",
       "      <td>89.99</td>\n",
       "      <td>89.99</td>\n",
       "      <td>4.06</td>\n",
       "      <td>93</td>\n",
       "      <td>black</td>\n",
       "      <td>Not applicable</td>\n",
       "      <td>['Not available']</td>\n",
       "      <td>['Not available']</td>\n",
       "      <td>['Not available']</td>\n",
       "      <td>89.99</td>\n",
       "    </tr>\n",
       "    <tr>\n",
       "      <th>1792</th>\n",
       "      <td>https://www.gap.com/browse/product.do?pid=7571...</td>\n",
       "      <td>Women</td>\n",
       "      <td>Not available</td>\n",
       "      <td>Ribbed Splitneck Long Sleeve T-Shirt</td>\n",
       "      <td>19.99</td>\n",
       "      <td>19.99</td>\n",
       "      <td>4.36</td>\n",
       "      <td>228</td>\n",
       "      <td>brannan brown</td>\n",
       "      <td>Not applicable</td>\n",
       "      <td>['Not available']</td>\n",
       "      <td>['Not available']</td>\n",
       "      <td>['Not available']</td>\n",
       "      <td>19.99</td>\n",
       "    </tr>\n",
       "    <tr>\n",
       "      <th>1812</th>\n",
       "      <td>https://www.gap.com/browse/product.do?pid=5797...</td>\n",
       "      <td>Women</td>\n",
       "      <td>Not available</td>\n",
       "      <td>Forever Favorite Rib Tank Top</td>\n",
       "      <td>14.99</td>\n",
       "      <td>14.99</td>\n",
       "      <td>4.54</td>\n",
       "      <td>151</td>\n",
       "      <td>true black</td>\n",
       "      <td>Not applicable</td>\n",
       "      <td>['Not available']</td>\n",
       "      <td>['Not available']</td>\n",
       "      <td>['Not available']</td>\n",
       "      <td>14.99</td>\n",
       "    </tr>\n",
       "    <tr>\n",
       "      <th>1845</th>\n",
       "      <td>https://www.gap.com/browse/product.do?pid=6159...</td>\n",
       "      <td>Women</td>\n",
       "      <td>Not available</td>\n",
       "      <td>GapFit Double-Knit Mesh Tank Top</td>\n",
       "      <td>24.99$34.95</td>\n",
       "      <td>34.95</td>\n",
       "      <td>3.95</td>\n",
       "      <td>21</td>\n",
       "      <td>black</td>\n",
       "      <td>XXS, XS</td>\n",
       "      <td>['Straight silhouette with a relaxed fit', 'Hi...</td>\n",
       "      <td>['Soft woven mesh racerback tank top', 'Round ...</td>\n",
       "      <td>['Polyester 100%', 'Machine wash', 'Imported']</td>\n",
       "      <td>24.99</td>\n",
       "    </tr>\n",
       "  </tbody>\n",
       "</table>\n",
       "</div>"
      ],
      "text/plain": [
       "                                            Product_URL Product_Demographic  \\\n",
       "124   https://www.gap.com/browse/product.do?pid=7921...               Women   \n",
       "1673  https://www.gap.com/browse/product.do?pid=5135...               Women   \n",
       "1675  https://www.gap.com/browse/product.do?pid=7420...               Women   \n",
       "1792  https://www.gap.com/browse/product.do?pid=7571...               Women   \n",
       "1812  https://www.gap.com/browse/product.do?pid=5797...               Women   \n",
       "1845  https://www.gap.com/browse/product.do?pid=6159...               Women   \n",
       "\n",
       "       Product_Type                          Product_Name Selling_Price  \\\n",
       "124   Not available            Blanket Boyfriend Cardigan         69.99   \n",
       "1673  Not available       GapFit Jacquard Full-Zip Jacket         59.99   \n",
       "1675  Not available                Duvet Wrap Puffer Vest         89.99   \n",
       "1792  Not available  Ribbed Splitneck Long Sleeve T-Shirt         19.99   \n",
       "1812  Not available         Forever Favorite Rib Tank Top         14.99   \n",
       "1845  Not available      GapFit Double-Knit Mesh Tank Top   24.99$34.95   \n",
       "\n",
       "      Max_Retail_Price  Rating  Rating_Count             Color  \\\n",
       "124              69.99    4.15            85  pale taupe beige   \n",
       "1673             59.99    4.11            95        true black   \n",
       "1675             89.99    4.06            93             black   \n",
       "1792             19.99    4.36           228     brannan brown   \n",
       "1812             14.99    4.54           151        true black   \n",
       "1845             34.95    3.95            21             black   \n",
       "\n",
       "     Available_Sizes                                         Fit_Sizing  \\\n",
       "124   Not applicable                                  ['Not available']   \n",
       "1673  Not applicable                                  ['Not available']   \n",
       "1675  Not applicable                                  ['Not available']   \n",
       "1792  Not applicable                                  ['Not available']   \n",
       "1812  Not applicable                                  ['Not available']   \n",
       "1845         XXS, XS  ['Straight silhouette with a relaxed fit', 'Hi...   \n",
       "\n",
       "                                        Product_Details  \\\n",
       "124                                   ['Not available']   \n",
       "1673                                  ['Not available']   \n",
       "1675                                  ['Not available']   \n",
       "1792                                  ['Not available']   \n",
       "1812                                  ['Not available']   \n",
       "1845  ['Soft woven mesh racerback tank top', 'Round ...   \n",
       "\n",
       "                                         Fabric_Care  Min_Selling_Price  \n",
       "124                                ['Not available']              69.99  \n",
       "1673                               ['Not available']              59.99  \n",
       "1675                               ['Not available']              89.99  \n",
       "1792                               ['Not available']              19.99  \n",
       "1812                               ['Not available']              14.99  \n",
       "1845  ['Polyester 100%', 'Machine wash', 'Imported']              24.99  "
      ]
     },
     "execution_count": 16,
     "metadata": {},
     "output_type": "execute_result"
    }
   ],
   "source": [
    "# check nas\n",
    "not_available_data = women_append[women_append['Product_Type'] == 'Not available']\n",
    "\n",
    "not_available_data"
   ]
  },
  {
   "cell_type": "code",
   "execution_count": 17,
   "metadata": {},
   "outputs": [
    {
     "name": "stdout",
     "output_type": "stream",
     "text": [
      "Product_URL            https://www.gap.com/browse/product.do?pid=5682...\n",
      "Product_Demographic                                                Women\n",
      "Product_Type                                            T-Shirts & Tanks\n",
      "Product_Name                               Organic Stretch Cotton Shorty\n",
      "Selling_Price                                                 8.00$10.50\n",
      "Max_Retail_Price                                                    10.5\n",
      "Rating                                                              4.43\n",
      "Rating_Count                                                         162\n",
      "Color                                                         storm grey\n",
      "Available_Sizes                                              S, M, L, XL\n",
      "Fit_Sizing             ['Low rise', 'Boy-cut leg', 'Full back coverag...\n",
      "Product_Details        ['Soft, stretch organic cotton boy short under...\n",
      "Fabric_Care            ['Organic Cotton 92%, Spandex 8%', 'Machine wa...\n",
      "Min_Selling_Price                                                    8.0\n",
      "Name: 887, dtype: object\n"
     ]
    }
   ],
   "source": [
    "women_append.at[887, 'Product_Type'] = 'T-Shirts & Tanks'\n",
    "\n",
    "# Verify the change by printing the row\n",
    "print(women_append.loc[887])"
   ]
  },
  {
   "cell_type": "code",
   "execution_count": 18,
   "metadata": {},
   "outputs": [
    {
     "name": "stdout",
     "output_type": "stream",
     "text": [
      "Product_URL            https://www.gap.com/browse/product.do?pid=8488...\n",
      "Product_Demographic                                                Women\n",
      "Product_Type                                            T-Shirts & Tanks\n",
      "Product_Name                                        Breathe Wireless Bra\n",
      "Selling_Price                                                      25.00\n",
      "Max_Retail_Price                                                    25.0\n",
      "Rating                                                              4.36\n",
      "Rating_Count                                                        1220\n",
      "Color                                                    misty rose pink\n",
      "Available_Sizes        30B, 30C, 32A, 32B, 32C, 32D, 34A, 34B, 34C, 3...\n",
      "Fit_Sizing             ['Easy fit', 'Sizes 32D+ are made with more su...\n",
      "Product_Details        ['Breathable, light as air heather jersey knit...\n",
      "Fabric_Care            ['Polyester 74%, Lyocell 18%, Spandex 8%', 'Ma...\n",
      "Min_Selling_Price                                                   25.0\n",
      "Name: 907, dtype: object\n"
     ]
    }
   ],
   "source": [
    "women_append.at[907, 'Product_Type'] = 'T-Shirts & Tanks'\n",
    "\n",
    "print(women_append.loc[907])"
   ]
  },
  {
   "cell_type": "code",
   "execution_count": 19,
   "metadata": {},
   "outputs": [
    {
     "name": "stdout",
     "output_type": "stream",
     "text": [
      "Product_URL            https://www.gap.com/browse/product.do?pid=8759...\n",
      "Product_Demographic                                                Women\n",
      "Product_Type                                                    Sweaters\n",
      "Product_Name                                       Linen Boyfriend Shirt\n",
      "Selling_Price                                                      69.95\n",
      "Max_Retail_Price                                                   69.95\n",
      "Rating                                                              3.29\n",
      "Rating_Count                                                           7\n",
      "Color                                                              black\n",
      "Available_Sizes                                XXS, XS, S, M, L, XL, XXL\n",
      "Fit_Sizing             ['* Fit: Relaxed. A straight & easy fit', '* S...\n",
      "Product_Details        ['Soft linen shirt', 'Spread collar', 'Long sl...\n",
      "Fabric_Care                   ['Linen 100%', 'Machine wash', 'Imported']\n",
      "Min_Selling_Price                                                  69.95\n",
      "Name: 1446, dtype: object\n"
     ]
    }
   ],
   "source": [
    "women_append.at[1446, 'Product_Type'] = 'Sweaters'\n",
    "\n",
    "print(women_append.loc[1446])"
   ]
  },
  {
   "cell_type": "code",
   "execution_count": 20,
   "metadata": {},
   "outputs": [
    {
     "name": "stdout",
     "output_type": "stream",
     "text": [
      "Product_URL            https://www.gap.com/browse/product.do?pid=5922...\n",
      "Product_Demographic                                                Women\n",
      "Product_Type                                           GapFit Activewear\n",
      "Product_Name                                      Shaker-Stitch Cardigan\n",
      "Selling_Price                                                      34.00\n",
      "Max_Retail_Price                                                    34.0\n",
      "Rating                                                              4.67\n",
      "Rating_Count                                                         326\n",
      "Color                                                              black\n",
      "Available_Sizes                                XXS, XS, S, M, L, XL, XXL\n",
      "Fit_Sizing             ['Straight silhouette with a relaxed fit', 'Hi...\n",
      "Product_Details        ['Soft cotton shaker-stitch cardigan', 'V-neck...\n",
      "Fabric_Care            ['Cotton 100%', 'Machine wash, lay flat to dry...\n",
      "Min_Selling_Price                                                   34.0\n",
      "Name: 53, dtype: object\n"
     ]
    }
   ],
   "source": [
    "# To change the 'Product_Type' value of row with index 53 to 'Shoes & Accessories'\n",
    "women_append.at[53, 'Product_Type'] = 'GapFit Activewear'\n",
    "\n",
    "print(women_append.loc[53])"
   ]
  },
  {
   "cell_type": "code",
   "execution_count": 21,
   "metadata": {},
   "outputs": [
    {
     "name": "stdout",
     "output_type": "stream",
     "text": [
      "Product_URL            https://www.gap.com/browse/product.do?pid=4794...\n",
      "Product_Demographic                                                Women\n",
      "Product_Type                                           GapFit Activewear\n",
      "Product_Name                                  Shrunken Roll Neck Sweater\n",
      "Selling_Price                                                55.00$69.95\n",
      "Max_Retail_Price                                                   69.95\n",
      "Rating                                                               0.0\n",
      "Rating_Count                                                           0\n",
      "Color                                                        pink stripe\n",
      "Available_Sizes                                XXS, XS, S, M, L, XL, XXL\n",
      "Fit_Sizing                     ['* Fit: Classic. A straight & easy fit']\n",
      "Product_Details        ['Soft cotton, slightly shrunken sweater', 'Ro...\n",
      "Fabric_Care            ['Cotton 100%', 'Machine wash and lay flat to ...\n",
      "Min_Selling_Price                                                   55.0\n",
      "Name: 29, dtype: object\n"
     ]
    }
   ],
   "source": [
    "# To change the 'Product_Type' value of row with index 53 to 'Shoes & Accessories'\n",
    "women_append.at[29, 'Product_Type'] = 'GapFit Activewear'\n",
    "\n",
    "print(women_append.loc[29])"
   ]
  },
  {
   "cell_type": "code",
   "execution_count": 22,
   "metadata": {},
   "outputs": [
    {
     "name": "stdout",
     "output_type": "stream",
     "text": [
      "Product_URL            https://www.gap.com/browse/product.do?pid=7150...\n",
      "Product_Demographic                                                Women\n",
      "Product_Type                                           GapFit Activewear\n",
      "Product_Name                                    Breathe High Rise Bikini\n",
      "Selling_Price                                                10.00$12.50\n",
      "Max_Retail_Price                                                    12.5\n",
      "Rating                                                              4.74\n",
      "Rating_Count                                                         174\n",
      "Color                                                         true black\n",
      "Available_Sizes                                     XXS, XS, S, M, L, XL\n",
      "Fit_Sizing             ['High rise', 'High-cut leg', 'Full back cover...\n",
      "Product_Details        ['Soft, breathable jersey knit bikini underwea...\n",
      "Fabric_Care            ['Polyester 74%, TENCELTM Lyocell 18%, Spandex...\n",
      "Min_Selling_Price                                                   10.0\n",
      "Name: 768, dtype: object\n"
     ]
    }
   ],
   "source": [
    "women_append.at[768, 'Product_Type'] = 'GapFit Activewear'\n",
    "\n",
    "print(women_append.loc[768])"
   ]
  },
  {
   "cell_type": "code",
   "execution_count": 23,
   "metadata": {},
   "outputs": [
    {
     "name": "stdout",
     "output_type": "stream",
     "text": [
      "Product_URL            https://www.gap.com/browse/product.do?pid=3735...\n",
      "Product_Demographic                                                Women\n",
      "Product_Type                                         Outerwear & Jackets\n",
      "Product_Name                                     Breathe High Rise Thong\n",
      "Selling_Price                                                10.00$12.50\n",
      "Max_Retail_Price                                                    12.5\n",
      "Rating                                                              4.81\n",
      "Rating_Count                                                         101\n",
      "Color                                                    bainbridge blue\n",
      "Available_Sizes                                            XXS, XS, S, M\n",
      "Fit_Sizing             ['High-rise sits at the waist', 'High-cut leg'...\n",
      "Product_Details        ['Soft, breathable jersey knit keeps you comfo...\n",
      "Fabric_Care            ['74% Polyester, 18% Lyocell, 8% Spandex', 'Ma...\n",
      "Min_Selling_Price                                                   10.0\n",
      "Name: 770, dtype: object\n"
     ]
    }
   ],
   "source": [
    "# Outerwear & Jackets\n",
    "women_append.at[770, 'Product_Type'] = 'Outerwear & Jackets'\n",
    "print(women_append.loc[770])"
   ]
  },
  {
   "cell_type": "code",
   "execution_count": 24,
   "metadata": {},
   "outputs": [
    {
     "name": "stdout",
     "output_type": "stream",
     "text": [
      "Product_Type\n",
      "Dresses                     249\n",
      "Underwear                   202\n",
      "Jeans                       195\n",
      "Shirts & Tops               187\n",
      "T-Shirts & Tanks            181\n",
      "Sweatshirts & Sweatpants    176\n",
      "Sweaters                    173\n",
      "GapFit Activewear           160\n",
      "Bras                        147\n",
      "Pajamas & Loungewear        129\n",
      "Pants                       123\n",
      "Outerwear & Jackets          90\n",
      "Swimsuits                    67\n",
      "Shorts                       63\n",
      "Skirts                       57\n",
      "GapFit Active Tops           49\n",
      "Sweatshirts & Hoodies        19\n",
      "Not available                 6\n",
      "PROJECT GAP                   4\n",
      "Bags, Scarves, & More         2\n",
      "Jumpsuits & Rompers           1\n",
      "Name: count, dtype: int64\n"
     ]
    }
   ],
   "source": [
    "value_counts = women_append['Product_Type'].value_counts()\n",
    "print(value_counts)"
   ]
  },
  {
   "cell_type": "markdown",
   "metadata": {},
   "source": [
    "##### categories & price"
   ]
  },
  {
   "cell_type": "code",
   "execution_count": 25,
   "metadata": {},
   "outputs": [
    {
     "name": "stdout",
     "output_type": "stream",
     "text": [
      "                Product_Type  Min_Price_Range  Max_Price_Range\n",
      "0      Bags, Scarves, & More              NaN              NaN\n",
      "1                       Bras             9.97            49.95\n",
      "2                    Dresses            12.97           118.00\n",
      "3         GapFit Active Tops            15.00            89.95\n",
      "4          GapFit Activewear             7.99            79.95\n",
      "5                      Jeans            16.97           108.00\n",
      "6        Jumpsuits & Rompers            74.99            74.99\n",
      "7              Not available            14.99            89.99\n",
      "8        Outerwear & Jackets            10.00           188.00\n",
      "9                PROJECT GAP            24.97            64.95\n",
      "10      Pajamas & Loungewear             9.00            79.95\n",
      "11                     Pants            12.97            98.00\n",
      "12             Shirts & Tops            14.99            79.95\n",
      "13                    Shorts             7.97            69.95\n",
      "14                    Skirts            14.97            89.95\n",
      "15                  Sweaters             9.97            98.00\n",
      "16     Sweatshirts & Hoodies            24.00           158.00\n",
      "17  Sweatshirts & Sweatpants            16.99            89.95\n",
      "18                 Swimsuits            35.00           112.00\n",
      "19          T-Shirts & Tanks             8.00            69.95\n",
      "20                 Underwear             2.97            54.95\n"
     ]
    }
   ],
   "source": [
    "# Group by 'Product_Type' and calculate min and max prices\n",
    "price_ranges = women_append.groupby('Product_Type').agg(\n",
    "    Min_Price_Range=pd.NamedAgg(column='Min_Selling_Price', aggfunc='min'),\n",
    "    Max_Price_Range=pd.NamedAgg(column='Max_Retail_Price', aggfunc='max')\n",
    ").reset_index()\n",
    "\n",
    "print(price_ranges)"
   ]
  },
  {
   "cell_type": "code",
   "execution_count": 26,
   "metadata": {},
   "outputs": [
    {
     "name": "stdout",
     "output_type": "stream",
     "text": [
      "Requirement already satisfied: prettytable in /Users/c.z./anaconda3/lib/python3.11/site-packages (3.10.0)\n",
      "Requirement already satisfied: wcwidth in /Users/c.z./anaconda3/lib/python3.11/site-packages (from prettytable) (0.2.5)\n",
      "Note: you may need to restart the kernel to use updated packages.\n"
     ]
    }
   ],
   "source": [
    "pip install prettytable"
   ]
  },
  {
   "cell_type": "code",
   "execution_count": 27,
   "metadata": {},
   "outputs": [
    {
     "name": "stdout",
     "output_type": "stream",
     "text": [
      "+--------------------------+-----------------+-----------------+\n",
      "|       Product_Type       | Min_Price_Range | Max_Price_Range |\n",
      "+--------------------------+-----------------+-----------------+\n",
      "|  Bags, Scarves, & More   |       nan       |       nan       |\n",
      "|           Bras           |       9.97      |      49.95      |\n",
      "|         Dresses          |      12.97      |      118.0      |\n",
      "|    GapFit Active Tops    |       15.0      |      89.95      |\n",
      "|    GapFit Activewear     |       7.99      |      79.95      |\n",
      "|          Jeans           |      16.97      |      108.0      |\n",
      "|   Jumpsuits & Rompers    |      74.99      |      74.99      |\n",
      "|      Not available       |      14.99      |      89.99      |\n",
      "|   Outerwear & Jackets    |       10.0      |      188.0      |\n",
      "|       PROJECT GAP        |      24.97      |      64.95      |\n",
      "|   Pajamas & Loungewear   |       9.0       |      79.95      |\n",
      "|          Pants           |      12.97      |       98.0      |\n",
      "|      Shirts & Tops       |      14.99      |      79.95      |\n",
      "|          Shorts          |       7.97      |      69.95      |\n",
      "|          Skirts          |      14.97      |      89.95      |\n",
      "|         Sweaters         |       9.97      |       98.0      |\n",
      "|  Sweatshirts & Hoodies   |       24.0      |      158.0      |\n",
      "| Sweatshirts & Sweatpants |      16.99      |      89.95      |\n",
      "|        Swimsuits         |       35.0      |      112.0      |\n",
      "|     T-Shirts & Tanks     |       8.0       |      69.95      |\n",
      "|        Underwear         |       2.97      |      54.95      |\n",
      "+--------------------------+-----------------+-----------------+\n"
     ]
    }
   ],
   "source": [
    "from prettytable import PrettyTable\n",
    "\n",
    "# Convert the DataFrame into a PrettyTable\n",
    "table = PrettyTable()\n",
    "table.field_names = price_ranges.columns.tolist()  # Set the table column names\n",
    "\n",
    "# Add rows to the table\n",
    "for index, row in price_ranges.iterrows():\n",
    "    table.add_row(row)\n",
    "\n",
    "# Print the table in a pretty format\n",
    "print(table)\n"
   ]
  },
  {
   "cell_type": "code",
   "execution_count": 28,
   "metadata": {},
   "outputs": [
    {
     "name": "stdout",
     "output_type": "stream",
     "text": [
      "+---------------------------+-------+\n",
      "|           Metric          | Value |\n",
      "+---------------------------+-------+\n",
      "| Overall Min Selling Price |  2.97 |\n",
      "|  Overall Max Retail Price | 188.0 |\n",
      "+---------------------------+-------+\n"
     ]
    }
   ],
   "source": [
    "# Calculate the overall min and max prices\n",
    "overall_min_price = women_append['Min_Selling_Price'].min()\n",
    "overall_max_price = women_append['Max_Retail_Price'].max()\n",
    "\n",
    "summary_table = PrettyTable()\n",
    "summary_table.field_names = [\"Metric\", \"Value\"]\n",
    "summary_table.add_row([\"Overall Min Selling Price\", overall_min_price])\n",
    "summary_table.add_row([\"Overall Max Retail Price\", overall_max_price])\n",
    "\n",
    "# Print the summary table\n",
    "print(summary_table)"
   ]
  },
  {
   "cell_type": "markdown",
   "metadata": {},
   "source": [
    "##### product color"
   ]
  },
  {
   "cell_type": "code",
   "execution_count": 29,
   "metadata": {},
   "outputs": [],
   "source": [
    "u_color = pd.DataFrame(women_append['Color'])"
   ]
  },
  {
   "cell_type": "code",
   "execution_count": 30,
   "metadata": {},
   "outputs": [
    {
     "data": {
      "text/html": [
       "<div>\n",
       "<style scoped>\n",
       "    .dataframe tbody tr th:only-of-type {\n",
       "        vertical-align: middle;\n",
       "    }\n",
       "\n",
       "    .dataframe tbody tr th {\n",
       "        vertical-align: top;\n",
       "    }\n",
       "\n",
       "    .dataframe thead th {\n",
       "        text-align: right;\n",
       "    }\n",
       "</style>\n",
       "<table border=\"1\" class=\"dataframe\">\n",
       "  <thead>\n",
       "    <tr style=\"text-align: right;\">\n",
       "      <th></th>\n",
       "      <th>Color</th>\n",
       "    </tr>\n",
       "  </thead>\n",
       "  <tbody>\n",
       "    <tr>\n",
       "      <th>0</th>\n",
       "      <td>ivory frost</td>\n",
       "    </tr>\n",
       "    <tr>\n",
       "      <th>1</th>\n",
       "      <td>black &amp; off white stripe</td>\n",
       "    </tr>\n",
       "    <tr>\n",
       "      <th>2</th>\n",
       "      <td>chino beige</td>\n",
       "    </tr>\n",
       "    <tr>\n",
       "      <th>3</th>\n",
       "      <td>chino beige</td>\n",
       "    </tr>\n",
       "    <tr>\n",
       "      <th>4</th>\n",
       "      <td>olive green</td>\n",
       "    </tr>\n",
       "    <tr>\n",
       "      <th>5</th>\n",
       "      <td>sage green</td>\n",
       "    </tr>\n",
       "    <tr>\n",
       "      <th>6</th>\n",
       "      <td>black &amp; off white stripe</td>\n",
       "    </tr>\n",
       "    <tr>\n",
       "      <th>7</th>\n",
       "      <td>ripe olive green</td>\n",
       "    </tr>\n",
       "    <tr>\n",
       "      <th>8</th>\n",
       "      <td>distant blue</td>\n",
       "    </tr>\n",
       "    <tr>\n",
       "      <th>9</th>\n",
       "      <td>chino beige</td>\n",
       "    </tr>\n",
       "    <tr>\n",
       "      <th>10</th>\n",
       "      <td>distant blue</td>\n",
       "    </tr>\n",
       "    <tr>\n",
       "      <th>11</th>\n",
       "      <td>white &amp; navy blue stripe</td>\n",
       "    </tr>\n",
       "    <tr>\n",
       "      <th>12</th>\n",
       "      <td>light gray heather</td>\n",
       "    </tr>\n",
       "    <tr>\n",
       "      <th>13</th>\n",
       "      <td>off white stripe</td>\n",
       "    </tr>\n",
       "    <tr>\n",
       "      <th>14</th>\n",
       "      <td>navy marl</td>\n",
       "    </tr>\n",
       "    <tr>\n",
       "      <th>15</th>\n",
       "      <td>heather grey</td>\n",
       "    </tr>\n",
       "    <tr>\n",
       "      <th>16</th>\n",
       "      <td>black</td>\n",
       "    </tr>\n",
       "    <tr>\n",
       "      <th>17</th>\n",
       "      <td>black</td>\n",
       "    </tr>\n",
       "    <tr>\n",
       "      <th>18</th>\n",
       "      <td>navy ivory stripe</td>\n",
       "    </tr>\n",
       "    <tr>\n",
       "      <th>19</th>\n",
       "      <td>black</td>\n",
       "    </tr>\n",
       "    <tr>\n",
       "      <th>20</th>\n",
       "      <td>navy stripe</td>\n",
       "    </tr>\n",
       "    <tr>\n",
       "      <th>21</th>\n",
       "      <td>slipper red</td>\n",
       "    </tr>\n",
       "    <tr>\n",
       "      <th>22</th>\n",
       "      <td>indie pink</td>\n",
       "    </tr>\n",
       "    <tr>\n",
       "      <th>23</th>\n",
       "      <td>sugar pink</td>\n",
       "    </tr>\n",
       "    <tr>\n",
       "      <th>24</th>\n",
       "      <td>new off white</td>\n",
       "    </tr>\n",
       "  </tbody>\n",
       "</table>\n",
       "</div>"
      ],
      "text/plain": [
       "                       Color\n",
       "0                ivory frost\n",
       "1   black & off white stripe\n",
       "2                chino beige\n",
       "3                chino beige\n",
       "4                olive green\n",
       "5                 sage green\n",
       "6   black & off white stripe\n",
       "7           ripe olive green\n",
       "8               distant blue\n",
       "9                chino beige\n",
       "10              distant blue\n",
       "11  white & navy blue stripe\n",
       "12        light gray heather\n",
       "13          off white stripe\n",
       "14                 navy marl\n",
       "15              heather grey\n",
       "16                     black\n",
       "17                     black\n",
       "18         navy ivory stripe\n",
       "19                     black\n",
       "20               navy stripe\n",
       "21               slipper red\n",
       "22                indie pink\n",
       "23                sugar pink\n",
       "24             new off white"
      ]
     },
     "execution_count": 30,
     "metadata": {},
     "output_type": "execute_result"
    }
   ],
   "source": [
    "u_color[:25]"
   ]
  },
  {
   "cell_type": "code",
   "execution_count": 31,
   "metadata": {},
   "outputs": [
    {
     "name": "stdout",
     "output_type": "stream",
     "text": [
      "{'Stripe': 127, 'White': 373, 'Black': 612, 'Earth Tone': 189, 'Green': 192, 'Blue': 382, 'Navy': 129, 'Grey': 200, 'Red': 52, 'Pink': 127, 'Yellow': 27, 'Purple': 52, 'Floral': 53, 'Plaid': 17}\n"
     ]
    }
   ],
   "source": [
    "from collections import defaultdict\n",
    "\n",
    "def categorize_color(color):\n",
    "    categories = defaultdict(int)\n",
    "    color = color.lower()\n",
    "    \n",
    "    # Check for each color category\n",
    "    if 'stripe' in color:\n",
    "        categories['Stripe'] += 1\n",
    "    if 'floral' in color:\n",
    "        categories['Floral'] += 1\n",
    "    if 'white' in color or 'moonstone' in color:\n",
    "        categories['White'] += 1\n",
    "    if 'black' in color or 'night' in color:\n",
    "        categories['Black'] += 1\n",
    "    if 'grey' in color or 'heather' in color or 'gray' in color  or 'cloud' in color:\n",
    "        categories['Grey'] += 1\n",
    "    if 'blue' in color or 'indigo' in color or 'cobalt' in color or 'storm' in color or 'lake' in color or 'bedrock' in color:\n",
    "        categories['Blue'] += 1\n",
    "    if 'navy' in color:\n",
    "        categories['Navy'] += 1\n",
    "    if 'plaid' in color:\n",
    "        categories['Plaid'] += 1\n",
    "    if 'chino' in color or 'praline' in color or 'khaki' in color or 'cashew' in color or 'oatmeal' in color or 'sandstone' in color or 'brown' in color:\n",
    "        categories['Earth Tone'] += 1\n",
    "    if 'orchid' in color or 'purple' in color or 'grape' in color or 'mauve' in color:\n",
    "        categories['Purple'] += 1\n",
    "    if 'green' in color:\n",
    "        categories['Green'] += 1\n",
    "    if 'pink' in color or 'peony' in color or 'rose' in color:\n",
    "        categories['Pink'] += 1\n",
    "    if 'red' in color:\n",
    "        categories['Red'] += 1\n",
    "    if 'yellow' in color or 'gold' in color or 'sunbeam' in color:\n",
    "        categories['Yellow'] += 1\n",
    "\n",
    "    return categories\n",
    "\n",
    "# Apply the function to each color and sum up the categories\n",
    "category_counts = defaultdict(int)\n",
    "for color in u_color['Color']:\n",
    "    for category, count in categorize_color(color).items():\n",
    "        category_counts[category] += count\n",
    "\n",
    "# Convert the defaultdict to a regular dict for display\n",
    "category_counts = dict(category_counts)\n",
    "print(category_counts)"
   ]
  },
  {
   "cell_type": "code",
   "execution_count": 32,
   "metadata": {},
   "outputs": [
    {
     "name": "stdout",
     "output_type": "stream",
     "text": [
      "Requirement already satisfied: matplotlib in /Users/c.z./anaconda3/lib/python3.11/site-packages (3.7.2)\n",
      "Requirement already satisfied: contourpy>=1.0.1 in /Users/c.z./anaconda3/lib/python3.11/site-packages (from matplotlib) (1.0.5)\n",
      "Requirement already satisfied: cycler>=0.10 in /Users/c.z./anaconda3/lib/python3.11/site-packages (from matplotlib) (0.11.0)\n",
      "Requirement already satisfied: fonttools>=4.22.0 in /Users/c.z./anaconda3/lib/python3.11/site-packages (from matplotlib) (4.25.0)\n",
      "Requirement already satisfied: kiwisolver>=1.0.1 in /Users/c.z./anaconda3/lib/python3.11/site-packages (from matplotlib) (1.4.4)\n",
      "Requirement already satisfied: numpy>=1.20 in /Users/c.z./anaconda3/lib/python3.11/site-packages (from matplotlib) (1.24.3)\n",
      "Requirement already satisfied: packaging>=20.0 in /Users/c.z./anaconda3/lib/python3.11/site-packages (from matplotlib) (23.1)\n",
      "Requirement already satisfied: pillow>=6.2.0 in /Users/c.z./anaconda3/lib/python3.11/site-packages (from matplotlib) (10.0.1)\n",
      "Requirement already satisfied: pyparsing<3.1,>=2.3.1 in /Users/c.z./anaconda3/lib/python3.11/site-packages (from matplotlib) (3.0.9)\n",
      "Requirement already satisfied: python-dateutil>=2.7 in /Users/c.z./anaconda3/lib/python3.11/site-packages (from matplotlib) (2.8.2)\n",
      "Requirement already satisfied: six>=1.5 in /Users/c.z./anaconda3/lib/python3.11/site-packages (from python-dateutil>=2.7->matplotlib) (1.16.0)\n",
      "Note: you may need to restart the kernel to use updated packages.\n"
     ]
    }
   ],
   "source": [
    "pip install matplotlib"
   ]
  },
  {
   "cell_type": "code",
   "execution_count": 33,
   "metadata": {},
   "outputs": [
    {
     "data": {
      "image/png": "[encoded data removed]",
      "text/plain": [
       "<Figure size 640x480 with 1 Axes>"
      ]
     },
     "metadata": {},
     "output_type": "display_data"
    }
   ],
   "source": [
    "import matplotlib.pyplot as plt\n",
    "\n",
    "color_counts = {'White': 314, 'Black': 548, 'Green': 169, 'Blue': 335, 'Grey': 191, 'Earth Tone': 171, 'Other': 305}\n",
    "\n",
    "labels = list(color_counts.keys())\n",
    "sizes = list(color_counts.values())\n",
    "\n",
    "#add colors\n",
    "colors = ['beige', 'black', 'limegreen', 'powderblue', 'slategrey', 'darkkhaki', 'white']\n",
    "explode = [0.08 if size >=300 else 0 for size in sizes]\n",
    "\n",
    "# Create the pie chart\n",
    "fig1, ax1 = plt.subplots()\n",
    "wedges, texts, autotexts = ax1.pie(sizes, labels=labels, colors=colors, autopct='%1.1f%%',\n",
    "                                   startangle=90, explode=explode, textprops={'color':\"w\"})\n",
    "\n",
    "for text in texts:\n",
    "    text.set_color('black')\n",
    "    text.set_size(9)\n",
    "\n",
    "for autotext in autotexts:\n",
    "    autotext.set_color('peru')\n",
    "    autotext.set_size(10)\n",
    "\n",
    "centre_circle = plt.Circle((0, 0), 0.70, fc='white')\n",
    "ax1.axis('equal')\n",
    "\n",
    "plt.tight_layout()\n",
    "plt.show()"
   ]
  },
  {
   "cell_type": "code",
   "execution_count": 34,
   "metadata": {},
   "outputs": [],
   "source": [
    "import re"
   ]
  },
  {
   "cell_type": "markdown",
   "metadata": {},
   "source": [
    "#### Fabric"
   ]
  },
  {
   "cell_type": "code",
   "execution_count": 35,
   "metadata": {},
   "outputs": [
    {
     "name": "stdout",
     "output_type": "stream",
     "text": [
      "[('cotton', 1447), ('polyester', 980), ('spandex', 883), ('recycled', 421), ('nylon', 353), ('elastane', 245), ('modal', 216), ('linen', 181), ('organic', 152), ('rayon', 136), ('lyocell', 109)]\n"
     ]
    }
   ],
   "source": [
    "# count frequent words in fabric details\n",
    "\n",
    "from collections import Counter\n",
    "\n",
    "# Words to exclude\n",
    "stopwords = set(['cold', 'water','hand', 'lay', 'flat', 'dry','in', 'or','imported','and', 'the', 'a', 'an', 'at', 'for', 'your', 'with', 'of', 'is', 'to', 'wash', 'machine', '99', '2', '1', '5', 'length', 'width', '100', '24', '28', 's', 'm', 'l', 'xl', 'xxl', 'xs', 'xxs'])\n",
    "\n",
    "# Combine all the text and convert to lowercase \n",
    "all_text = ' '.join(women_append['Fabric_Care'].dropna()).lower()\n",
    "\n",
    "# Tokenize the string into words excluding digits\n",
    "words = re.findall(r'\\b[a-zA-Z]+\\b', all_text)\n",
    "\n",
    "# Remove stopwords from the list of words\n",
    "words = [word for word in words if word not in stopwords]\n",
    "\n",
    "# Count the words and print the most common ones\n",
    "word_counts = Counter(words)\n",
    "print(word_counts.most_common(11))"
   ]
  },
  {
   "cell_type": "code",
   "execution_count": 36,
   "metadata": {},
   "outputs": [
    {
     "data": {
      "image/png": "[encoded data removed]",
      "text/plain": [
       "<Figure size 1400x600 with 1 Axes>"
      ]
     },
     "metadata": {},
     "output_type": "display_data"
    }
   ],
   "source": [
    "# Histogram to visualize the fabric details key word\n",
    "\n",
    "word_freq = [('cotton', 1447), ('polyester', 980), ('spandex', 883), ('recycled', 421), ('nylon', 353), ('elastane', 245), ('modal', 216), ('linen', 181), ('organic', 152), ('rayon', 136), ('lyocell', 109)]\n",
    "words, counts = zip(*word_freq)\n",
    "\n",
    "# Create a histogram/bar chart for the word frequencies\n",
    "fig, ax = plt.subplots(figsize=(14, 6))\n",
    "plt.gcf().set_facecolor('white')\n",
    "plt.gcf().set_facecolor('white')\n",
    "ax.grid(True, color='grey', linestyle='-', linewidth=0.5)\n",
    "ax.set_facecolor('white')\n",
    "bars = plt.bar(words, counts, color='wheat')\n",
    "for bar in bars:\n",
    "    yval = bar.get_height()\n",
    "    plt.text(bar.get_x() + bar.get_width()/2, yval + 1, yval, ha='center', va='bottom')\n",
    "plt.ylabel('Frequency')\n",
    "plt.show()"
   ]
  },
  {
   "cell_type": "code",
   "execution_count": 37,
   "metadata": {},
   "outputs": [
    {
     "name": "stdout",
     "output_type": "stream",
     "text": [
      "Entries containing 'recycled' in 'Fabric_Care':\n",
      "68      ['Acrylic Conventional 57%, Polyester Recycled...\n",
      "73      ['Recycled Polyester 77%, RSW Wool 23%', 'Mach...\n",
      "79      ['Acrylic Conventional 57%, Polyester Recycled...\n",
      "81      ['Recycled Polyester 77%, RSW Wool 23%', 'Mach...\n",
      "93      ['Recycled Polyester 77%, RSW Wool 23%', 'Mach...\n",
      "                              ...                        \n",
      "2271    ['Cotton 83%, Polyester 11%, Recycled Cotton 5...\n",
      "2272    ['Cotton 94%, Recycled Cotton 5%, Elastane 1%'...\n",
      "2274    ['Cotton 75%, Rayon 18%, Recycled Cotton 5%, S...\n",
      "2277    ['Cotton 86%, Recycled Cotton 7%, Recycled Pol...\n",
      "2279    ['Elasterrell 4%, Recycled Cotton 13%, Cotton ...\n",
      "Name: Fabric_Care, Length: 378, dtype: object\n"
     ]
    }
   ],
   "source": [
    "try:\n",
    "    # Filter the DataFrame to find rows where the 'Fabric_Care' column contains the word 'recycled'\n",
    "    recycled_fabric_care = women_append.loc[women_append['Fabric_Care'].str.contains('recycled', na=False, case=False), 'Fabric_Care']\n",
    "\n",
    "    if not recycled_fabric_care.empty:\n",
    "        print(\"Entries containing 'recycled' in 'Fabric_Care':\")\n",
    "        print(recycled_fabric_care)\n",
    "        \n",
    "        recycled_fabric_care.to_csv('recycled_fabric_care_details.csv', index=False)\n",
    "    else:\n",
    "        print(\"No entries found containing 'recycled' in 'Fabric_Care'.\")\n",
    "\n",
    "except KeyError:\n",
    "    print(\"Error\")"
   ]
  },
  {
   "cell_type": "code",
   "execution_count": 38,
   "metadata": {},
   "outputs": [
    {
     "name": "stdout",
     "output_type": "stream",
     "text": [
      "Entries containing 'organic' in 'Fabric_Care':\n",
      "89      ['Organic Cotton 100%', 'Machine wash', 'Impor...\n",
      "153     ['Organic Cotton 100%', 'Machine wash', 'Impor...\n",
      "154     ['Organic Cotton 100%', 'Machine wash cold', '...\n",
      "160     ['Organic Cotton 100%', 'Machine wash cold', '...\n",
      "166     ['Organic Cotton 100%', 'Machine wash cold', '...\n",
      "                              ...                        \n",
      "2221    ['Organic Cotton 99%, Elastane 1%', 'Machine w...\n",
      "2237    ['Organic Cotton 99%, Elastane 1%', 'Machine w...\n",
      "2240    ['Elastane 1%, Organic Cotton 99%', 'Machine w...\n",
      "2253    ['Elastane 1%, Organic Cotton 99%', 'Machine w...\n",
      "2262    ['Elastane 1%, Organic Cotton 99%', 'Machine w...\n",
      "Name: Fabric_Care, Length: 152, dtype: object\n"
     ]
    }
   ],
   "source": [
    "try:\n",
    "    # Filter the DataFrame to find rows where the 'Fabric_Care' column contains the word 'organic'\n",
    "    organic_fabric_care = women_append.loc[women_append['Fabric_Care'].str.contains('organic', na=False, case=False), 'Fabric_Care']\n",
    "\n",
    "    if not recycled_fabric_care.empty:\n",
    "        print(\"Entries containing 'organic' in 'Fabric_Care':\")\n",
    "        print(organic_fabric_care)\n",
    "        \n",
    "        organic_fabric_care.to_csv('organic_fabric_care_details.csv', index=False)\n",
    "    else:\n",
    "        print(\"No entries found containing 'organic' in 'Fabric_Care'.\")\n",
    "\n",
    "except KeyError:\n",
    "    print(\"Error\")"
   ]
  },
  {
   "cell_type": "markdown",
   "metadata": {},
   "source": [
    "#### Rating & Rating Count"
   ]
  },
  {
   "cell_type": "code",
   "execution_count": 40,
   "metadata": {},
   "outputs": [
    {
     "name": "stdout",
     "output_type": "stream",
     "text": [
      "   Total Rating Count  Overall Rating Average  Lowest Rating  Highest Rating\n",
      "0              521609                3.752285            0.0             5.0\n"
     ]
    }
   ],
   "source": [
    "women_append['Rating'] = pd.to_numeric(women_append['Rating'], errors='coerce')\n",
    "women_append['Rating_Count'] = pd.to_numeric(women_append['Rating_Count'], errors='coerce')\n",
    "\n",
    "# Total rating count\n",
    "total_rating_count = women_append['Rating_Count'].sum()\n",
    "\n",
    "# Overall rating average\n",
    "overall_rating_average = women_append['Rating'].mean()\n",
    "\n",
    "# Lowest and highest rating\n",
    "lowest_rating = women_append['Rating'].min()\n",
    "highest_rating = women_append['Rating'].max()\n",
    "\n",
    "\n",
    "# Corresponding data details for lowest and highest rating\n",
    "lowest_rating_details = women_append[women_append['Rating'] == lowest_rating]\n",
    "highest_rating_details = women_append[women_append['Rating'] == highest_rating]\n",
    "\n",
    "# Summary table\n",
    "summary_table = pd.DataFrame({\n",
    "    'Total Rating Count': [total_rating_count],\n",
    "    'Overall Rating Average': [overall_rating_average],\n",
    "    'Lowest Rating': [lowest_rating],\n",
    "    'Highest Rating': [highest_rating]\n",
    "})\n",
    "\n",
    "# Print the summary table\n",
    "print(summary_table)"
   ]
  },
  {
   "cell_type": "code",
   "execution_count": 41,
   "metadata": {},
   "outputs": [
    {
     "name": "stdout",
     "output_type": "stream",
     "text": [
      "                          Rating_Count sum  Rating mean  Rating min  \\\n",
      "Product_Type                                                          \n",
      "Bags, Scarves, & More                    1     0.500000        0.00   \n",
      "Bras                                 50463     4.274762        0.00   \n",
      "Dresses                               9459     3.169157        0.00   \n",
      "GapFit Active Tops                    3849     4.432653        3.40   \n",
      "GapFit Activewear                    25165     4.016875        0.00   \n",
      "Jeans                                64712     4.059846        0.00   \n",
      "Jumpsuits & Rompers                     28     4.500000        4.50   \n",
      "Not available                          673     4.195000        3.95   \n",
      "Outerwear & Jackets                   8402     3.981778        0.00   \n",
      "PROJECT GAP                             69     4.040000        3.33   \n",
      "Pajamas & Loungewear                 23840     4.083566        0.00   \n",
      "Pants                                38035     4.102927        0.00   \n",
      "Shirts & Tops                        14548     3.336631        0.00   \n",
      "Shorts                                6806     3.486825        0.00   \n",
      "Skirts                                2563     3.421754        0.00   \n",
      "Sweaters                             19209     3.789017        0.00   \n",
      "Sweatshirts & Hoodies                 7361     4.175263        0.00   \n",
      "Sweatshirts & Sweatpants             36281     4.156875        0.00   \n",
      "Swimsuits                              147     0.263731        0.00   \n",
      "T-Shirts & Tanks                    143411     3.491492        0.00   \n",
      "Underwear                            66587     4.429554        3.61   \n",
      "\n",
      "                          Rating max  Rating min_details  Rating max_details  \n",
      "Product_Type                                                                  \n",
      "Bags, Scarves, & More           1.00                0.00                1.00  \n",
      "Bras                            5.00                0.00                5.00  \n",
      "Dresses                         5.00                0.00                5.00  \n",
      "GapFit Active Tops              4.79                3.40                4.79  \n",
      "GapFit Activewear               5.00                0.00                5.00  \n",
      "Jeans                           5.00                0.00                5.00  \n",
      "Jumpsuits & Rompers             4.50                4.50                4.50  \n",
      "Not available                   4.54                3.95                4.54  \n",
      "Outerwear & Jackets             5.00                0.00                5.00  \n",
      "PROJECT GAP                     4.69                3.33                4.69  \n",
      "Pajamas & Loungewear            5.00                0.00                5.00  \n",
      "Pants                           5.00                0.00                5.00  \n",
      "Shirts & Tops                   5.00                0.00                5.00  \n",
      "Shorts                          4.94                0.00                4.94  \n",
      "Skirts                          5.00                0.00                5.00  \n",
      "Sweaters                        5.00                0.00                5.00  \n",
      "Sweatshirts & Hoodies           5.00                0.00                5.00  \n",
      "Sweatshirts & Sweatpants        5.00                0.00                5.00  \n",
      "Swimsuits                       4.78                0.00                4.78  \n",
      "T-Shirts & Tanks                5.00                0.00                5.00  \n",
      "Underwear                       5.00                3.61                5.00  \n"
     ]
    }
   ],
   "source": [
    "# Calculate means, average, statistics of the two numerical variables\n",
    "# Ensure 'Rating' and 'Rating_Count' are numeric and 'Product_Type' is a category for efficient processing\n",
    "women_append['Rating'] = pd.to_numeric(women_append['Rating'], errors='coerce')\n",
    "women_append['Rating_Count'] = pd.to_numeric(women_append['Rating_Count'], errors='coerce')\n",
    "women_append['Product_Type'] = women_append['Product_Type'].astype('category')\n",
    "\n",
    "aggregations = {\n",
    "    'Rating_Count': 'sum',\n",
    "    'Rating': ['mean', 'min', 'max']\n",
    "}\n",
    "\n",
    "grouped = women_append.groupby('Product_Type').agg(aggregations)\n",
    "\n",
    "idx_min_ratings = women_append.groupby('Product_Type')['Rating'].idxmin()\n",
    "idx_max_ratings = women_append.groupby('Product_Type')['Rating'].idxmax()\n",
    "\n",
    "grouped[('Rating', 'min_details')] = women_append.loc[idx_min_ratings, 'Rating'].values\n",
    "grouped[('Rating', 'max_details')] = women_append.loc[idx_max_ratings, 'Rating'].values\n",
    "\n",
    "grouped.columns = [' '.join(col).strip() for col in grouped.columns.values]\n",
    "print(grouped)"
   ]
  },
  {
   "cell_type": "markdown",
   "metadata": {},
   "source": [
    "##### Rating & Rating Count & Product Category"
   ]
  },
  {
   "cell_type": "code",
   "execution_count": 42,
   "metadata": {},
   "outputs": [
    {
     "name": "stdout",
     "output_type": "stream",
     "text": [
      "+--------------------------+--------------------+----------------+------------+------------+\n",
      "|       Product Type       | Total Rating Count | Average Rating | Min Rating | Max Rating |\n",
      "+--------------------------+--------------------+----------------+------------+------------+\n",
      "|  Bags, Scarves, & More   |        1.0         |      0.50      |    0.0     |    1.0     |\n",
      "|           Bras           |      50463.0       |      4.27      |    0.0     |    5.0     |\n",
      "|         Dresses          |       9459.0       |      3.17      |    0.0     |    5.0     |\n",
      "|    GapFit Active Tops    |       3849.0       |      4.43      |    3.4     |    4.79    |\n",
      "|    GapFit Activewear     |      25165.0       |      4.02      |    0.0     |    5.0     |\n",
      "|          Jeans           |      64712.0       |      4.06      |    0.0     |    5.0     |\n",
      "|   Jumpsuits & Rompers    |        28.0        |      4.50      |    4.5     |    4.5     |\n",
      "|      Not available       |       673.0        |      4.20      |    3.95    |    4.54    |\n",
      "|   Outerwear & Jackets    |       8402.0       |      3.98      |    0.0     |    5.0     |\n",
      "|       PROJECT GAP        |        69.0        |      4.04      |    3.33    |    4.69    |\n",
      "|   Pajamas & Loungewear   |      23840.0       |      4.08      |    0.0     |    5.0     |\n",
      "|          Pants           |      38035.0       |      4.10      |    0.0     |    5.0     |\n",
      "|      Shirts & Tops       |      14548.0       |      3.34      |    0.0     |    5.0     |\n",
      "|          Shorts          |       6806.0       |      3.49      |    0.0     |    4.94    |\n",
      "|          Skirts          |       2563.0       |      3.42      |    0.0     |    5.0     |\n",
      "|         Sweaters         |      19209.0       |      3.79      |    0.0     |    5.0     |\n",
      "|  Sweatshirts & Hoodies   |       7361.0       |      4.18      |    0.0     |    5.0     |\n",
      "| Sweatshirts & Sweatpants |      36281.0       |      4.16      |    0.0     |    5.0     |\n",
      "|        Swimsuits         |       147.0        |      0.26      |    0.0     |    4.78    |\n",
      "|     T-Shirts & Tanks     |      143411.0      |      3.49      |    0.0     |    5.0     |\n",
      "|        Underwear         |      66587.0       |      4.43      |    3.61    |    5.0     |\n",
      "+--------------------------+--------------------+----------------+------------+------------+\n"
     ]
    }
   ],
   "source": [
    "table = PrettyTable()\n",
    "table.field_names = ['Product Type', 'Total Rating Count', 'Average Rating', \n",
    "                     'Min Rating', 'Max Rating']\n",
    "\n",
    "for product_type, data in grouped.iterrows():\n",
    "    table.add_row([\n",
    "        product_type, \n",
    "        data['Rating_Count sum'], \n",
    "        f\"{data['Rating mean']:.2f}\", \n",
    "        data['Rating min'], \n",
    "        data['Rating max']\n",
    "    ])\n",
    "\n",
    "# Print the table\n",
    "print(table)"
   ]
  },
  {
   "cell_type": "code",
   "execution_count": 43,
   "metadata": {},
   "outputs": [
    {
     "name": "stdout",
     "output_type": "stream",
     "text": [
      "Details for products with the minimum rating in each category:\n",
      "                                            Product_URL Product_Demographic  \\\n",
      "584   https://www.gap.com/browse/product.do?pid=8762...               Women   \n",
      "688   https://www.gap.com/browse/product.do?pid=8550...               Women   \n",
      "469   https://www.gap.com/browse/product.do?pid=8911...               Women   \n",
      "1918  https://www.gap.com/browse/product.do?pid=7450...               Women   \n",
      "29    https://www.gap.com/browse/product.do?pid=4794...               Women   \n",
      "476   https://www.gap.com/browse/product.do?pid=8713...               Women   \n",
      "1313  https://www.gap.com/browse/product.do?pid=7199...               Women   \n",
      "1845  https://www.gap.com/browse/product.do?pid=6159...               Women   \n",
      "480   https://www.gap.com/browse/product.do?pid=8713...               Women   \n",
      "370   https://www.gap.com/browse/product.do?pid=6012...               Women   \n",
      "1692  https://www.gap.com/browse/product.do?pid=8781...               Women   \n",
      "402   https://www.gap.com/browse/product.do?pid=8559...               Women   \n",
      "467   https://www.gap.com/browse/product.do?pid=4171...               Women   \n",
      "331   https://www.gap.com/browse/product.do?pid=4166...               Women   \n",
      "277   https://www.gap.com/browse/product.do?pid=8574...               Women   \n",
      "0     https://www.gap.com/browse/product.do?pid=4651...               Women   \n",
      "607   https://www.gap.com/browse/product.do?pid=8913...                 Men   \n",
      "618   https://www.gap.com/browse/product.do?pid=4164...               Women   \n",
      "511   https://www.gap.com/browse/product.do?pid=8551...               Women   \n",
      "146   https://www.gap.com/browse/product.do?pid=8713...               Women   \n",
      "695   https://www.gap.com/browse/product.do?pid=7088...               Women   \n",
      "\n",
      "                  Product_Type                                 Product_Name  \\\n",
      "584      Bags, Scarves, & More                               Print Umbrella   \n",
      "688                       Bras                                Lace Bralette   \n",
      "469                    Dresses                  Tie-Knot Mini T-Shirt Dress   \n",
      "1918        GapFit Active Tops                         GapFit Power T-Shirt   \n",
      "29           GapFit Activewear                   Shrunken Roll Neck Sweater   \n",
      "476                      Jeans                   High Rise '70s Flare Jeans   \n",
      "1313       Jumpsuits & Rompers                               Denim Jumpsuit   \n",
      "1845             Not available             GapFit Double-Knit Mesh Tank Top   \n",
      "480        Outerwear & Jackets                   Denim Utility Shirt Jacket   \n",
      "370                PROJECT GAP  5\" High Rise Cotton '90s Loose Denim Shorts   \n",
      "1692      Pajamas & Loungewear                               Satin PJ Shirt   \n",
      "402                      Pants          365 High Rise Linen-Cotton Trousers   \n",
      "467              Shirts & Tops                     Round Collar Denim Shirt   \n",
      "331                     Shorts             365 High Rise Linen-Blend Shorts   \n",
      "277                     Skirts              Crinkle Gauze Tiered Maxi Skirt   \n",
      "0                     Sweaters                      Textured Sweater Jacket   \n",
      "607      Sweatshirts & Hoodies                  DAP × GAP Denim Logo Hoodie   \n",
      "618   Sweatshirts & Sweatpants               Vintage Soft Eyelet Sweatshirt   \n",
      "511                  Swimsuits                          Scoop Neck Swimsuit   \n",
      "146           T-Shirts & Tanks                        Muscle Dolman T-Shirt   \n",
      "695                  Underwear                    Stretch Cotton Lace Thong   \n",
      "\n",
      "      Selling_Price  Max_Retail_Price  Rating  Rating_Count  \\\n",
      "584   Not available               NaN    0.00             0   \n",
      "688     31.00$39.50             39.50    0.00             0   \n",
      "469   Not available               NaN    0.00             0   \n",
      "1918    19.00$49.95             49.95    3.40            25   \n",
      "29      55.00$69.95             69.95    0.00             0   \n",
      "476   Not available               NaN    0.00             0   \n",
      "1313          74.99             74.99    4.50            28   \n",
      "1845    24.99$34.95             34.95    3.95            21   \n",
      "480   Not available               NaN    0.00             0   \n",
      "370     24.97$64.95             64.95    3.33            12   \n",
      "1692          38.00             38.00    0.00             0   \n",
      "402           89.95             89.95    0.00             0   \n",
      "467   Not available               NaN    0.00             0   \n",
      "331           49.95             49.95    0.00             0   \n",
      "277     55.00$69.95             69.95    0.00             0   \n",
      "0       78.00$98.00             98.00    0.00             0   \n",
      "607          128.00            128.00    0.00             0   \n",
      "618     55.00$69.95             69.95    0.00             0   \n",
      "511   Not available               NaN    0.00             0   \n",
      "146     20.00$29.95             29.95    0.00             0   \n",
      "695      8.00$10.50             10.50    3.61            51   \n",
      "\n",
      "                   Color                                 Available_Sizes  \\\n",
      "584          navy stripe                                  Not applicable   \n",
      "688        new off white                       XXS, XS, S, M, L, XL, XXL   \n",
      "469           indie pink                       XXS, XS, S, M, L, XL, XXL   \n",
      "1918               black                       XXS, XS, S, M, L, XL, XXL   \n",
      "29           pink stripe                       XXS, XS, S, M, L, XL, XXL   \n",
      "476         light indigo  24, 25, 26, 27, 28, 29, 30, 31, 32, 33, 34, 35   \n",
      "1313         medium wash                                              00   \n",
      "1845               black                                         XXS, XS   \n",
      "480         light indigo                       XXS, XS, S, M, L, XL, XXL   \n",
      "370          medium wash                                              23   \n",
      "1692         blue stripe                       XXS, XS, S, M, L, XL, XXL   \n",
      "402                black       00, 0, 2, 4, 6, 8, 10, 12, 14, 16, 18, 20   \n",
      "467         light indigo                       XXS, XS, S, M, L, XL, XXL   \n",
      "331        new off white                       XXS, XS, S, M, L, XL, XXL   \n",
      "277        new off white                       XXS, XS, S, M, L, XL, XXL   \n",
      "0            ivory frost                       XXS, XS, S, M, L, XL, XXL   \n",
      "607          dark indigo                            XS, S, M, L, XL, XXL   \n",
      "618            navy blue                       XXS, XS, S, M, L, XL, XXL   \n",
      "511   multi color floral                       XXS, XS, S, M, L, XL, XXL   \n",
      "146                black                       XXS, XS, S, M, L, XL, XXL   \n",
      "695           true black                           XXS, S, M, L, XL, XXL   \n",
      "\n",
      "                                             Fit_Sizing  \\\n",
      "584                                  ['Not applicable']   \n",
      "688   ['For more fit and sizing info, check out our ...   \n",
      "469   [\"* Fit: Relaxed. A blouson silhouette that's ...   \n",
      "1918  ['Straight silhouette with a relaxed fit', 'Hi...   \n",
      "29            ['* Fit: Classic. A straight & easy fit']   \n",
      "476   ['Our High Rise Jean has an 11\" (28 cm) rise.\\...   \n",
      "1313         ['Straight silhouette with a relaxed fit']   \n",
      "1845  ['Straight silhouette with a relaxed fit', 'Hi...   \n",
      "480   ['* Fit: Relaxed. A straight & easy fit', '* S...   \n",
      "370   ['Our High Rise short has an 11\" (28 cm) rise....   \n",
      "1692  ['* Fit: Classic. A straight & easy fit', 'Hit...   \n",
      "402   ['* Fit: Classic. An easy silhouette that fits...   \n",
      "467   ['* Fit: Classic. A straight & easy fit', 'Hit...   \n",
      "331   ['* Fit: Classic. An easy silhouette that fits...   \n",
      "277   [\"* Fit: Slim. An A-line silhouette that's sli...   \n",
      "0     ['* Fit: Relaxed. A straight & easy fit', '* S...   \n",
      "607   ['* Fit: Oversized. Fits loose on the body', '...   \n",
      "618   ['* Fit: Relaxed. A straight & easy fit', '* S...   \n",
      "511                 ['Fitted silhouette hugs the body']   \n",
      "146   ['* Fit: Relaxed. A straight & easy fit', '* S...   \n",
      "695   ['Low rise', 'High cut leg', 'Minimal back cov...   \n",
      "\n",
      "                                        Product_Details  \\\n",
      "584   ['Polyester folding canopy', 'Comfortable hand...   \n",
      "688   ['Soft lace triangle bralette', 'V-neck', 'Adj...   \n",
      "469   ['Soft cotton-modal blend mini T-shirt dress',...   \n",
      "1918  ['This T-shirt is made with 79% recycled polye...   \n",
      "29    ['Soft cotton, slightly shrunken sweater', 'Ro...   \n",
      "476   ['Fit: Snug & flattering through the hip & thi...   \n",
      "1313  ['Stretch denim', 'This jumpsuit is made with ...   \n",
      "1845  ['Soft woven mesh racerback tank top', 'Round ...   \n",
      "480   ['Soft cotton denim utility shirt jacket', 'Po...   \n",
      "370   ['Fit: Slim in the hip & thigh. Relaxed leg', ...   \n",
      "1692  ['Soft satin pajama top', 'Notch collar', 'Sho...   \n",
      "402   ['Soft linen-cotton blend trousers', 'E-waist ...   \n",
      "467   ['Soft cotton-blend denim shirt', 'Rounded col...   \n",
      "331   ['Soft linen-blend trouser shorts', 'E-waist w...   \n",
      "277   ['Soft crinkle gauze maxi skirt', 'Wide smocke...   \n",
      "0     ['Soft, textured cotton sweater jacket', 'Roun...   \n",
      "607   ['Soft denim hoodie', 'Hooded neckline with dr...   \n",
      "618   ['Soft cotton-blend sweatshirt', 'Crewneck', '...   \n",
      "511   ['Soft, stretch one-piece swimsuit', 'Scoop ne...   \n",
      "146   ['Soft, slightly cropped muscle dolman T-shirt...   \n",
      "695   ['Soft, comfy stretch cotton knit', 'Elasticiz...   \n",
      "\n",
      "                                            Fabric_Care  Min_Selling_Price  \n",
      "584   ['Polyester 100%', 'Polyester 100%', 'Wipe cle...                NaN  \n",
      "688   ['90% Nylon, 10% Elastane', 'Hand wash, lay fl...              31.00  \n",
      "469   ['Cotton 60%, Modal 40%', 'Machine wash', 'Imp...                NaN  \n",
      "1918  ['79% Recycled Polyester, 21% Spandex', 'Machi...              19.00  \n",
      "29    ['Cotton 100%', 'Machine wash and lay flat to ...              55.00  \n",
      "476   ['Cotton 93%, Recycled Cotton 5%, Elastane 2%'...                NaN  \n",
      "1313                       ['Machine wash', 'Imported']              74.99  \n",
      "1845     ['Polyester 100%', 'Machine wash', 'Imported']              24.99  \n",
      "480   ['Cotton 95%, Recycled Cotton 5%', 'Machine wa...                NaN  \n",
      "370   ['Organic Cotton 99%, Elastane 1%', 'Machine w...              24.97  \n",
      "1692     ['Polyester 100%', 'Machine wash', 'Imported']              38.00  \n",
      "402   ['Linen 55%, Cotton 45%', 'Machine wash', 'Imp...              89.95  \n",
      "467   ['Cotton 76%, TENCELTM Lyocell 24%', 'Machine ...                NaN  \n",
      "331   ['Linen 55%, Rayon 45%', 'Machine wash', 'Impo...              49.95  \n",
      "277         ['Cotton 100%', 'Machine wash', 'Imported']              55.00  \n",
      "0     ['Cotton 100%', 'Machine wash and lay flat to ...              78.00  \n",
      "607         ['100% cotton', 'Machine wash', 'Imported']             128.00  \n",
      "618   ['Cotton 77%, Polyester 23%', 'Machine wash', ...              55.00  \n",
      "511   ['Body: 83% Polyamide, 17% Spandex', 'Lining: ...                NaN  \n",
      "146         ['Cotton 100%', 'Machine wash', 'Imported']              20.00  \n",
      "695                        ['Machine wash', 'Imported']               8.00  \n"
     ]
    }
   ],
   "source": [
    "# Print the details of the products with min and max ratings\n",
    "print(\"Details for products with the minimum rating in each category:\")\n",
    "print(women_append.loc[idx_min_ratings])"
   ]
  },
  {
   "cell_type": "markdown",
   "metadata": {},
   "source": [
    "#### Correlation between rating, rating count, & selling price"
   ]
  },
  {
   "cell_type": "code",
   "execution_count": 44,
   "metadata": {},
   "outputs": [
    {
     "data": {
      "text/html": [
       "<div>\n",
       "<style scoped>\n",
       "    .dataframe tbody tr th:only-of-type {\n",
       "        vertical-align: middle;\n",
       "    }\n",
       "\n",
       "    .dataframe tbody tr th {\n",
       "        vertical-align: top;\n",
       "    }\n",
       "\n",
       "    .dataframe thead th {\n",
       "        text-align: right;\n",
       "    }\n",
       "</style>\n",
       "<table border=\"1\" class=\"dataframe\">\n",
       "  <thead>\n",
       "    <tr style=\"text-align: right;\">\n",
       "      <th></th>\n",
       "      <th>Rating</th>\n",
       "      <th>Rating_Count</th>\n",
       "      <th>Min_Selling_Price</th>\n",
       "      <th>Max_Retail_Price</th>\n",
       "    </tr>\n",
       "  </thead>\n",
       "  <tbody>\n",
       "    <tr>\n",
       "      <th>Rating</th>\n",
       "      <td>1.000000</td>\n",
       "      <td>0.219409</td>\n",
       "      <td>-0.235886</td>\n",
       "      <td>-0.182149</td>\n",
       "    </tr>\n",
       "    <tr>\n",
       "      <th>Rating_Count</th>\n",
       "      <td>0.219409</td>\n",
       "      <td>1.000000</td>\n",
       "      <td>-0.203693</td>\n",
       "      <td>-0.286511</td>\n",
       "    </tr>\n",
       "    <tr>\n",
       "      <th>Min_Selling_Price</th>\n",
       "      <td>-0.235886</td>\n",
       "      <td>-0.203693</td>\n",
       "      <td>1.000000</td>\n",
       "      <td>0.851755</td>\n",
       "    </tr>\n",
       "    <tr>\n",
       "      <th>Max_Retail_Price</th>\n",
       "      <td>-0.182149</td>\n",
       "      <td>-0.286511</td>\n",
       "      <td>0.851755</td>\n",
       "      <td>1.000000</td>\n",
       "    </tr>\n",
       "  </tbody>\n",
       "</table>\n",
       "</div>"
      ],
      "text/plain": [
       "                     Rating  Rating_Count  Min_Selling_Price  Max_Retail_Price\n",
       "Rating             1.000000      0.219409          -0.235886         -0.182149\n",
       "Rating_Count       0.219409      1.000000          -0.203693         -0.286511\n",
       "Min_Selling_Price -0.235886     -0.203693           1.000000          0.851755\n",
       "Max_Retail_Price  -0.182149     -0.286511           0.851755          1.000000"
      ]
     },
     "execution_count": 44,
     "metadata": {},
     "output_type": "execute_result"
    }
   ],
   "source": [
    "# First, ensure the relevant columns are in the correct numeric type\n",
    "women_append['Rating'] = pd.to_numeric(women_append['Rating'], errors='coerce')\n",
    "women_append['Rating_Count'] = pd.to_numeric(women_append['Rating_Count'], errors='coerce')\n",
    "women_append['Min_Selling_Price'] = pd.to_numeric(women_append['Min_Selling_Price'], errors='coerce')\n",
    "women_append['Max_Retail_Price'] = pd.to_numeric(women_append['Max_Retail_Price'], errors='coerce')\n",
    "\n",
    "# Perform correlation analysis\n",
    "correlation_matrix = women_append[['Rating', 'Rating_Count', 'Min_Selling_Price', 'Max_Retail_Price']].corr()\n",
    "\n",
    "# Display the correlation matrix\n",
    "correlation_matrix"
   ]
  },
  {
   "cell_type": "code",
   "execution_count": 45,
   "metadata": {},
   "outputs": [],
   "source": [
    "import seaborn as sns"
   ]
  },
  {
   "cell_type": "code",
   "execution_count": 46,
   "metadata": {},
   "outputs": [
    {
     "data": {
      "image/png": "[encoded data removed]",
      "text/plain": [
       "<Figure size 1000x800 with 2 Axes>"
      ]
     },
     "metadata": {},
     "output_type": "display_data"
    }
   ],
   "source": [
    "plt.figure(figsize=(10, 8))\n",
    "sns.heatmap(correlation_matrix, annot=True, cmap='coolwarm', fmt=\".2f\")\n",
    "plt.title('Correlation Matrix Heatmap')\n",
    "plt.show()"
   ]
  },
  {
   "cell_type": "code",
   "execution_count": 47,
   "metadata": {},
   "outputs": [
    {
     "name": "stdout",
     "output_type": "stream",
     "text": [
      "+-----------------------------------------------------+---------------------+------------------+-----------------------+---------------+------------------+--------+---------------+-------+---------------------------+-----------------------------------------------------------------------------------------------------+----------------------------------------------------------------------------------------+---------------------------------------------+\n",
      "|                     Product_URL                     | Product_Demographic |   Product_Type   |      Product_Name     | Selling_Price | Max_Retail_Price | Rating |  Rating_Count | Color |      Available_Sizes      |                                              Fit_Sizing                                             |                                    Product_Details                                     |                 Fabric_Care                 |\n",
      "+-----------------------------------------------------+---------------------+------------------+-----------------------+---------------+------------------+--------+---------------+-------+---------------------------+-----------------------------------------------------------------------------------------------------+----------------------------------------------------------------------------------------+---------------------------------------------+\n",
      "| https://www.gap.com/browse/product.do?pid=871336002 |        Women        | T-Shirts & Tanks | Muscle Dolman T-Shirt |  20.00$29.95  |   20.00$29.95    |  0.0   | Not available | black | XXS, XS, S, M, L, XL, XXL | ['* Fit: Relaxed. A straight & easy fit', '* Style Note: For a more Classic fit, go down one size'] | ['Soft, slightly cropped muscle dolman T-shirt', 'Round neck', 'Short dolman sleeves'] | ['Cotton 100%', 'Machine wash', 'Imported'] |\n",
      "+-----------------------------------------------------+---------------------+------------------+-----------------------+---------------+------------------+--------+---------------+-------+---------------------------+-----------------------------------------------------------------------------------------------------+----------------------------------------------------------------------------------------+---------------------------------------------+\n"
     ]
    }
   ],
   "source": [
    "#Sample Data\n",
    "\n",
    "import csv\n",
    "from prettytable import PrettyTable\n",
    "\n",
    "csv_file_path = 'gap_women_Tshirts.csv'\n",
    "\n",
    "with open(csv_file_path, 'r') as csvfile:\n",
    "    csvreader = csv.reader(csvfile)\n",
    "\n",
    "    column_names = next(csvreader)\n",
    "    \n",
    "    sample_data_row = next(csvreader)\n",
    "\n",
    "table = PrettyTable()\n",
    "table.field_names = column_names\n",
    "\n",
    "table.add_row(sample_data_row)\n",
    "\n",
    "print(table)"
   ]
  },
  {
   "cell_type": "markdown",
   "metadata": {},
   "source": [
    "### Topic Modeling"
   ]
  },
  {
   "cell_type": "code",
   "execution_count": 48,
   "metadata": {},
   "outputs": [],
   "source": [
    "import pandas as pd\n",
    "import nltk\n",
    "from nltk.corpus import stopwords\n",
    "from nltk.tokenize import word_tokenize\n",
    "import re\n",
    "from scipy.stats import spearmanr\n",
    "import matplotlib.pyplot as plt"
   ]
  },
  {
   "cell_type": "code",
   "execution_count": 49,
   "metadata": {},
   "outputs": [],
   "source": [
    "import scipy"
   ]
  },
  {
   "cell_type": "code",
   "execution_count": 50,
   "metadata": {},
   "outputs": [],
   "source": [
    "from nltk.stem import WordNetLemmatizer\n",
    "from gensim import corpora"
   ]
  },
  {
   "cell_type": "code",
   "execution_count": 51,
   "metadata": {},
   "outputs": [],
   "source": [
    "from gensim.models import LdaModel"
   ]
  },
  {
   "cell_type": "code",
   "execution_count": 52,
   "metadata": {},
   "outputs": [],
   "source": [
    "from gensim.models.coherencemodel import CoherenceModel"
   ]
  },
  {
   "cell_type": "code",
   "execution_count": 53,
   "metadata": {},
   "outputs": [],
   "source": [
    "from collections import Counter"
   ]
  },
  {
   "cell_type": "code",
   "execution_count": 54,
   "metadata": {},
   "outputs": [
    {
     "name": "stderr",
     "output_type": "stream",
     "text": [
      "[nltk_data] Downloading package punkt to /Users/c.z./nltk_data...\n",
      "[nltk_data]   Unzipping tokenizers/punkt.zip.\n",
      "[nltk_data] Downloading package stopwords to /Users/c.z./nltk_data...\n",
      "[nltk_data]   Package stopwords is already up-to-date!\n"
     ]
    },
    {
     "data": {
      "text/plain": [
       "True"
      ]
     },
     "execution_count": 54,
     "metadata": {},
     "output_type": "execute_result"
    }
   ],
   "source": [
    "nltk.download('punkt')\n",
    "nltk.download('stopwords')"
   ]
  },
  {
   "cell_type": "code",
   "execution_count": 55,
   "metadata": {},
   "outputs": [
    {
     "name": "stderr",
     "output_type": "stream",
     "text": [
      "[nltk_data] Downloading package wordnet to /Users/c.z./nltk_data...\n",
      "[nltk_data]   Package wordnet is already up-to-date!\n"
     ]
    },
    {
     "data": {
      "text/plain": [
       "True"
      ]
     },
     "execution_count": 55,
     "metadata": {},
     "output_type": "execute_result"
    }
   ],
   "source": [
    "nltk.download('wordnet')"
   ]
  },
  {
   "cell_type": "code",
   "execution_count": 56,
   "metadata": {},
   "outputs": [],
   "source": [
    "data = women_append['Product_Details'].tolist()"
   ]
  },
  {
   "cell_type": "code",
   "execution_count": 57,
   "metadata": {},
   "outputs": [],
   "source": [
    "# Function to preprocess text\n",
    "def preprocess_text(text):\n",
    "    # Convert text to lowercase\n",
    "    text = text.lower()\n",
    "    # Remove numbers\n",
    "    text = re.sub(r'\\d+', '', text)\n",
    "    # Remove HTML tags\n",
    "    text = re.sub(r'<.*?>', '', text)\n",
    "    # Remove URLs\n",
    "    text = re.sub(r'http\\S+|www\\S+|https\\S+', '', text, flags=re.MULTILINE)\n",
    "    # Remove special characters and punctuation\n",
    "    text = re.sub(r'[^a-zA-Z\\s]', '', text)\n",
    "    # Tokenize text\n",
    "    tokens = word_tokenize(text)\n",
    "    # Remove stopwords and short words\n",
    "    stop_words = set(stopwords.words('english'))\n",
    "    tokens = [token for token in tokens if token not in stop_words and len(token) > 2]\n",
    "    # Lemmatization\n",
    "    lemmatizer = WordNetLemmatizer()\n",
    "    tokens = [lemmatizer.lemmatize(token) for token in tokens]\n",
    "    return tokens\n",
    "\n",
    "processed_docs = [preprocess_text(doc) for doc in data]"
   ]
  },
  {
   "cell_type": "code",
   "execution_count": 58,
   "metadata": {},
   "outputs": [],
   "source": [
    "# Create a dictionary and corpus needed for Topic Modeling\n",
    "dictionary = corpora.Dictionary(processed_docs)"
   ]
  },
  {
   "cell_type": "code",
   "execution_count": 59,
   "metadata": {},
   "outputs": [],
   "source": [
    "# Filter out extremes to remove too frequent and too infrequent words\n",
    "dictionary.filter_extremes(no_below=15, no_above=0.5, keep_n=100000)"
   ]
  },
  {
   "cell_type": "code",
   "execution_count": 60,
   "metadata": {},
   "outputs": [],
   "source": [
    "corpus = [dictionary.doc2bow(doc) for doc in processed_docs]"
   ]
  },
  {
   "cell_type": "code",
   "execution_count": 61,
   "metadata": {},
   "outputs": [
    {
     "name": "stdout",
     "output_type": "stream",
     "text": [
      "Average document length: 22.224561403508773\n",
      "Minimum document length: 1\n",
      "Maximum document length: 94\n"
     ]
    }
   ],
   "source": [
    "# Document Length: \n",
    "# Check the distribution of document lengths (number of words per product description). \n",
    "doc_lengths = [len(doc) for doc in processed_docs]\n",
    "print(\"Average document length:\", sum(doc_lengths) / len(doc_lengths))\n",
    "print(\"Minimum document length:\", min(doc_lengths))\n",
    "print(\"Maximum document length:\", max(doc_lengths))"
   ]
  },
  {
   "cell_type": "code",
   "execution_count": 62,
   "metadata": {},
   "outputs": [
    {
     "name": "stdout",
     "output_type": "stream",
     "text": [
      "[('soft', 1620), ('stretch', 1248), ('front', 1068), ('sleeve', 1012), ('cotton', 886), ('jean', 807), ('pocket', 805), ('long', 704), ('button', 701), ('made', 678), ('washwell', 600), ('wash', 532), ('waist', 496), ('elasticized', 471), ('rise', 465), ('short', 429), ('style', 425), ('hem', 418), ('denim', 413), ('allover', 405)]\n"
     ]
    }
   ],
   "source": [
    "# Word Frequency Distribution: Analyze the frequency of words \n",
    "all_tokens = [word for doc in processed_docs for word in doc]\n",
    "word_freq = Counter(all_tokens)\n",
    "print(word_freq.most_common(20))  # Top 20 most common words"
   ]
  },
  {
   "cell_type": "code",
   "execution_count": 64,
   "metadata": {},
   "outputs": [
    {
     "name": "stdout",
     "output_type": "stream",
     "text": [
      "Collecting wordcloud\n",
      "  Obtaining dependency information for wordcloud from https://files.pythonhosted.org/packages/39/4a/2684863905b72fceea24edaa10e3e16bc742a184042f463f3b09883d75b0/wordcloud-1.9.3-cp311-cp311-macosx_10_9_x86_64.whl.metadata\n",
      "  Downloading wordcloud-1.9.3-cp311-cp311-macosx_10_9_x86_64.whl.metadata (3.4 kB)\n",
      "Requirement already satisfied: numpy>=1.6.1 in /Users/c.z./anaconda3/lib/python3.11/site-packages (from wordcloud) (1.24.3)\n",
      "Requirement already satisfied: pillow in /Users/c.z./anaconda3/lib/python3.11/site-packages (from wordcloud) (10.0.1)\n",
      "Requirement already satisfied: matplotlib in /Users/c.z./anaconda3/lib/python3.11/site-packages (from wordcloud) (3.7.2)\n",
      "Requirement already satisfied: contourpy>=1.0.1 in /Users/c.z./anaconda3/lib/python3.11/site-packages (from matplotlib->wordcloud) (1.0.5)\n",
      "Requirement already satisfied: cycler>=0.10 in /Users/c.z./anaconda3/lib/python3.11/site-packages (from matplotlib->wordcloud) (0.11.0)\n",
      "Requirement already satisfied: fonttools>=4.22.0 in /Users/c.z./anaconda3/lib/python3.11/site-packages (from matplotlib->wordcloud) (4.25.0)\n",
      "Requirement already satisfied: kiwisolver>=1.0.1 in /Users/c.z./anaconda3/lib/python3.11/site-packages (from matplotlib->wordcloud) (1.4.4)\n",
      "Requirement already satisfied: packaging>=20.0 in /Users/c.z./anaconda3/lib/python3.11/site-packages (from matplotlib->wordcloud) (23.1)\n",
      "Requirement already satisfied: pyparsing<3.1,>=2.3.1 in /Users/c.z./anaconda3/lib/python3.11/site-packages (from matplotlib->wordcloud) (3.0.9)\n",
      "Requirement already satisfied: python-dateutil>=2.7 in /Users/c.z./anaconda3/lib/python3.11/site-packages (from matplotlib->wordcloud) (2.8.2)\n",
      "Requirement already satisfied: six>=1.5 in /Users/c.z./anaconda3/lib/python3.11/site-packages (from python-dateutil>=2.7->matplotlib->wordcloud) (1.16.0)\n",
      "Downloading wordcloud-1.9.3-cp311-cp311-macosx_10_9_x86_64.whl (172 kB)\n",
      "\u001b[2K   \u001b[90m━━━━━━━━━━━━━━━━━━━━━━━━━━━━━━━━━━━━━━━\u001b[0m \u001b[32m172.4/172.4 kB\u001b[0m \u001b[31m713.4 kB/s\u001b[0m eta \u001b[36m0:00:00\u001b[0m \u001b[36m0:00:01\u001b[0m\n",
      "\u001b[?25hInstalling collected packages: wordcloud\n",
      "Successfully installed wordcloud-1.9.3\n",
      "Note: you may need to restart the kernel to use updated packages.\n"
     ]
    }
   ],
   "source": [
    "pip install wordcloud"
   ]
  },
  {
   "cell_type": "code",
   "execution_count": 65,
   "metadata": {},
   "outputs": [
    {
     "data": {
      "image/png": "[encoded data removed]",
      "text/plain": [
       "<Figure size 1000x500 with 1 Axes>"
      ]
     },
     "metadata": {},
     "output_type": "display_data"
    }
   ],
   "source": [
    "from wordcloud import WordCloud\n",
    "\n",
    "word_freq = [('soft', 1620), ('stretch', 1248), ('front', 1068), ('sleeve', 1012), \n",
    "             ('cotton', 886), ('jean', 807), ('pocket', 805), ('long', 704), \n",
    "             ('button', 701), ('made', 678), ('washwell', 600), ('wash', 532), \n",
    "             ('waist', 496), ('elasticized', 471), ('rise', 465), ('short', 429), \n",
    "             ('style', 425), ('hem', 418), ('denim', 413), ('allover', 405)]\n",
    "\n",
    "word_dict = dict(word_freq)\n",
    "\n",
    "# Generate the word cloud\n",
    "wordcloud = WordCloud(width=800, height=400, background_color='white').generate_from_frequencies(word_dict)\n",
    "\n",
    "plt.figure(figsize=(10, 5))\n",
    "plt.imshow(wordcloud, interpolation='bilinear')\n",
    "plt.axis('off')  # Hide the axes\n",
    "plt.show()"
   ]
  },
  {
   "cell_type": "code",
   "execution_count": 66,
   "metadata": {},
   "outputs": [
    {
     "name": "stdout",
     "output_type": "stream",
     "text": [
      "Average number of unique words per document: 20.04298245614035\n"
     ]
    }
   ],
   "source": [
    "# Unique Words per Document: \n",
    "unique_words_per_doc = [len(set(doc)) for doc in processed_docs]\n",
    "print(\"Average number of unique words per document:\", sum(unique_words_per_doc) / len(unique_words_per_doc))"
   ]
  },
  {
   "cell_type": "code",
   "execution_count": 67,
   "metadata": {},
   "outputs": [
    {
     "name": "stdout",
     "output_type": "stream",
     "text": [
      "Maximum ID in corpus: 397\n",
      "Maximum ID in dictionary: 397\n"
     ]
    }
   ],
   "source": [
    "# Check maximum word id in the corpus and dictionary\n",
    "max_id_corpus = max([max(doc, key=lambda x: x[0])[0] for doc in corpus if doc])\n",
    "max_id_dict = max(dictionary.keys())\n",
    "\n",
    "print(\"Maximum ID in corpus:\", max_id_corpus)\n",
    "print(\"Maximum ID in dictionary:\", max_id_dict)"
   ]
  },
  {
   "cell_type": "code",
   "execution_count": 76,
   "metadata": {},
   "outputs": [],
   "source": [
    "coherence_scores = []\n",
    "list_topic = [3, 4, 5, 6, 7, 8, 9, 10, 11, 12, 13, 14, 15]\n",
    "for num_topics in list_topic:  # testing\n",
    "    model = LdaModel(corpus=corpus, id2word=dictionary, num_topics=num_topics, random_state=100, passes=10)\n",
    "    coherencemodel = CoherenceModel(model=model, texts=processed_docs, dictionary=dictionary, coherence='c_v')\n",
    "    coherence_scores.append(coherencemodel.get_coherence())"
   ]
  },
  {
   "cell_type": "code",
   "execution_count": 78,
   "metadata": {},
   "outputs": [
    {
     "data": {
      "text/plain": [
       "[0.6702386898832063,\n",
       " 0.6271860029592288,\n",
       " 0.6545473854212173,\n",
       " 0.6660131495738254,\n",
       " 0.6567331083300214,\n",
       " 0.5648860743963466,\n",
       " 0.5943034688451876,\n",
       " 0.5971134877242468,\n",
       " 0.5767544921491159,\n",
       " 0.7016394946183145,\n",
       " 0.667438787080346,\n",
       " 0.6415411516076016,\n",
       " 0.6028467788424713]"
      ]
     },
     "execution_count": 78,
     "metadata": {},
     "output_type": "execute_result"
    }
   ],
   "source": [
    "coherence_scores"
   ]
  },
  {
   "cell_type": "code",
   "execution_count": 79,
   "metadata": {},
   "outputs": [
    {
     "data": {
      "image/png": "[encoded data removed]",
      "text/plain": [
       "<Figure size 640x480 with 1 Axes>"
      ]
     },
     "metadata": {},
     "output_type": "display_data"
    }
   ],
   "source": [
    "plt.plot(list_topic, coherence_scores)\n",
    "plt.xlabel(\"Number of Topics\")\n",
    "plt.ylabel(\"coherence Score\")\n",
    "plt.title(\"Number of Topics Evaluation\")\n",
    "plt.show()"
   ]
  },
  {
   "cell_type": "code",
   "execution_count": 119,
   "metadata": {},
   "outputs": [],
   "source": [
    "# Number of topics\n",
    "num_topics = 4  # According to the coherence score\n",
    "\n",
    "# Alpha and Beta (eta) hyperparameters\n",
    "alpha = 'auto'  \n",
    "beta = 'auto'  \n",
    "# Create the LDA model\n",
    "lda_model = LdaModel(corpus=corpus,\n",
    "                     id2word=dictionary,\n",
    "                     num_topics=num_topics,\n",
    "                     random_state=100,\n",
    "                     update_every=1,\n",
    "                     chunksize=100,\n",
    "                     passes=10,\n",
    "                     alpha=alpha,\n",
    "                     eta=beta,\n",
    "                     per_word_topics=True)"
   ]
  },
  {
   "cell_type": "code",
   "execution_count": 120,
   "metadata": {},
   "outputs": [
    {
     "name": "stdout",
     "output_type": "stream",
     "text": [
      "Coherence Score: 0.8132920642962104\n"
     ]
    }
   ],
   "source": [
    "coherence_model_lda = CoherenceModel(model=lda_model, texts=processed_docs, dictionary=dictionary, coherence='c_v')\n",
    "coherence_lda = coherence_model_lda.get_coherence()\n",
    "print('Coherence Score:', coherence_lda)"
   ]
  },
  {
   "cell_type": "code",
   "execution_count": 121,
   "metadata": {},
   "outputs": [
    {
     "name": "stdout",
     "output_type": "stream",
     "text": [
      "Topic Distribution for the First Document: [(2, 0.98755884)]\n",
      "Top words for topic # 0 :  [('jean', 0.06291659), ('stretch', 0.05329567), ('rise', 0.033153333), ('washwell', 0.03296611)]\n",
      "Top words for topic # 1 :  [('elasticized', 0.07155253), ('cotton', 0.06958831), ('organic', 0.064521894), ('grown', 0.057989478)]\n",
      "Top words for topic # 2 :  [('front', 0.06559201), ('sleeve', 0.052371908), ('pocket', 0.048483614), ('long', 0.04183766)]\n",
      "Top words for topic # 3 :  [('stretch', 0.036005348), ('help', 0.028902087), ('strap', 0.023859357), ('keep', 0.022584537)]\n"
     ]
    }
   ],
   "source": [
    "# Show the topic distribution for the first document\n",
    "doc_topics = lda_model.get_document_topics(corpus[0])\n",
    "print(\"Topic Distribution for the First Document:\", doc_topics)\n",
    "\n",
    "# Show the top words for each topic\n",
    "for i in range(num_topics):\n",
    "    top_words = lda_model.show_topic(i, topn=4)\n",
    "    print(\"Top words for topic #\", i, \": \", top_words)"
   ]
  },
  {
   "cell_type": "code",
   "execution_count": 122,
   "metadata": {},
   "outputs": [
    {
     "name": "stdout",
     "output_type": "stream",
     "text": [
      "Topic Distribution for the First Document: [(0, 0.06769703), (1, 0.03380516), (2, 0.42571983), (3, 0.2070915), (4, 0.22994515), (5, 0.03574132)]\n",
      "Top words for topic # 0 :  [('cotton', 0.074144945), ('elasticized', 0.06543367), ('leg', 0.049491256), ('grown', 0.04628831), ('waistband', 0.043136604), ('opening', 0.035150863)]\n",
      "Top words for topic # 1 :  [('help', 0.030707464), ('made', 0.029230502), ('stretch', 0.028747058), ('recycled', 0.025355795), ('waste', 0.024554973), ('keep', 0.02387563)]\n",
      "Top words for topic # 2 :  [('front', 0.1278851), ('pocket', 0.115884095), ('button', 0.082387134), ('slant', 0.04374125), ('waist', 0.0437372), ('collar', 0.0390167)]\n",
      "Top words for topic # 3 :  [('allover', 0.063657634), ('print', 0.050662924), ('style', 0.048398204), ('certain', 0.047181524), ('sleeve', 0.03960214), ('knit', 0.039304677)]\n",
      "Top words for topic # 4 :  [('long', 0.12471733), ('sleeve', 0.11325701), ('cuff', 0.06928174), ('hem', 0.063082024), ('banded', 0.052944213), ('cottonblend', 0.04485788)]\n",
      "Top words for topic # 5 :  [('jean', 0.063700445), ('stretch', 0.05391073), ('rise', 0.03355883), ('washwell', 0.033381965), ('wash', 0.03212089), ('fivepocket', 0.028862596)]\n"
     ]
    }
   ],
   "source": [
    "# Number of topics\n",
    "num_topics = 6  # According to the coherence score\n",
    "\n",
    "# Alpha and Beta (eta) hyperparameters\n",
    "alpha = 0.5 \n",
    "beta = 1  \n",
    "# Create the LDA model\n",
    "lda_model = LdaModel(corpus=corpus,\n",
    "                     id2word=dictionary,\n",
    "                     num_topics=num_topics,\n",
    "                     random_state=100,\n",
    "                     update_every=1,\n",
    "                     chunksize=100,\n",
    "                     passes=10,\n",
    "                     alpha=alpha,\n",
    "                     eta=beta,\n",
    "                     per_word_topics=True)\n",
    "\n",
    "# Show the topic distribution for the first document\n",
    "doc_topics = lda_model.get_document_topics(corpus[0])\n",
    "print(\"Topic Distribution for the First Document:\", doc_topics)\n",
    "\n",
    "# Show the top words for each topic\n",
    "for i in range(num_topics):\n",
    "    top_words = lda_model.show_topic(i, topn=6)\n",
    "    print(\"Top words for topic #\", i, \": \", top_words)"
   ]
  },
  {
   "cell_type": "code",
   "execution_count": 114,
   "metadata": {},
   "outputs": [
    {
     "name": "stdout",
     "output_type": "stream",
     "text": [
      "Coherence Score for 3 topics: 0.7750020264089331\n",
      "Coherence Score for 4 topics: 0.8132920642962104\n",
      "Coherence Score for 5 topics: 0.6185287991396058\n",
      "Coherence Score for 6 topics: 0.6085943194895905\n",
      "Coherence Score for 7 topics: 0.5972076689366551\n",
      "Coherence Score for 8 topics: 0.5746052780377646\n",
      "Coherence Score for 9 topics: 0.5840167996187198\n",
      "Coherence Score for 10 topics: 0.5573018939735357\n",
      "Coherence Score for 11 topics: 0.5832742743439367\n",
      "Coherence Score for 12 topics: 0.5428063300882503\n"
     ]
    },
    {
     "data": {
      "image/png": "[encoded data removed]",
      "text/plain": [
       "<Figure size 640x480 with 1 Axes>"
      ]
     },
     "metadata": {},
     "output_type": "display_data"
    }
   ],
   "source": [
    "num_topics_list = [3, 4, 5, 6, 7, 8, 9, 10, 11, 12]\n",
    "\n",
    "alpha = 'auto' \n",
    "beta = 'auto'  \n",
    "\n",
    "coherence_scores = []\n",
    "\n",
    "for num_topics in num_topics_list:\n",
    "    # Create the LDA model\n",
    "    lda_model = LdaModel(corpus=corpus,\n",
    "                         id2word=dictionary,\n",
    "                         num_topics=num_topics,\n",
    "                         random_state=100,\n",
    "                         update_every=1,\n",
    "                         chunksize=100,\n",
    "                         passes=10,\n",
    "                         alpha=alpha,\n",
    "                         eta=beta,\n",
    "                         per_word_topics=True)\n",
    "    \n",
    "    # Evaluate the model: Compute Coherence Score\n",
    "    coherence_model = CoherenceModel(model=lda_model, texts=processed_docs, dictionary=dictionary, coherence='c_v')\n",
    "    coherence_score = coherence_model.get_coherence()\n",
    "    coherence_scores.append((num_topics, coherence_score))\n",
    "    print('Coherence Score for', num_topics, 'topics:', coherence_score)\n",
    "\n",
    "\n",
    "topics = [num for num, _ in coherence_scores]\n",
    "scores = [score for _, score in coherence_scores]\n",
    "\n",
    "plt.plot(topics, scores)\n",
    "plt.xlabel('Number of Topics')\n",
    "plt.ylabel('Coherence Score')\n",
    "plt.title('Coherence Scores for Different Numbers of Topics using Auto for Alpha and Beta')\n",
    "plt.show()"
   ]
  },
  {
   "cell_type": "code",
   "execution_count": 117,
   "metadata": {},
   "outputs": [
    {
     "name": "stdout",
     "output_type": "stream",
     "text": [
      "Coherence Score for 3 topics: 0.7668838107443209\n",
      "Coherence Score for 4 topics: 0.7942121223403008\n",
      "Coherence Score for 5 topics: 0.5942627353436777\n",
      "Coherence Score for 6 topics: 0.6911452138105258\n",
      "Coherence Score for 7 topics: 0.662253067859336\n",
      "Coherence Score for 8 topics: 0.6685842994222234\n",
      "Coherence Score for 9 topics: 0.5974276986278952\n",
      "Coherence Score for 10 topics: 0.6165062130227558\n",
      "Coherence Score for 11 topics: 0.5867371210540345\n",
      "Coherence Score for 12 topics: 0.5737244550000012\n"
     ]
    },
    {
     "data": {
      "image/png": "[encoded data removed]",
      "text/plain": [
       "<Figure size 640x480 with 1 Axes>"
      ]
     },
     "metadata": {},
     "output_type": "display_data"
    }
   ],
   "source": [
    "num_topics_list = [3, 4, 5, 6, 7, 8, 9, 10, 11, 12]\n",
    "\n",
    "alpha = 0.5 \n",
    "beta = 0.5  \n",
    "\n",
    "coherence_scores = []\n",
    "\n",
    "for num_topics in num_topics_list:\n",
    "    # Create the LDA model\n",
    "    lda_model = LdaModel(corpus=corpus,\n",
    "                         id2word=dictionary,\n",
    "                         num_topics=num_topics,\n",
    "                         random_state=100,\n",
    "                         update_every=1,\n",
    "                         chunksize=100,\n",
    "                         passes=10,\n",
    "                         alpha=alpha,\n",
    "                         eta=beta,\n",
    "                         per_word_topics=True)\n",
    "    \n",
    "    # Evaluate the model: Compute Coherence Score\n",
    "    coherence_model = CoherenceModel(model=lda_model, texts=processed_docs, dictionary=dictionary, coherence='c_v')\n",
    "    coherence_score = coherence_model.get_coherence()\n",
    "    coherence_scores.append((num_topics, coherence_score))\n",
    "    print('Coherence Score for', num_topics, 'topics:', coherence_score)\n",
    "\n",
    "\n",
    "topics = [num for num, _ in coherence_scores]\n",
    "scores = [score for _, score in coherence_scores]\n",
    "\n",
    "plt.plot(topics, scores)\n",
    "plt.xlabel('Number of Topics')\n",
    "plt.ylabel('Coherence Score')\n",
    "plt.title('Coherence Scores for Different Numbers of Topics using 0.5 for Alpha and Beta')\n",
    "plt.show()"
   ]
  },
  {
   "cell_type": "code",
   "execution_count": 118,
   "metadata": {},
   "outputs": [
    {
     "name": "stdout",
     "output_type": "stream",
     "text": [
      "Coherence Score for 3 topics: 0.766916704517694\n",
      "Coherence Score for 4 topics: 0.7612782710044677\n",
      "Coherence Score for 5 topics: 0.6932725739851587\n",
      "Coherence Score for 6 topics: 0.6975954140284659\n",
      "Coherence Score for 7 topics: 0.6597784881482976\n",
      "Coherence Score for 8 topics: 0.6756249518240367\n",
      "Coherence Score for 9 topics: 0.6046749307299503\n",
      "Coherence Score for 10 topics: 0.6422619375842248\n",
      "Coherence Score for 11 topics: 0.589239593112637\n",
      "Coherence Score for 12 topics: 0.5826680489074808\n"
     ]
    },
    {
     "data": {
      "image/png": "[encoded data removed]",
      "text/plain": [
       "<Figure size 640x480 with 1 Axes>"
      ]
     },
     "metadata": {},
     "output_type": "display_data"
    }
   ],
   "source": [
    "num_topics_list = [3, 4, 5, 6, 7, 8, 9, 10, 11, 12]\n",
    "\n",
    "alpha = 0.5 \n",
    "beta = 1  \n",
    "\n",
    "coherence_scores = []\n",
    "\n",
    "for num_topics in num_topics_list:\n",
    "    # Create the LDA model\n",
    "    lda_model = LdaModel(corpus=corpus,\n",
    "                         id2word=dictionary,\n",
    "                         num_topics=num_topics,\n",
    "                         random_state=100,\n",
    "                         update_every=1,\n",
    "                         chunksize=100,\n",
    "                         passes=10,\n",
    "                         alpha=alpha,\n",
    "                         eta=beta,\n",
    "                         per_word_topics=True)\n",
    "    \n",
    "    # Evaluate the model: Compute Coherence Score\n",
    "    coherence_model = CoherenceModel(model=lda_model, texts=processed_docs, dictionary=dictionary, coherence='c_v')\n",
    "    coherence_score = coherence_model.get_coherence()\n",
    "    coherence_scores.append((num_topics, coherence_score))\n",
    "    print('Coherence Score for', num_topics, 'topics:', coherence_score)\n",
    "\n",
    "\n",
    "topics = [num for num, _ in coherence_scores]\n",
    "scores = [score for _, score in coherence_scores]\n",
    "\n",
    "plt.plot(topics, scores)\n",
    "plt.xlabel('Number of Topics')\n",
    "plt.ylabel('Coherence Score')\n",
    "plt.title('Coherence Scores for Different Numbers of Topics using 0.5 for Alpha and 1 for Beta')\n",
    "plt.show()"
   ]
  },
  {
   "cell_type": "markdown",
   "metadata": {},
   "source": [
    "### Eco-Friendly Products Coverage"
   ]
  },
  {
   "cell_type": "code",
   "execution_count": 124,
   "metadata": {},
   "outputs": [],
   "source": [
    "# Expanded list of eco-friendly keywords\n",
    "eco_keywords = [\n",
    "    'recycled', 'recyclable', 'recycle','organic', 'biodegradable', 'natural', 'sustainable',\n",
    "    'fair trade certified', 'gots', 'oeko-tex', 'fsc', 'leed certified',\n",
    "    'carbon-neutral', 'eco-friendly dyes', 'low impact dye', 'water-saving',\n",
    "    'energy-efficient', 'reusable', 'compostable', 'upcycled', 'zero waste',\n",
    "    'eco-conscious', 'environmentally friendly', 'green', 'non-toxic', 'ethical',\n",
    "    'washwell', 'water', 'forever', 'always', 'responsibly', 'less', 'waste', '100'\n",
    "]"
   ]
  },
  {
   "cell_type": "code",
   "execution_count": 125,
   "metadata": {},
   "outputs": [
    {
     "name": "stdout",
     "output_type": "stream",
     "text": [
      "Eco-friendly products count: 673\n"
     ]
    }
   ],
   "source": [
    "# Function to identify presence of eco-friendly keywords\n",
    "def is_eco_friendly(details):\n",
    "    tokens = [token.lower() for token in word_tokenize(details)]\n",
    "    return 1 if any(keyword in tokens for keyword in eco_keywords) else 0\n",
    "\n",
    "women_append['Eco_Friendly'] = women_append['Product_Details'].apply(is_eco_friendly)\n",
    "\n",
    "# Check how many products are eco-friendly\n",
    "print(\"Eco-friendly products count:\", women_append['Eco_Friendly'].sum())\n",
    "\n",
    "# Convert ratings to numeric and handle missing values\n",
    "women_append['Rating'] = pd.to_numeric(women_append['Rating'], errors='coerce').fillna(0)\n",
    "women_append['Rating_Count'] = women_append['Rating_Count'].replace('Not available', 0).astype(int)"
   ]
  },
  {
   "cell_type": "markdown",
   "metadata": {},
   "source": [
    "In this case, 673/2280 = approximately 30% of women products are eco-friendly products"
   ]
  },
  {
   "cell_type": "markdown",
   "metadata": {},
   "source": [
    "### Correlation Analysis Between Sustainability Product Feature & Rating or Rating Count\n",
    "Rating represents production satisfaction\n",
    "\n",
    "Rating Count represents product popularity\n",
    "\n",
    "Together, Rating and Rating Count define Post Consumption Consumer Behavior"
   ]
  },
  {
   "cell_type": "markdown",
   "metadata": {},
   "source": [
    "Use point-biserial correlation:"
   ]
  },
  {
   "cell_type": "code",
   "execution_count": 126,
   "metadata": {},
   "outputs": [],
   "source": [
    "from scipy.stats import pointbiserialr"
   ]
  },
  {
   "cell_type": "code",
   "execution_count": 127,
   "metadata": {},
   "outputs": [],
   "source": [
    "import statsmodels.api as sm"
   ]
  },
  {
   "cell_type": "code",
   "execution_count": 128,
   "metadata": {},
   "outputs": [
    {
     "name": "stdout",
     "output_type": "stream",
     "text": [
      "Point-Biserial Correlation: 0.09334835471591986, P-value: 8.02073066475398e-06\n"
     ]
    }
   ],
   "source": [
    "# Calculate Point-Biserial Correlation\n",
    "correlation, p_value = pointbiserialr(women_append['Eco_Friendly'], women_append['Rating'])\n",
    "print(f\"Point-Biserial Correlation: {correlation}, P-value: {p_value}\")\n"
   ]
  },
  {
   "cell_type": "code",
   "execution_count": 129,
   "metadata": {},
   "outputs": [
    {
     "name": "stdout",
     "output_type": "stream",
     "text": [
      "Point-Biserial Correlation: 0.156740813493396, P-value: 5.2025603580642095e-14\n"
     ]
    }
   ],
   "source": [
    "# Calculate Point-Biserial Correlation\n",
    "correlation, p_value = pointbiserialr(women_append['Eco_Friendly'], women_append['Rating_Count'])\n",
    "print(f\"Point-Biserial Correlation: {correlation}, P-value: {p_value}\")"
   ]
  },
  {
   "cell_type": "markdown",
   "metadata": {},
   "source": [
    "### ANOVA Analysis (one-way)"
   ]
  },
  {
   "cell_type": "code",
   "execution_count": 136,
   "metadata": {},
   "outputs": [
    {
     "name": "stdout",
     "output_type": "stream",
     "text": [
      "                       sum_sq      df          F        PR(>F)\n",
      "C(Eco_Friendly)  1.183813e+07     1.0  57.374746  5.202560e-14\n",
      "Residual         4.700196e+08  2278.0        NaN           NaN\n"
     ]
    }
   ],
   "source": [
    "# rating count & eco-friendly\n",
    "from statsmodels.formula.api import ols\n",
    "\n",
    "# Create a formula for the OLS model: 'Rating_Count' is dependent, and 'Eco_Friendly' is the categorical predictor\n",
    "model = ols('Rating_Count ~ C(Eco_Friendly)', data=women_append).fit()\n",
    "\n",
    "anova_table = sm.stats.anova_lm(model, typ=2)  # typ=2 for ANOVA Type II which is generally preferred\n",
    "\n",
    "print(anova_table)\n"
   ]
  },
  {
   "cell_type": "code",
   "execution_count": 134,
   "metadata": {},
   "outputs": [],
   "source": [
    "import scipy.stats as stats"
   ]
  },
  {
   "cell_type": "code",
   "execution_count": 137,
   "metadata": {},
   "outputs": [
    {
     "data": {
      "image/png": "[encoded data removed]",
      "text/plain": [
       "<Figure size 640x480 with 1 Axes>"
      ]
     },
     "metadata": {},
     "output_type": "display_data"
    },
    {
     "name": "stdout",
     "output_type": "stream",
     "text": [
      "Shapiro-Wilk test: ShapiroResult(statistic=0.5657193660736084, pvalue=0.0)\n",
      "Levene's test: LeveneResult(statistic=44.781950311853016, pvalue=2.7633628318348653e-11)\n"
     ]
    }
   ],
   "source": [
    "# Check for normality of residuals\n",
    "residuals = model.resid\n",
    "fig = sm.qqplot(residuals, line='s')\n",
    "plt.show()\n",
    "print(\"Shapiro-Wilk test:\", stats.shapiro(residuals))\n",
    "\n",
    "# Check for homogeneity of variances\n",
    "print(\"Levene's test:\", stats.levene(women_append[women_append['Eco_Friendly'] == 1]['Rating_Count'],\n",
    "                                     women_append[women_append['Eco_Friendly'] == 0]['Rating_Count']))"
   ]
  },
  {
   "cell_type": "code",
   "execution_count": 138,
   "metadata": {},
   "outputs": [
    {
     "name": "stdout",
     "output_type": "stream",
     "text": [
      "                      sum_sq      df          F    PR(>F)\n",
      "C(Eco_Friendly)    50.148004     1.0  20.024793  0.000008\n",
      "Residual         5704.785591  2278.0        NaN       NaN\n"
     ]
    }
   ],
   "source": [
    "# rating & eco-friendly\n",
    "from statsmodels.formula.api import ols\n",
    "\n",
    "# Create a formula for the OLS model: 'Rating_Count' is dependent, and 'Eco_Friendly' is the categorical predictor\n",
    "model = ols('Rating ~ C(Eco_Friendly)', data=women_append).fit()\n",
    "\n",
    "anova_table = sm.stats.anova_lm(model, typ=2)  # typ=2 for ANOVA Type II which is generally preferred\n",
    "\n",
    "print(anova_table)"
   ]
  },
  {
   "cell_type": "code",
   "execution_count": 139,
   "metadata": {},
   "outputs": [
    {
     "data": {
      "image/png": "[encoded data removed]",
      "text/plain": [
       "<Figure size 640x480 with 1 Axes>"
      ]
     },
     "metadata": {},
     "output_type": "display_data"
    },
    {
     "name": "stdout",
     "output_type": "stream",
     "text": [
      "Shapiro-Wilk test: ShapiroResult(statistic=0.6365033984184265, pvalue=0.0)\n",
      "Levene's test: LeveneResult(statistic=44.781950311853016, pvalue=2.7633628318348653e-11)\n"
     ]
    }
   ],
   "source": [
    "# Check for normality of residuals\n",
    "residuals = model.resid\n",
    "fig = sm.qqplot(residuals, line='s')\n",
    "plt.show()\n",
    "print(\"Shapiro-Wilk test:\", stats.shapiro(residuals))\n",
    "\n",
    "# Check for homogeneity of variances\n",
    "print(\"Levene's test:\", stats.levene(women_append[women_append['Eco_Friendly'] == 1]['Rating_Count'],\n",
    "                                     women_append[women_append['Eco_Friendly'] == 0]['Rating_Count']))"
   ]
  },
  {
   "cell_type": "code",
   "execution_count": 140,
   "metadata": {},
   "outputs": [
    {
     "name": "stdout",
     "output_type": "stream",
     "text": [
      " Multiple Comparison of Means - Tukey HSD, FWER=0.05 \n",
      "=====================================================\n",
      "group1 group2 meandiff p-adj  lower    upper   reject\n",
      "-----------------------------------------------------\n",
      "     0      1 157.9769   0.0 117.0779 198.8758   True\n",
      "-----------------------------------------------------\n"
     ]
    }
   ],
   "source": [
    "from statsmodels.stats.multicomp import pairwise_tukeyhsd\n",
    "\n",
    "posthoc = pairwise_tukeyhsd(endog=women_append['Rating_Count'], groups=women_append['Eco_Friendly'], alpha=0.05)\n",
    "print(posthoc)"
   ]
  },
  {
   "cell_type": "markdown",
   "metadata": {},
   "source": [
    " A higher F-statistic suggests a larger difference in means between the groups.\n",
    " The probability associated with the F-statistic is extremely low (1.94e-05), indicating that the observed difference in means is highly unlikely to occur by random chance alone. In other words, there is strong evidence against the null hypothesis, which posits that there is no difference in ratings between eco-friendly and non-eco-friendly products."
   ]
  },
  {
   "cell_type": "code",
   "execution_count": null,
   "metadata": {},
   "outputs": [],
   "source": [
    "pip install statsmodels"
   ]
  },
  {
   "cell_type": "code",
   "execution_count": 143,
   "metadata": {},
   "outputs": [
    {
     "name": "stdout",
     "output_type": "stream",
     "text": [
      "                            OLS Regression Results                            \n",
      "==============================================================================\n",
      "Dep. Variable:                 Rating   R-squared:                       0.009\n",
      "Model:                            OLS   Adj. R-squared:                  0.008\n",
      "Method:                 Least Squares   F-statistic:                     20.02\n",
      "Date:                Sun, 28 Apr 2024   Prob (F-statistic):           8.02e-06\n",
      "Time:                        17:53:22   Log-Likelihood:                -4280.7\n",
      "No. Observations:                2280   AIC:                             8565.\n",
      "Df Residuals:                    2278   BIC:                             8577.\n",
      "Df Model:                           1                                         \n",
      "Covariance Type:            nonrobust                                         \n",
      "================================================================================\n",
      "                   coef    std err          t      P>|t|      [0.025      0.975]\n",
      "--------------------------------------------------------------------------------\n",
      "const            3.6563      0.039     92.621      0.000       3.579       3.734\n",
      "Eco_Friendly     0.3251      0.073      4.475      0.000       0.183       0.468\n",
      "==============================================================================\n",
      "Omnibus:                      665.487   Durbin-Watson:                   1.206\n",
      "Prob(Omnibus):                  0.000   Jarque-Bera (JB):             1400.626\n",
      "Skew:                          -1.771   Prob(JB):                    7.21e-305\n",
      "Kurtosis:                       4.483   Cond. No.                         2.43\n",
      "==============================================================================\n",
      "\n",
      "Notes:\n",
      "[1] Standard Errors assume that the covariance matrix of the errors is correctly specified.\n"
     ]
    }
   ],
   "source": [
    "import statsmodels.api as sm\n",
    "\n",
    "X = sm.add_constant(women_append['Eco_Friendly'])\n",
    "y = women_append['Rating']\n",
    "\n",
    "# Fit the linear regression model\n",
    "model = sm.OLS(y, X).fit()\n",
    "\n",
    "print(model.summary())"
   ]
  },
  {
   "cell_type": "markdown",
   "metadata": {},
   "source": [
    "(R-squared) = 0.009\n",
    "(Adj. R-squared) = 0.008\n",
    "These values suggest that only about 0.9% of the variability in ratings is explained by the eco-friendliness of the products included in the model. This indicates that the model has very low explanatory power, meaning that the independent variable (Eco_Friendly) does not explain much of the variability in the dependent variable (Rating). Therefore, the model may not be very accurate or effective in predicting ratings based on eco-friendliness alone."
   ]
  },
  {
   "cell_type": "markdown",
   "metadata": {},
   "source": [
    "### Correlation Between Price Level (Average Price) & Rating or Rating Count"
   ]
  },
  {
   "cell_type": "code",
   "execution_count": 145,
   "metadata": {},
   "outputs": [
    {
     "name": "stdout",
     "output_type": "stream",
     "text": [
      "  Selling_Price  Avg_Selling_Price\n",
      "0   78.00$98.00             88.000\n",
      "1         55.00             55.000\n",
      "2         48.00             48.000\n",
      "3         41.00             41.000\n",
      "4         79.95             79.950\n",
      "5   48.00$69.95             58.975\n",
      "6         41.00             41.000\n",
      "7         59.95             59.950\n",
      "8   47.00$79.95             63.475\n",
      "9         34.00             34.000\n"
     ]
    }
   ],
   "source": [
    "import pandas as pd\n",
    "\n",
    "# Define a function to calculate the average price from a price string\n",
    "def extract_average_price(price_str):\n",
    "    if isinstance(price_str, str):\n",
    "        prices = price_str.split('$')\n",
    "        try:\n",
    "            prices = [float(price) for price in prices if price.strip()]\n",
    "            if prices:  # Check if the list is not empty\n",
    "                return sum(prices) / len(prices)\n",
    "            else:\n",
    "                return None\n",
    "        except ValueError:\n",
    "            return None\n",
    "    else:\n",
    "        return None\n",
    "\n",
    "women_append['Avg_Selling_Price'] = women_append['Selling_Price'].apply(extract_average_price)\n",
    "\n",
    "print(women_append[['Selling_Price', 'Avg_Selling_Price']].head(10))"
   ]
  },
  {
   "cell_type": "code",
   "execution_count": 146,
   "metadata": {},
   "outputs": [
    {
     "data": {
      "text/plain": [
       "50    63.00$79.95\n",
       "51    29.00$59.95\n",
       "52    47.00$79.95\n",
       "53          34.00\n",
       "54          55.00\n",
       "55          55.00\n",
       "56          48.00\n",
       "57          55.00\n",
       "58          55.00\n",
       "59          48.00\n",
       "60    39.00$79.95\n",
       "61          55.00\n",
       "62          55.00\n",
       "63    44.99$59.95\n",
       "64          59.99\n",
       "65    34.99$69.95\n",
       "66          19.99\n",
       "67    34.99$69.95\n",
       "68    59.99$89.95\n",
       "69          49.99\n",
       "70    59.99$79.95\n",
       "71    59.99$79.95\n",
       "72          29.99\n",
       "73    74.99$98.00\n",
       "74          59.99\n",
       "75    59.99$79.95\n",
       "76          39.99\n",
       "77    44.99$59.95\n",
       "78          39.99\n",
       "79    59.99$89.95\n",
       "80          49.99\n",
       "81    74.99$98.00\n",
       "82    69.99$89.95\n",
       "83          19.99\n",
       "84          34.99\n",
       "85          39.99\n",
       "86          34.99\n",
       "87          59.99\n",
       "88          39.99\n",
       "89     9.97$49.95\n",
       "90          29.97\n",
       "91          44.99\n",
       "92    69.99$89.95\n",
       "93    74.99$98.00\n",
       "94          44.99\n",
       "95          54.99\n",
       "96    69.99$89.95\n",
       "97    44.99$89.95\n",
       "98          20.97\n",
       "99    59.99$89.95\n",
       "Name: Selling_Price, dtype: object"
      ]
     },
     "execution_count": 146,
     "metadata": {},
     "output_type": "execute_result"
    }
   ],
   "source": [
    "women_append['Selling_Price'][50:100]"
   ]
  },
  {
   "cell_type": "code",
   "execution_count": 147,
   "metadata": {},
   "outputs": [
    {
     "name": "stdout",
     "output_type": "stream",
     "text": [
      "Number of nulls in Selling_Price: 0\n"
     ]
    }
   ],
   "source": [
    "num_nulls_selling_price = women_append['Selling_Price'].isnull().sum()\n",
    "print(\"Number of nulls in Selling_Price:\", num_nulls_selling_price)"
   ]
  },
  {
   "cell_type": "code",
   "execution_count": 148,
   "metadata": {},
   "outputs": [
    {
     "name": "stdout",
     "output_type": "stream",
     "text": [
      "86\n"
     ]
    }
   ],
   "source": [
    "# Display the number of null values\n",
    "print(women_append['Avg_Selling_Price'].isnull().sum())"
   ]
  },
  {
   "cell_type": "code",
   "execution_count": 149,
   "metadata": {},
   "outputs": [
    {
     "name": "stdout",
     "output_type": "stream",
     "text": [
      "Remaining rows after dropping nulls: 2194\n"
     ]
    }
   ],
   "source": [
    "cleaned_data = women_append.dropna(subset=['Avg_Selling_Price'])\n",
    "print(\"Remaining rows after dropping nulls:\", cleaned_data.shape[0])\n"
   ]
  },
  {
   "cell_type": "code",
   "execution_count": 150,
   "metadata": {},
   "outputs": [
    {
     "name": "stdout",
     "output_type": "stream",
     "text": [
      "                   Avg_Selling_Price    Rating  Rating_Count\n",
      "Avg_Selling_Price           1.000000 -0.214907     -0.258139\n",
      "Rating                     -0.214907  1.000000      0.211932\n",
      "Rating_Count               -0.258139  0.211932      1.000000\n"
     ]
    }
   ],
   "source": [
    "# the correlation matrix\n",
    "correlation_matrix = cleaned_data[['Avg_Selling_Price', 'Rating', 'Rating_Count']].corr()\n",
    "print(correlation_matrix)"
   ]
  },
  {
   "cell_type": "code",
   "execution_count": 151,
   "metadata": {},
   "outputs": [
    {
     "data": {
      "image/png": "[encoded data removed]",
      "text/plain": [
       "<Figure size 800x600 with 2 Axes>"
      ]
     },
     "metadata": {},
     "output_type": "display_data"
    }
   ],
   "source": [
    "# Visualize the correlation matrix with a heatmap\n",
    "plt.figure(figsize=(8, 6))\n",
    "sns.heatmap(correlation_matrix, annot=True, cmap='coolwarm', fmt=\".2f\")\n",
    "plt.title('Correlation Matrix')\n",
    "plt.show()"
   ]
  },
  {
   "cell_type": "markdown",
   "metadata": {},
   "source": [
    "### Below contents are code for exploring if other models suit the anaysis (but they are no used in the thesis):"
   ]
  },
  {
   "cell_type": "code",
   "execution_count": 152,
   "metadata": {},
   "outputs": [
    {
     "name": "stdout",
     "output_type": "stream",
     "text": [
      "                            OLS Regression Results                            \n",
      "==============================================================================\n",
      "Dep. Variable:                 Rating   R-squared:                       0.046\n",
      "Model:                            OLS   Adj. R-squared:                  0.046\n",
      "Method:                 Least Squares   F-statistic:                     106.1\n",
      "Date:                Sun, 28 Apr 2024   Prob (F-statistic):           2.44e-24\n",
      "Time:                        17:58:37   Log-Likelihood:                -3990.4\n",
      "No. Observations:                2194   AIC:                             7985.\n",
      "Df Residuals:                    2192   BIC:                             7996.\n",
      "Df Model:                           1                                         \n",
      "Covariance Type:            nonrobust                                         \n",
      "=====================================================================================\n",
      "                        coef    std err          t      P>|t|      [0.025      0.975]\n",
      "-------------------------------------------------------------------------------------\n",
      "Intercept             4.4096      0.066     66.722      0.000       4.280       4.539\n",
      "Avg_Selling_Price    -0.0126      0.001    -10.302      0.000      -0.015      -0.010\n",
      "==============================================================================\n",
      "Omnibus:                      683.417   Durbin-Watson:                   1.197\n",
      "Prob(Omnibus):                  0.000   Jarque-Bera (JB):             1547.355\n",
      "Skew:                          -1.806   Prob(JB):                         0.00\n",
      "Kurtosis:                       4.971   Cond. No.                         112.\n",
      "==============================================================================\n",
      "\n",
      "Notes:\n",
      "[1] Standard Errors assume that the covariance matrix of the errors is correctly specified.\n"
     ]
    }
   ],
   "source": [
    "# Linear regression model for Rating as a function of Avg_Selling_Price\n",
    "from statsmodels.formula.api import ols\n",
    "model_rating = ols('Rating ~ Avg_Selling_Price', data=cleaned_data).fit()\n",
    "print(model_rating.summary())"
   ]
  },
  {
   "cell_type": "code",
   "execution_count": 153,
   "metadata": {},
   "outputs": [
    {
     "name": "stdout",
     "output_type": "stream",
     "text": [
      "                            OLS Regression Results                            \n",
      "==============================================================================\n",
      "Dep. Variable:           Rating_Count   R-squared:                       0.067\n",
      "Model:                            OLS   Adj. R-squared:                  0.066\n",
      "Method:                 Least Squares   F-statistic:                     156.5\n",
      "Date:                Sun, 28 Apr 2024   Prob (F-statistic):           9.84e-35\n",
      "Time:                        17:58:40   Log-Likelihood:                -16517.\n",
      "No. Observations:                2194   AIC:                         3.304e+04\n",
      "Df Residuals:                    2192   BIC:                         3.305e+04\n",
      "Df Model:                           1                                         \n",
      "Covariance Type:            nonrobust                                         \n",
      "=====================================================================================\n",
      "                        coef    std err          t      P>|t|      [0.025      0.975]\n",
      "-------------------------------------------------------------------------------------\n",
      "Intercept           454.1713     19.936     22.782      0.000     415.077     493.266\n",
      "Avg_Selling_Price    -4.6122      0.369    -12.510      0.000      -5.335      -3.889\n",
      "==============================================================================\n",
      "Omnibus:                     1832.812   Durbin-Watson:                   1.559\n",
      "Prob(Omnibus):                  0.000   Jarque-Bera (JB):            44341.637\n",
      "Skew:                           3.923   Prob(JB):                         0.00\n",
      "Kurtosis:                      23.579   Cond. No.                         112.\n",
      "==============================================================================\n",
      "\n",
      "Notes:\n",
      "[1] Standard Errors assume that the covariance matrix of the errors is correctly specified.\n"
     ]
    }
   ],
   "source": [
    "# Linear regression model for Rating_Count as a function of Avg_Selling_Price\n",
    "model_rating_count = ols('Rating_Count ~ Avg_Selling_Price', data=cleaned_data).fit()\n",
    "print(model_rating_count.summary())"
   ]
  },
  {
   "cell_type": "code",
   "execution_count": 154,
   "metadata": {},
   "outputs": [
    {
     "name": "stdout",
     "output_type": "stream",
     "text": [
      "                               OLS Regression Results                               \n",
      "====================================================================================\n",
      "Dep. Variable:     Logit_Transformed_Rating   R-squared:                       0.039\n",
      "Model:                                  OLS   Adj. R-squared:                  0.038\n",
      "Method:                       Least Squares   F-statistic:                     88.54\n",
      "Date:                      Sun, 28 Apr 2024   Prob (F-statistic):           1.21e-20\n",
      "Time:                              17:58:43   Log-Likelihood:                -4695.3\n",
      "No. Observations:                      2194   AIC:                             9395.\n",
      "Df Residuals:                          2192   BIC:                             9406.\n",
      "Df Model:                                 1                                         \n",
      "Covariance Type:                  nonrobust                                         \n",
      "=====================================================================================\n",
      "                        coef    std err          t      P>|t|      [0.025      0.975]\n",
      "-------------------------------------------------------------------------------------\n",
      "Intercept             1.9717      0.091     21.637      0.000       1.793       2.150\n",
      "Avg_Selling_Price    -0.0159      0.002     -9.410      0.000      -0.019      -0.013\n",
      "==============================================================================\n",
      "Omnibus:                      588.190   Durbin-Watson:                   1.313\n",
      "Prob(Omnibus):                  0.000   Jarque-Bera (JB):             1209.465\n",
      "Skew:                          -1.593   Prob(JB):                    2.33e-263\n",
      "Kurtosis:                       4.755   Cond. No.                         112.\n",
      "==============================================================================\n",
      "\n",
      "Notes:\n",
      "[1] Standard Errors assume that the covariance matrix of the errors is correctly specified.\n"
     ]
    },
    {
     "name": "stderr",
     "output_type": "stream",
     "text": [
      "/var/folders/7d/h1g1jjsx7cz7bh8s1zzknl9w0000gn/T/ipykernel_69401/308858640.py:7: SettingWithCopyWarning: \n",
      "A value is trying to be set on a copy of a slice from a DataFrame.\n",
      "Try using .loc[row_indexer,col_indexer] = value instead\n",
      "\n",
      "See the caveats in the documentation: https://pandas.pydata.org/pandas-docs/stable/user_guide/indexing.html#returning-a-view-versus-a-copy\n",
      "  cleaned_data['Transformed_Rating'] = (cleaned_data['Rating'] + 0.1) / 5.2  # slight offset to avoid exact 0 and 1\n",
      "/var/folders/7d/h1g1jjsx7cz7bh8s1zzknl9w0000gn/T/ipykernel_69401/308858640.py:10: SettingWithCopyWarning: \n",
      "A value is trying to be set on a copy of a slice from a DataFrame.\n",
      "Try using .loc[row_indexer,col_indexer] = value instead\n",
      "\n",
      "See the caveats in the documentation: https://pandas.pydata.org/pandas-docs/stable/user_guide/indexing.html#returning-a-view-versus-a-copy\n",
      "  cleaned_data['Logit_Transformed_Rating'] = np.log(cleaned_data['Transformed_Rating'] / (1 - cleaned_data['Transformed_Rating']))\n"
     ]
    }
   ],
   "source": [
    "import pandas as pd\n",
    "import numpy as np\n",
    "import statsmodels.api as sm\n",
    "import statsmodels.formula.api as smf\n",
    "\n",
    "# First, transform the rating to be between 0 and 1\n",
    "cleaned_data['Transformed_Rating'] = (cleaned_data['Rating'] + 0.1) / 5.2  # slight offset to avoid exact 0 and 1\n",
    "\n",
    "# Apply a logit transformation\n",
    "cleaned_data['Logit_Transformed_Rating'] = np.log(cleaned_data['Transformed_Rating'] / (1 - cleaned_data['Transformed_Rating']))\n",
    "\n",
    "# Fit a linear regression model on the transformed rating\n",
    "model_transformed = smf.ols('Logit_Transformed_Rating ~ Avg_Selling_Price', data=cleaned_data).fit()\n",
    "print(model_transformed.summary())"
   ]
  },
  {
   "cell_type": "code",
   "execution_count": 155,
   "metadata": {},
   "outputs": [
    {
     "name": "stdout",
     "output_type": "stream",
     "text": [
      "                 Generalized Linear Model Regression Results                  \n",
      "==============================================================================\n",
      "Dep. Variable:           Rating_Count   No. Observations:                 2194\n",
      "Model:                            GLM   Df Residuals:                     2192\n",
      "Model Family:                 Poisson   Df Model:                            1\n",
      "Link Function:                    Log   Scale:                          1.0000\n",
      "Method:                          IRLS   Log-Likelihood:            -4.8305e+05\n",
      "Date:                Sun, 28 Apr 2024   Deviance:                   9.5431e+05\n",
      "Time:                        17:59:01   Pearson chi2:                 1.47e+06\n",
      "No. Iterations:                     6   Pseudo R-squ. (CS):              1.000\n",
      "Covariance Type:            nonrobust                                         \n",
      "=====================================================================================\n",
      "                        coef    std err          z      P>|z|      [0.025      0.975]\n",
      "-------------------------------------------------------------------------------------\n",
      "Intercept             6.4735      0.003   2392.182      0.000       6.468       6.479\n",
      "Avg_Selling_Price    -0.0252   6.81e-05   -369.274      0.000      -0.025      -0.025\n",
      "=====================================================================================\n"
     ]
    }
   ],
   "source": [
    "# Fit a Poisson regression model\n",
    "model_poisson = smf.glm('Rating_Count ~ Avg_Selling_Price', data=cleaned_data, \n",
    "                        family=sm.families.Poisson()).fit()\n",
    "print(model_poisson.summary())"
   ]
  },
  {
   "cell_type": "code",
   "execution_count": 156,
   "metadata": {},
   "outputs": [
    {
     "data": {
      "text/plain": [
       "0"
      ]
     },
     "execution_count": 156,
     "metadata": {},
     "output_type": "execute_result"
    }
   ],
   "source": [
    "cleaned_data['Eco_Friendly'].isnull().sum()"
   ]
  },
  {
   "cell_type": "code",
   "execution_count": 157,
   "metadata": {},
   "outputs": [
    {
     "name": "stdout",
     "output_type": "stream",
     "text": [
      "                            OLS Regression Results                            \n",
      "==============================================================================\n",
      "Dep. Variable:                 Rating   R-squared:                       0.058\n",
      "Model:                            OLS   Adj. R-squared:                  0.057\n",
      "Method:                 Least Squares   F-statistic:                     67.51\n",
      "Date:                Sun, 28 Apr 2024   Prob (F-statistic):           3.52e-29\n",
      "Time:                        18:02:06   Log-Likelihood:                -3976.7\n",
      "No. Observations:                2194   AIC:                             7959.\n",
      "Df Residuals:                    2191   BIC:                             7976.\n",
      "Df Model:                           2                                         \n",
      "Covariance Type:            nonrobust                                         \n",
      "========================================================================================\n",
      "                           coef    std err          t      P>|t|      [0.025      0.975]\n",
      "----------------------------------------------------------------------------------------\n",
      "Intercept                4.3298      0.067     64.217      0.000       4.198       4.462\n",
      "C(Eco_Friendly)[T.1]     0.3666      0.070      5.254      0.000       0.230       0.503\n",
      "Avg_Selling_Price       -0.0132      0.001    -10.807      0.000      -0.016      -0.011\n",
      "==============================================================================\n",
      "Omnibus:                      653.791   Durbin-Watson:                   1.216\n",
      "Prob(Omnibus):                  0.000   Jarque-Bera (JB):             1428.823\n",
      "Skew:                          -1.747   Prob(JB):                    5.43e-311\n",
      "Kurtosis:                       4.848   Cond. No.                         130.\n",
      "==============================================================================\n",
      "\n",
      "Notes:\n",
      "[1] Standard Errors assume that the covariance matrix of the errors is correctly specified.\n"
     ]
    }
   ],
   "source": [
    "# Multiple Regression Analysis\n",
    "model = ols('Rating ~ C(Eco_Friendly) + Avg_Selling_Price', data=cleaned_data).fit()\n",
    "print(model.summary())"
   ]
  },
  {
   "cell_type": "code",
   "execution_count": 158,
   "metadata": {},
   "outputs": [
    {
     "name": "stdout",
     "output_type": "stream",
     "text": [
      "                            OLS Regression Results                            \n",
      "==============================================================================\n",
      "Dep. Variable:           Rating_Count   R-squared:                       0.101\n",
      "Model:                            OLS   Adj. R-squared:                  0.100\n",
      "Method:                 Least Squares   F-statistic:                     123.1\n",
      "Date:                Sun, 28 Apr 2024   Prob (F-statistic):           2.12e-51\n",
      "Time:                        18:02:09   Log-Likelihood:                -16475.\n",
      "No. Observations:                2194   AIC:                         3.296e+04\n",
      "Df Residuals:                    2191   BIC:                         3.297e+04\n",
      "Df Model:                           2                                         \n",
      "Covariance Type:            nonrobust                                         \n",
      "========================================================================================\n",
      "                           coef    std err          t      P>|t|      [0.025      0.975]\n",
      "----------------------------------------------------------------------------------------\n",
      "Intercept              412.7464     20.086     20.549      0.000     373.358     452.135\n",
      "C(Eco_Friendly)[T.1]   190.3257     20.787      9.156      0.000     149.561     231.090\n",
      "Avg_Selling_Price       -4.9206      0.363    -13.538      0.000      -5.633      -4.208\n",
      "==============================================================================\n",
      "Omnibus:                     1725.718   Durbin-Watson:                   1.558\n",
      "Prob(Omnibus):                  0.000   Jarque-Bera (JB):            35341.438\n",
      "Skew:                           3.644   Prob(JB):                         0.00\n",
      "Kurtosis:                      21.262   Cond. No.                         130.\n",
      "==============================================================================\n",
      "\n",
      "Notes:\n",
      "[1] Standard Errors assume that the covariance matrix of the errors is correctly specified.\n"
     ]
    }
   ],
   "source": [
    "# Multiple Regression Analysis\n",
    "model = ols('Rating_Count ~ C(Eco_Friendly) + Avg_Selling_Price', data=cleaned_data).fit()\n",
    "print(model.summary())"
   ]
  },
  {
   "cell_type": "code",
   "execution_count": 160,
   "metadata": {},
   "outputs": [
    {
     "data": {
      "image/png": "[encoded data removed]",
      "text/plain": [
       "<Figure size 640x480 with 1 Axes>"
      ]
     },
     "metadata": {},
     "output_type": "display_data"
    }
   ],
   "source": [
    "sns.regplot(data=cleaned_data, x='Avg_Selling_Price', y='Rating_Count', ci=None)\n",
    "plt.show()"
   ]
  },
  {
   "cell_type": "code",
   "execution_count": 161,
   "metadata": {},
   "outputs": [
    {
     "name": "stdout",
     "output_type": "stream",
     "text": [
      "                            OLS Regression Results                            \n",
      "==============================================================================\n",
      "Dep. Variable:                 Rating   R-squared:                       0.046\n",
      "Model:                            OLS   Adj. R-squared:                  0.046\n",
      "Method:                 Least Squares   F-statistic:                     106.1\n",
      "Date:                Sun, 28 Apr 2024   Prob (F-statistic):           2.44e-24\n",
      "Time:                        18:03:50   Log-Likelihood:                -3990.4\n",
      "No. Observations:                2194   AIC:                             7985.\n",
      "Df Residuals:                    2192   BIC:                             7996.\n",
      "Df Model:                           1                                         \n",
      "Covariance Type:            nonrobust                                         \n",
      "=====================================================================================\n",
      "                        coef    std err          t      P>|t|      [0.025      0.975]\n",
      "-------------------------------------------------------------------------------------\n",
      "const                 4.4096      0.066     66.722      0.000       4.280       4.539\n",
      "Avg_Selling_Price    -0.0126      0.001    -10.302      0.000      -0.015      -0.010\n",
      "==============================================================================\n",
      "Omnibus:                      683.417   Durbin-Watson:                   1.197\n",
      "Prob(Omnibus):                  0.000   Jarque-Bera (JB):             1547.355\n",
      "Skew:                          -1.806   Prob(JB):                         0.00\n",
      "Kurtosis:                       4.971   Cond. No.                         112.\n",
      "==============================================================================\n",
      "\n",
      "Notes:\n",
      "[1] Standard Errors assume that the covariance matrix of the errors is correctly specified.\n"
     ]
    }
   ],
   "source": [
    "import statsmodels.api as sm\n",
    "\n",
    "X_price = sm.add_constant(cleaned_data['Avg_Selling_Price'])  # Add a constant term for the intercept\n",
    "\n",
    "# For Rating\n",
    "model_rating = sm.OLS(cleaned_data['Rating'], X_price).fit()\n",
    "print(model_rating.summary())\n"
   ]
  },
  {
   "cell_type": "code",
   "execution_count": 162,
   "metadata": {},
   "outputs": [
    {
     "name": "stdout",
     "output_type": "stream",
     "text": [
      "                            OLS Regression Results                            \n",
      "==============================================================================\n",
      "Dep. Variable:           Rating_Count   R-squared:                       0.067\n",
      "Model:                            OLS   Adj. R-squared:                  0.066\n",
      "Method:                 Least Squares   F-statistic:                     156.5\n",
      "Date:                Sun, 28 Apr 2024   Prob (F-statistic):           9.84e-35\n",
      "Time:                        18:04:07   Log-Likelihood:                -16517.\n",
      "No. Observations:                2194   AIC:                         3.304e+04\n",
      "Df Residuals:                    2192   BIC:                         3.305e+04\n",
      "Df Model:                           1                                         \n",
      "Covariance Type:            nonrobust                                         \n",
      "=====================================================================================\n",
      "                        coef    std err          t      P>|t|      [0.025      0.975]\n",
      "-------------------------------------------------------------------------------------\n",
      "const               454.1713     19.936     22.782      0.000     415.077     493.266\n",
      "Avg_Selling_Price    -4.6122      0.369    -12.510      0.000      -5.335      -3.889\n",
      "==============================================================================\n",
      "Omnibus:                     1832.812   Durbin-Watson:                   1.559\n",
      "Prob(Omnibus):                  0.000   Jarque-Bera (JB):            44341.637\n",
      "Skew:                           3.923   Prob(JB):                         0.00\n",
      "Kurtosis:                      23.579   Cond. No.                         112.\n",
      "==============================================================================\n",
      "\n",
      "Notes:\n",
      "[1] Standard Errors assume that the covariance matrix of the errors is correctly specified.\n"
     ]
    }
   ],
   "source": [
    "# For Rating Count\n",
    "model_rating_count = sm.OLS(cleaned_data['Rating_Count'], X_price).fit()\n",
    "print(model_rating_count.summary())"
   ]
  },
  {
   "cell_type": "code",
   "execution_count": null,
   "metadata": {},
   "outputs": [],
   "source": [
    "# Model for Rating with Avg_Selling_Price and Eco_Friendly\n",
    "model_rating = smf.ols('Rating ~ Avg_Selling_Price + Eco_Friendly', data=cleaned_data).fit()\n",
    "print(\"Model for Rating with Avg_Selling_Price and Eco_Friendly:\")\n",
    "print(model_rating.summary())"
   ]
  },
  {
   "cell_type": "code",
   "execution_count": null,
   "metadata": {},
   "outputs": [],
   "source": [
    "# Model for Rating_Count with Avg_Selling_Price and Eco_Friendly\n",
    "model_rating_count = smf.ols('Rating_Count ~ Avg_Selling_Price + Eco_Friendly', data=cleaned_data).fit()\n",
    "print(\"\\nModel for Rating_Count with Avg_Selling_Price and Eco_Friendly:\")\n",
    "print(model_rating_count.summary())"
   ]
  }
 ],
 "metadata": {
  "kernelspec": {
   "display_name": "base",
   "language": "python",
   "name": "python3"
  },
  "language_info": {
   "codemirror_mode": {
    "name": "ipython",
    "version": 3
   },
   "file_extension": ".py",
   "mimetype": "text/x-python",
   "name": "python",
   "nbconvert_exporter": "python",
   "pygments_lexer": "ipython3",
   "version": "3.11.5"
  },
  "vscode": {
   "interpreter": {
    "hash": "11b41af75bb4721934f1ca71bacc33b475fd169cfb98c7b7c365325c6e165223"
   }
  }
 },
 "nbformat": 4,
 "nbformat_minor": 4
}
